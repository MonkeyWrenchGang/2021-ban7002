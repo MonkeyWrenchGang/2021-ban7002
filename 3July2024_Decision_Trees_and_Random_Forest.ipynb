{
  "cells": [
    {
      "cell_type": "markdown",
      "metadata": {
        "id": "view-in-github",
        "colab_type": "text"
      },
      "source": [
        "<a href=\"https://colab.research.google.com/github/MonkeyWrenchGang/2021-ban7002/blob/main/3July2024_Decision_Trees_and_Random_Forest.ipynb\" target=\"_parent\"><img src=\"https://colab.research.google.com/assets/colab-badge.svg\" alt=\"Open In Colab\"/></a>"
      ]
    },
    {
      "cell_type": "markdown",
      "metadata": {
        "id": "yT6gajKX1Fly"
      },
      "source": [
        "## Introduction to Decision Trees and Random Forests\n",
        "\n",
        "\n",
        "- **Mike Ames**\n",
        "- Email: amesam@wfu.edu\n",
        "- Date: July 3, 2024\n",
        "\n",
        "### Overview\n",
        "\n",
        "This notebook's goal is to highlight how decision trees fit into the world of Random Forests. Trees are \"weak-learners\" sensitive to the sample of rows and columns, Forests exploit this by combining training trees on different samples and evaluating a sample of potential splits.  \n",
        "\n",
        "### Structure\n",
        "\n",
        "1. **Load Packages**: Import the necessary libraries and modules required for the analysis.\n",
        "2. **Data Preparation**: Load and preprocess the dataset.\n",
        "3. **Decision Trees**:\n",
        "   - Train some Decision Trees\n",
        "   - Building and Visualizing a Decision Tree\n",
        "   - Evaluating the performance of the Decision Tree model\n",
        "   - Look into how different samples influence different trees\n",
        "4. **Random Forests**:\n",
        "   - Build a Random Forests\n",
        "   - Building and Visualizing trees from a Random Forest\n",
        "   - Evaluating the performance of the Random Forest model\n",
        "\n",
        "\n",
        "### Quote\n",
        "\n",
        "> \"And into the forest I go to lose my mind and find my soul.\" – John Muir\n",
        "\n"
      ]
    },
    {
      "cell_type": "markdown",
      "metadata": {
        "id": "XinpORlK1Fl1"
      },
      "source": [
        "### Load Packages\n",
        "-------\n",
        "\n"
      ]
    },
    {
      "cell_type": "code",
      "execution_count": 39,
      "metadata": {
        "colab": {
          "base_uri": "https://localhost:8080/",
          "height": 17
        },
        "id": "dcgTvbeG1Fl1",
        "outputId": "4fd1dd4f-0215-4e70-a3ec-09ab815165a1"
      },
      "outputs": [
        {
          "output_type": "display_data",
          "data": {
            "text/plain": [
              "<IPython.core.display.HTML object>"
            ],
            "text/html": [
              "<style>.container { width:90% }</style>"
            ]
          },
          "metadata": {}
        }
      ],
      "source": [
        "from IPython.core.display import display, HTML\n",
        "from IPython.display import clear_output\n",
        "display(HTML(\"<style>.container { width:90% }</style>\"))\n",
        "import warnings\n",
        "warnings.filterwarnings('ignore')\n",
        "# ------------------------------------------------------------------\n",
        "\n",
        "import numpy as np\n",
        "import matplotlib.pyplot as plt\n",
        "import seaborn as sns\n",
        "import pandas as pd\n",
        "\n",
        "# -- sklearn modules\n",
        "from sklearn.model_selection import train_test_split   #- partition train/test split\n",
        "from sklearn.metrics import accuracy_score, precision_score, recall_score, classification_report #\n",
        "from sklearn.tree import DecisionTreeClassifier        #- create a decison tree\n",
        "from sklearn.ensemble import RandomForestClassifier    #- random forest classifier\n",
        "from sklearn.tree import export_text                   #- export tree as text rules\n",
        "from sklearn import tree\n",
        "\n",
        "# -- visualize decision trees and decision surfaces\n",
        "import graphviz\n",
        "\n",
        "# -- need this to render charts in notebook --\n",
        "%matplotlib inline"
      ]
    },
    {
      "cell_type": "markdown",
      "metadata": {
        "id": "wTauqBit1Fl2"
      },
      "source": [
        "## 1. Stage\n",
        "-----\n",
        "import our dataset into a pandas dataframe\n"
      ]
    },
    {
      "cell_type": "code",
      "execution_count": 40,
      "metadata": {
        "colab": {
          "base_uri": "https://localhost:8080/",
          "height": 359
        },
        "id": "ZcMPWnqz1Fl2",
        "outputId": "11952547-5744-40dd-b4ed-f5210b01c72c"
      },
      "outputs": [
        {
          "output_type": "execute_result",
          "data": {
            "text/plain": [
              "  State  Account Length  Area Code     Phone Int'l Plan VMail Plan  \\\n",
              "0    KS             128        415  382-4657         no        yes   \n",
              "1    OH             107        415  371-7191         no        yes   \n",
              "2    NJ             137        415  358-1921         no         no   \n",
              "3    OH              84        408  375-9999        yes         no   \n",
              "4    OK              75        415  330-6626        yes         no   \n",
              "\n",
              "   VMail Message  Day Mins  Day Calls  Day Charge  ...  Eve Calls  Eve Charge  \\\n",
              "0             25     265.1        110       45.07  ...         99       16.78   \n",
              "1             26     161.6        123       27.47  ...        103       16.62   \n",
              "2              0     243.4        114       41.38  ...        110       10.30   \n",
              "3              0     299.4         71       50.90  ...         88        5.26   \n",
              "4              0     166.7        113       28.34  ...        122       12.61   \n",
              "\n",
              "   Night Mins  Night Calls  Night Charge  Intl Mins  Intl Calls  Intl Charge  \\\n",
              "0       244.7           91         11.01       10.0           3         2.70   \n",
              "1       254.4          103         11.45       13.7           3         3.70   \n",
              "2       162.6          104          7.32       12.2           5         3.29   \n",
              "3       196.9           89          8.86        6.6           7         1.78   \n",
              "4       186.9          121          8.41       10.1           3         2.73   \n",
              "\n",
              "   CustServ Calls  Churn?  \n",
              "0               1  False.  \n",
              "1               1  False.  \n",
              "2               0  False.  \n",
              "3               2  False.  \n",
              "4               3  False.  \n",
              "\n",
              "[5 rows x 21 columns]"
            ],
            "text/html": [
              "\n",
              "  <div id=\"df-ce052716-f54a-4535-af6f-dec314b13a71\" class=\"colab-df-container\">\n",
              "    <div>\n",
              "<style scoped>\n",
              "    .dataframe tbody tr th:only-of-type {\n",
              "        vertical-align: middle;\n",
              "    }\n",
              "\n",
              "    .dataframe tbody tr th {\n",
              "        vertical-align: top;\n",
              "    }\n",
              "\n",
              "    .dataframe thead th {\n",
              "        text-align: right;\n",
              "    }\n",
              "</style>\n",
              "<table border=\"1\" class=\"dataframe\">\n",
              "  <thead>\n",
              "    <tr style=\"text-align: right;\">\n",
              "      <th></th>\n",
              "      <th>State</th>\n",
              "      <th>Account Length</th>\n",
              "      <th>Area Code</th>\n",
              "      <th>Phone</th>\n",
              "      <th>Int'l Plan</th>\n",
              "      <th>VMail Plan</th>\n",
              "      <th>VMail Message</th>\n",
              "      <th>Day Mins</th>\n",
              "      <th>Day Calls</th>\n",
              "      <th>Day Charge</th>\n",
              "      <th>...</th>\n",
              "      <th>Eve Calls</th>\n",
              "      <th>Eve Charge</th>\n",
              "      <th>Night Mins</th>\n",
              "      <th>Night Calls</th>\n",
              "      <th>Night Charge</th>\n",
              "      <th>Intl Mins</th>\n",
              "      <th>Intl Calls</th>\n",
              "      <th>Intl Charge</th>\n",
              "      <th>CustServ Calls</th>\n",
              "      <th>Churn?</th>\n",
              "    </tr>\n",
              "  </thead>\n",
              "  <tbody>\n",
              "    <tr>\n",
              "      <th>0</th>\n",
              "      <td>KS</td>\n",
              "      <td>128</td>\n",
              "      <td>415</td>\n",
              "      <td>382-4657</td>\n",
              "      <td>no</td>\n",
              "      <td>yes</td>\n",
              "      <td>25</td>\n",
              "      <td>265.1</td>\n",
              "      <td>110</td>\n",
              "      <td>45.07</td>\n",
              "      <td>...</td>\n",
              "      <td>99</td>\n",
              "      <td>16.78</td>\n",
              "      <td>244.7</td>\n",
              "      <td>91</td>\n",
              "      <td>11.01</td>\n",
              "      <td>10.0</td>\n",
              "      <td>3</td>\n",
              "      <td>2.70</td>\n",
              "      <td>1</td>\n",
              "      <td>False.</td>\n",
              "    </tr>\n",
              "    <tr>\n",
              "      <th>1</th>\n",
              "      <td>OH</td>\n",
              "      <td>107</td>\n",
              "      <td>415</td>\n",
              "      <td>371-7191</td>\n",
              "      <td>no</td>\n",
              "      <td>yes</td>\n",
              "      <td>26</td>\n",
              "      <td>161.6</td>\n",
              "      <td>123</td>\n",
              "      <td>27.47</td>\n",
              "      <td>...</td>\n",
              "      <td>103</td>\n",
              "      <td>16.62</td>\n",
              "      <td>254.4</td>\n",
              "      <td>103</td>\n",
              "      <td>11.45</td>\n",
              "      <td>13.7</td>\n",
              "      <td>3</td>\n",
              "      <td>3.70</td>\n",
              "      <td>1</td>\n",
              "      <td>False.</td>\n",
              "    </tr>\n",
              "    <tr>\n",
              "      <th>2</th>\n",
              "      <td>NJ</td>\n",
              "      <td>137</td>\n",
              "      <td>415</td>\n",
              "      <td>358-1921</td>\n",
              "      <td>no</td>\n",
              "      <td>no</td>\n",
              "      <td>0</td>\n",
              "      <td>243.4</td>\n",
              "      <td>114</td>\n",
              "      <td>41.38</td>\n",
              "      <td>...</td>\n",
              "      <td>110</td>\n",
              "      <td>10.30</td>\n",
              "      <td>162.6</td>\n",
              "      <td>104</td>\n",
              "      <td>7.32</td>\n",
              "      <td>12.2</td>\n",
              "      <td>5</td>\n",
              "      <td>3.29</td>\n",
              "      <td>0</td>\n",
              "      <td>False.</td>\n",
              "    </tr>\n",
              "    <tr>\n",
              "      <th>3</th>\n",
              "      <td>OH</td>\n",
              "      <td>84</td>\n",
              "      <td>408</td>\n",
              "      <td>375-9999</td>\n",
              "      <td>yes</td>\n",
              "      <td>no</td>\n",
              "      <td>0</td>\n",
              "      <td>299.4</td>\n",
              "      <td>71</td>\n",
              "      <td>50.90</td>\n",
              "      <td>...</td>\n",
              "      <td>88</td>\n",
              "      <td>5.26</td>\n",
              "      <td>196.9</td>\n",
              "      <td>89</td>\n",
              "      <td>8.86</td>\n",
              "      <td>6.6</td>\n",
              "      <td>7</td>\n",
              "      <td>1.78</td>\n",
              "      <td>2</td>\n",
              "      <td>False.</td>\n",
              "    </tr>\n",
              "    <tr>\n",
              "      <th>4</th>\n",
              "      <td>OK</td>\n",
              "      <td>75</td>\n",
              "      <td>415</td>\n",
              "      <td>330-6626</td>\n",
              "      <td>yes</td>\n",
              "      <td>no</td>\n",
              "      <td>0</td>\n",
              "      <td>166.7</td>\n",
              "      <td>113</td>\n",
              "      <td>28.34</td>\n",
              "      <td>...</td>\n",
              "      <td>122</td>\n",
              "      <td>12.61</td>\n",
              "      <td>186.9</td>\n",
              "      <td>121</td>\n",
              "      <td>8.41</td>\n",
              "      <td>10.1</td>\n",
              "      <td>3</td>\n",
              "      <td>2.73</td>\n",
              "      <td>3</td>\n",
              "      <td>False.</td>\n",
              "    </tr>\n",
              "  </tbody>\n",
              "</table>\n",
              "<p>5 rows × 21 columns</p>\n",
              "</div>\n",
              "    <div class=\"colab-df-buttons\">\n",
              "\n",
              "  <div class=\"colab-df-container\">\n",
              "    <button class=\"colab-df-convert\" onclick=\"convertToInteractive('df-ce052716-f54a-4535-af6f-dec314b13a71')\"\n",
              "            title=\"Convert this dataframe to an interactive table.\"\n",
              "            style=\"display:none;\">\n",
              "\n",
              "  <svg xmlns=\"http://www.w3.org/2000/svg\" height=\"24px\" viewBox=\"0 -960 960 960\">\n",
              "    <path d=\"M120-120v-720h720v720H120Zm60-500h600v-160H180v160Zm220 220h160v-160H400v160Zm0 220h160v-160H400v160ZM180-400h160v-160H180v160Zm440 0h160v-160H620v160ZM180-180h160v-160H180v160Zm440 0h160v-160H620v160Z\"/>\n",
              "  </svg>\n",
              "    </button>\n",
              "\n",
              "  <style>\n",
              "    .colab-df-container {\n",
              "      display:flex;\n",
              "      gap: 12px;\n",
              "    }\n",
              "\n",
              "    .colab-df-convert {\n",
              "      background-color: #E8F0FE;\n",
              "      border: none;\n",
              "      border-radius: 50%;\n",
              "      cursor: pointer;\n",
              "      display: none;\n",
              "      fill: #1967D2;\n",
              "      height: 32px;\n",
              "      padding: 0 0 0 0;\n",
              "      width: 32px;\n",
              "    }\n",
              "\n",
              "    .colab-df-convert:hover {\n",
              "      background-color: #E2EBFA;\n",
              "      box-shadow: 0px 1px 2px rgba(60, 64, 67, 0.3), 0px 1px 3px 1px rgba(60, 64, 67, 0.15);\n",
              "      fill: #174EA6;\n",
              "    }\n",
              "\n",
              "    .colab-df-buttons div {\n",
              "      margin-bottom: 4px;\n",
              "    }\n",
              "\n",
              "    [theme=dark] .colab-df-convert {\n",
              "      background-color: #3B4455;\n",
              "      fill: #D2E3FC;\n",
              "    }\n",
              "\n",
              "    [theme=dark] .colab-df-convert:hover {\n",
              "      background-color: #434B5C;\n",
              "      box-shadow: 0px 1px 3px 1px rgba(0, 0, 0, 0.15);\n",
              "      filter: drop-shadow(0px 1px 2px rgba(0, 0, 0, 0.3));\n",
              "      fill: #FFFFFF;\n",
              "    }\n",
              "  </style>\n",
              "\n",
              "    <script>\n",
              "      const buttonEl =\n",
              "        document.querySelector('#df-ce052716-f54a-4535-af6f-dec314b13a71 button.colab-df-convert');\n",
              "      buttonEl.style.display =\n",
              "        google.colab.kernel.accessAllowed ? 'block' : 'none';\n",
              "\n",
              "      async function convertToInteractive(key) {\n",
              "        const element = document.querySelector('#df-ce052716-f54a-4535-af6f-dec314b13a71');\n",
              "        const dataTable =\n",
              "          await google.colab.kernel.invokeFunction('convertToInteractive',\n",
              "                                                    [key], {});\n",
              "        if (!dataTable) return;\n",
              "\n",
              "        const docLinkHtml = 'Like what you see? Visit the ' +\n",
              "          '<a target=\"_blank\" href=https://colab.research.google.com/notebooks/data_table.ipynb>data table notebook</a>'\n",
              "          + ' to learn more about interactive tables.';\n",
              "        element.innerHTML = '';\n",
              "        dataTable['output_type'] = 'display_data';\n",
              "        await google.colab.output.renderOutput(dataTable, element);\n",
              "        const docLink = document.createElement('div');\n",
              "        docLink.innerHTML = docLinkHtml;\n",
              "        element.appendChild(docLink);\n",
              "      }\n",
              "    </script>\n",
              "  </div>\n",
              "\n",
              "\n",
              "<div id=\"df-6a8a928a-3f2b-4878-8b45-d21387cedcb4\">\n",
              "  <button class=\"colab-df-quickchart\" onclick=\"quickchart('df-6a8a928a-3f2b-4878-8b45-d21387cedcb4')\"\n",
              "            title=\"Suggest charts\"\n",
              "            style=\"display:none;\">\n",
              "\n",
              "<svg xmlns=\"http://www.w3.org/2000/svg\" height=\"24px\"viewBox=\"0 0 24 24\"\n",
              "     width=\"24px\">\n",
              "    <g>\n",
              "        <path d=\"M19 3H5c-1.1 0-2 .9-2 2v14c0 1.1.9 2 2 2h14c1.1 0 2-.9 2-2V5c0-1.1-.9-2-2-2zM9 17H7v-7h2v7zm4 0h-2V7h2v10zm4 0h-2v-4h2v4z\"/>\n",
              "    </g>\n",
              "</svg>\n",
              "  </button>\n",
              "\n",
              "<style>\n",
              "  .colab-df-quickchart {\n",
              "      --bg-color: #E8F0FE;\n",
              "      --fill-color: #1967D2;\n",
              "      --hover-bg-color: #E2EBFA;\n",
              "      --hover-fill-color: #174EA6;\n",
              "      --disabled-fill-color: #AAA;\n",
              "      --disabled-bg-color: #DDD;\n",
              "  }\n",
              "\n",
              "  [theme=dark] .colab-df-quickchart {\n",
              "      --bg-color: #3B4455;\n",
              "      --fill-color: #D2E3FC;\n",
              "      --hover-bg-color: #434B5C;\n",
              "      --hover-fill-color: #FFFFFF;\n",
              "      --disabled-bg-color: #3B4455;\n",
              "      --disabled-fill-color: #666;\n",
              "  }\n",
              "\n",
              "  .colab-df-quickchart {\n",
              "    background-color: var(--bg-color);\n",
              "    border: none;\n",
              "    border-radius: 50%;\n",
              "    cursor: pointer;\n",
              "    display: none;\n",
              "    fill: var(--fill-color);\n",
              "    height: 32px;\n",
              "    padding: 0;\n",
              "    width: 32px;\n",
              "  }\n",
              "\n",
              "  .colab-df-quickchart:hover {\n",
              "    background-color: var(--hover-bg-color);\n",
              "    box-shadow: 0 1px 2px rgba(60, 64, 67, 0.3), 0 1px 3px 1px rgba(60, 64, 67, 0.15);\n",
              "    fill: var(--button-hover-fill-color);\n",
              "  }\n",
              "\n",
              "  .colab-df-quickchart-complete:disabled,\n",
              "  .colab-df-quickchart-complete:disabled:hover {\n",
              "    background-color: var(--disabled-bg-color);\n",
              "    fill: var(--disabled-fill-color);\n",
              "    box-shadow: none;\n",
              "  }\n",
              "\n",
              "  .colab-df-spinner {\n",
              "    border: 2px solid var(--fill-color);\n",
              "    border-color: transparent;\n",
              "    border-bottom-color: var(--fill-color);\n",
              "    animation:\n",
              "      spin 1s steps(1) infinite;\n",
              "  }\n",
              "\n",
              "  @keyframes spin {\n",
              "    0% {\n",
              "      border-color: transparent;\n",
              "      border-bottom-color: var(--fill-color);\n",
              "      border-left-color: var(--fill-color);\n",
              "    }\n",
              "    20% {\n",
              "      border-color: transparent;\n",
              "      border-left-color: var(--fill-color);\n",
              "      border-top-color: var(--fill-color);\n",
              "    }\n",
              "    30% {\n",
              "      border-color: transparent;\n",
              "      border-left-color: var(--fill-color);\n",
              "      border-top-color: var(--fill-color);\n",
              "      border-right-color: var(--fill-color);\n",
              "    }\n",
              "    40% {\n",
              "      border-color: transparent;\n",
              "      border-right-color: var(--fill-color);\n",
              "      border-top-color: var(--fill-color);\n",
              "    }\n",
              "    60% {\n",
              "      border-color: transparent;\n",
              "      border-right-color: var(--fill-color);\n",
              "    }\n",
              "    80% {\n",
              "      border-color: transparent;\n",
              "      border-right-color: var(--fill-color);\n",
              "      border-bottom-color: var(--fill-color);\n",
              "    }\n",
              "    90% {\n",
              "      border-color: transparent;\n",
              "      border-bottom-color: var(--fill-color);\n",
              "    }\n",
              "  }\n",
              "</style>\n",
              "\n",
              "  <script>\n",
              "    async function quickchart(key) {\n",
              "      const quickchartButtonEl =\n",
              "        document.querySelector('#' + key + ' button');\n",
              "      quickchartButtonEl.disabled = true;  // To prevent multiple clicks.\n",
              "      quickchartButtonEl.classList.add('colab-df-spinner');\n",
              "      try {\n",
              "        const charts = await google.colab.kernel.invokeFunction(\n",
              "            'suggestCharts', [key], {});\n",
              "      } catch (error) {\n",
              "        console.error('Error during call to suggestCharts:', error);\n",
              "      }\n",
              "      quickchartButtonEl.classList.remove('colab-df-spinner');\n",
              "      quickchartButtonEl.classList.add('colab-df-quickchart-complete');\n",
              "    }\n",
              "    (() => {\n",
              "      let quickchartButtonEl =\n",
              "        document.querySelector('#df-6a8a928a-3f2b-4878-8b45-d21387cedcb4 button');\n",
              "      quickchartButtonEl.style.display =\n",
              "        google.colab.kernel.accessAllowed ? 'block' : 'none';\n",
              "    })();\n",
              "  </script>\n",
              "</div>\n",
              "\n",
              "    </div>\n",
              "  </div>\n"
            ],
            "application/vnd.google.colaboratory.intrinsic+json": {
              "type": "dataframe",
              "variable_name": "df"
            }
          },
          "metadata": {},
          "execution_count": 40
        }
      ],
      "source": [
        "df = pd.read_csv(\"https://raw.githubusercontent.com/MonkeyWrenchGang/HandsOnDataScience_Python/master/Week_2/data/churn.csv\", na_values=\"?\")\n",
        "df.head()\n"
      ]
    },
    {
      "cell_type": "markdown",
      "metadata": {
        "id": "sQXm2YgV1Fl3"
      },
      "source": [
        "## 2.  Clean up Column Names\n",
        "\n",
        "*It's just not fun dealing with ill-formed columns*\n",
        "\n",
        "- remove leading and trailing characters\n",
        "- replace spaces with underscores _\n",
        "- change case to lower case\n",
        "- remove various special characters"
      ]
    },
    {
      "cell_type": "code",
      "execution_count": 41,
      "metadata": {
        "colab": {
          "base_uri": "https://localhost:8080/"
        },
        "id": "LcUDwtxx1Fl3",
        "outputId": "8dd3a821-0891-471a-fbeb-794db7376e31"
      },
      "outputs": [
        {
          "output_type": "execute_result",
          "data": {
            "text/plain": [
              "Index(['state', 'account_length', 'area_code', 'phone', 'intl_plan',\n",
              "       'vmail_plan', 'vmail_message', 'day_mins', 'day_calls', 'day_charge',\n",
              "       'eve_mins', 'eve_calls', 'eve_charge', 'night_mins', 'night_calls',\n",
              "       'night_charge', 'intl_mins', 'intl_calls', 'intl_charge',\n",
              "       'custserv_calls', 'churn'],\n",
              "      dtype='object')"
            ]
          },
          "metadata": {},
          "execution_count": 41
        }
      ],
      "source": [
        "df.columns = ( df.columns\n",
        "    .str.strip()\n",
        "    .str.lower()\n",
        "    .str.replace(' ', '_')\n",
        "    .str.replace('-', '_')\n",
        "    .str.replace('(', '')\n",
        "    .str.replace(')', '')\n",
        "    .str.replace('?', '')\n",
        "    .str.replace('\\'', '') # notice the backslash \\ this is an escape character\n",
        ")\n",
        "df.columns"
      ]
    },
    {
      "cell_type": "markdown",
      "metadata": {
        "id": "3l_3YB9e1Fl3"
      },
      "source": [
        "## 3. Describe data\n",
        "### Check Target\n",
        "-----\n",
        "always start by understanding your target value\n"
      ]
    },
    {
      "cell_type": "code",
      "execution_count": 42,
      "metadata": {
        "colab": {
          "base_uri": "https://localhost:8080/"
        },
        "id": "TtqId0Op1Fl3",
        "outputId": "50a2f097-c89e-4968-ebc3-17e2b3d5e35d"
      },
      "outputs": [
        {
          "output_type": "execute_result",
          "data": {
            "text/plain": [
              "churn\n",
              "False.    2850\n",
              "True.      483\n",
              "Name: count, dtype: int64"
            ]
          },
          "metadata": {},
          "execution_count": 42
        }
      ],
      "source": [
        "df['churn'].value_counts()"
      ]
    },
    {
      "cell_type": "code",
      "execution_count": 43,
      "metadata": {
        "colab": {
          "base_uri": "https://localhost:8080/",
          "height": 345
        },
        "id": "ZHirhkpf1Fl4",
        "outputId": "d066507a-ed8d-4f50-8dd4-16a5ad8f1697"
      },
      "outputs": [
        {
          "output_type": "display_data",
          "data": {
            "text/plain": [
              "<Figure size 2000x500 with 1 Axes>"
            ],
            "image/png": "[encoded data removed]"
          },
          "metadata": {}
        }
      ],
      "source": [
        "plt.figure(figsize=(20,5))\n",
        "# -- check out bottom\n",
        "res1 = df.groupby(['churn']).agg({\"account_length\":\"count\"}).reset_index().rename(columns={\"account_length\":\"count\"})\n",
        "\n",
        "sns.barplot(data=res1, x=\"churn\", y=\"count\")\n",
        "plt.title('Churn Count' )\n",
        "plt.ylabel('Count')\n",
        "plt.xticks(rotation=45)\n",
        "plt.xlabel(\"churn\")\n",
        "plt.show()\n"
      ]
    },
    {
      "cell_type": "code",
      "execution_count": 44,
      "metadata": {
        "colab": {
          "base_uri": "https://localhost:8080/"
        },
        "id": "tcFjx4bS1Fl4",
        "outputId": "54af939a-356a-4472-9f00-fb68f1924d5d"
      },
      "outputs": [
        {
          "output_type": "execute_result",
          "data": {
            "text/plain": [
              "['account_length',\n",
              " 'area_code',\n",
              " 'vmail_message',\n",
              " 'day_mins',\n",
              " 'day_calls',\n",
              " 'day_charge',\n",
              " 'eve_mins',\n",
              " 'eve_calls',\n",
              " 'eve_charge',\n",
              " 'night_mins',\n",
              " 'night_calls',\n",
              " 'night_charge',\n",
              " 'intl_mins',\n",
              " 'intl_calls',\n",
              " 'intl_charge',\n",
              " 'custserv_calls']"
            ]
          },
          "metadata": {},
          "execution_count": 44
        }
      ],
      "source": [
        "numeric_features = ['account_length', 'area_code', 'vmail_message', 'day_mins', 'day_calls',\n",
        "       'day_charge', 'eve_mins', 'eve_calls', 'eve_charge', 'night_mins',\n",
        "       'night_calls', 'night_charge', 'intl_mins', 'intl_calls', 'intl_charge',\n",
        "       'custserv_calls']\n",
        "\n",
        "numeric_features"
      ]
    },
    {
      "cell_type": "code",
      "execution_count": 45,
      "metadata": {
        "colab": {
          "base_uri": "https://localhost:8080/"
        },
        "id": "2QRNPREy1Fl4",
        "outputId": "00b45180-fbf7-4e65-ce65-34940b5c3ae2"
      },
      "outputs": [
        {
          "output_type": "execute_result",
          "data": {
            "text/plain": [
              "['state', 'intl_plan', 'vmail_plan']"
            ]
          },
          "metadata": {},
          "execution_count": 45
        }
      ],
      "source": [
        "categorical_features = ['state', 'intl_plan', 'vmail_plan']\n",
        "categorical_features"
      ]
    },
    {
      "cell_type": "code",
      "execution_count": 46,
      "metadata": {
        "id": "NOdpZDp51Fl4"
      },
      "outputs": [],
      "source": [
        "df_prep = df.copy()\n",
        "# 2. deal with nulls using fillna\n",
        "df_prep[numeric_features]     = df_prep[numeric_features].fillna(-1)\n",
        "df_prep[categorical_features] = df_prep[categorical_features].astype('str').fillna('missing')\n"
      ]
    },
    {
      "cell_type": "code",
      "execution_count": 47,
      "metadata": {
        "colab": {
          "base_uri": "https://localhost:8080/",
          "height": 255
        },
        "id": "m45zuLun1Fl4",
        "outputId": "cda81e22-7b71-4232-904f-74dfa4666d12"
      },
      "outputs": [
        {
          "output_type": "execute_result",
          "data": {
            "text/plain": [
              "    churn  account_length  area_code  vmail_message  day_mins  day_calls  \\\n",
              "0  False.             128        415             25     265.1        110   \n",
              "1  False.             107        415             26     161.6        123   \n",
              "2  False.             137        415              0     243.4        114   \n",
              "3  False.              84        408              0     299.4         71   \n",
              "4  False.              75        415              0     166.7        113   \n",
              "\n",
              "   day_charge  eve_mins  eve_calls  eve_charge  ...  state_VA  state_VT  \\\n",
              "0       45.07     197.4         99       16.78  ...     False     False   \n",
              "1       27.47     195.5        103       16.62  ...     False     False   \n",
              "2       41.38     121.2        110       10.30  ...     False     False   \n",
              "3       50.90      61.9         88        5.26  ...     False     False   \n",
              "4       28.34     148.3        122       12.61  ...     False     False   \n",
              "\n",
              "   state_WA  state_WI  state_WV  state_WY  intl_plan_no  intl_plan_yes  \\\n",
              "0     False     False     False     False          True          False   \n",
              "1     False     False     False     False          True          False   \n",
              "2     False     False     False     False          True          False   \n",
              "3     False     False     False     False         False           True   \n",
              "4     False     False     False     False         False           True   \n",
              "\n",
              "   vmail_plan_no  vmail_plan_yes  \n",
              "0          False            True  \n",
              "1          False            True  \n",
              "2           True           False  \n",
              "3           True           False  \n",
              "4           True           False  \n",
              "\n",
              "[5 rows x 72 columns]"
            ],
            "text/html": [
              "\n",
              "  <div id=\"df-9619e74d-f811-4d0e-80d5-2be464a090f1\" class=\"colab-df-container\">\n",
              "    <div>\n",
              "<style scoped>\n",
              "    .dataframe tbody tr th:only-of-type {\n",
              "        vertical-align: middle;\n",
              "    }\n",
              "\n",
              "    .dataframe tbody tr th {\n",
              "        vertical-align: top;\n",
              "    }\n",
              "\n",
              "    .dataframe thead th {\n",
              "        text-align: right;\n",
              "    }\n",
              "</style>\n",
              "<table border=\"1\" class=\"dataframe\">\n",
              "  <thead>\n",
              "    <tr style=\"text-align: right;\">\n",
              "      <th></th>\n",
              "      <th>churn</th>\n",
              "      <th>account_length</th>\n",
              "      <th>area_code</th>\n",
              "      <th>vmail_message</th>\n",
              "      <th>day_mins</th>\n",
              "      <th>day_calls</th>\n",
              "      <th>day_charge</th>\n",
              "      <th>eve_mins</th>\n",
              "      <th>eve_calls</th>\n",
              "      <th>eve_charge</th>\n",
              "      <th>...</th>\n",
              "      <th>state_VA</th>\n",
              "      <th>state_VT</th>\n",
              "      <th>state_WA</th>\n",
              "      <th>state_WI</th>\n",
              "      <th>state_WV</th>\n",
              "      <th>state_WY</th>\n",
              "      <th>intl_plan_no</th>\n",
              "      <th>intl_plan_yes</th>\n",
              "      <th>vmail_plan_no</th>\n",
              "      <th>vmail_plan_yes</th>\n",
              "    </tr>\n",
              "  </thead>\n",
              "  <tbody>\n",
              "    <tr>\n",
              "      <th>0</th>\n",
              "      <td>False.</td>\n",
              "      <td>128</td>\n",
              "      <td>415</td>\n",
              "      <td>25</td>\n",
              "      <td>265.1</td>\n",
              "      <td>110</td>\n",
              "      <td>45.07</td>\n",
              "      <td>197.4</td>\n",
              "      <td>99</td>\n",
              "      <td>16.78</td>\n",
              "      <td>...</td>\n",
              "      <td>False</td>\n",
              "      <td>False</td>\n",
              "      <td>False</td>\n",
              "      <td>False</td>\n",
              "      <td>False</td>\n",
              "      <td>False</td>\n",
              "      <td>True</td>\n",
              "      <td>False</td>\n",
              "      <td>False</td>\n",
              "      <td>True</td>\n",
              "    </tr>\n",
              "    <tr>\n",
              "      <th>1</th>\n",
              "      <td>False.</td>\n",
              "      <td>107</td>\n",
              "      <td>415</td>\n",
              "      <td>26</td>\n",
              "      <td>161.6</td>\n",
              "      <td>123</td>\n",
              "      <td>27.47</td>\n",
              "      <td>195.5</td>\n",
              "      <td>103</td>\n",
              "      <td>16.62</td>\n",
              "      <td>...</td>\n",
              "      <td>False</td>\n",
              "      <td>False</td>\n",
              "      <td>False</td>\n",
              "      <td>False</td>\n",
              "      <td>False</td>\n",
              "      <td>False</td>\n",
              "      <td>True</td>\n",
              "      <td>False</td>\n",
              "      <td>False</td>\n",
              "      <td>True</td>\n",
              "    </tr>\n",
              "    <tr>\n",
              "      <th>2</th>\n",
              "      <td>False.</td>\n",
              "      <td>137</td>\n",
              "      <td>415</td>\n",
              "      <td>0</td>\n",
              "      <td>243.4</td>\n",
              "      <td>114</td>\n",
              "      <td>41.38</td>\n",
              "      <td>121.2</td>\n",
              "      <td>110</td>\n",
              "      <td>10.30</td>\n",
              "      <td>...</td>\n",
              "      <td>False</td>\n",
              "      <td>False</td>\n",
              "      <td>False</td>\n",
              "      <td>False</td>\n",
              "      <td>False</td>\n",
              "      <td>False</td>\n",
              "      <td>True</td>\n",
              "      <td>False</td>\n",
              "      <td>True</td>\n",
              "      <td>False</td>\n",
              "    </tr>\n",
              "    <tr>\n",
              "      <th>3</th>\n",
              "      <td>False.</td>\n",
              "      <td>84</td>\n",
              "      <td>408</td>\n",
              "      <td>0</td>\n",
              "      <td>299.4</td>\n",
              "      <td>71</td>\n",
              "      <td>50.90</td>\n",
              "      <td>61.9</td>\n",
              "      <td>88</td>\n",
              "      <td>5.26</td>\n",
              "      <td>...</td>\n",
              "      <td>False</td>\n",
              "      <td>False</td>\n",
              "      <td>False</td>\n",
              "      <td>False</td>\n",
              "      <td>False</td>\n",
              "      <td>False</td>\n",
              "      <td>False</td>\n",
              "      <td>True</td>\n",
              "      <td>True</td>\n",
              "      <td>False</td>\n",
              "    </tr>\n",
              "    <tr>\n",
              "      <th>4</th>\n",
              "      <td>False.</td>\n",
              "      <td>75</td>\n",
              "      <td>415</td>\n",
              "      <td>0</td>\n",
              "      <td>166.7</td>\n",
              "      <td>113</td>\n",
              "      <td>28.34</td>\n",
              "      <td>148.3</td>\n",
              "      <td>122</td>\n",
              "      <td>12.61</td>\n",
              "      <td>...</td>\n",
              "      <td>False</td>\n",
              "      <td>False</td>\n",
              "      <td>False</td>\n",
              "      <td>False</td>\n",
              "      <td>False</td>\n",
              "      <td>False</td>\n",
              "      <td>False</td>\n",
              "      <td>True</td>\n",
              "      <td>True</td>\n",
              "      <td>False</td>\n",
              "    </tr>\n",
              "  </tbody>\n",
              "</table>\n",
              "<p>5 rows × 72 columns</p>\n",
              "</div>\n",
              "    <div class=\"colab-df-buttons\">\n",
              "\n",
              "  <div class=\"colab-df-container\">\n",
              "    <button class=\"colab-df-convert\" onclick=\"convertToInteractive('df-9619e74d-f811-4d0e-80d5-2be464a090f1')\"\n",
              "            title=\"Convert this dataframe to an interactive table.\"\n",
              "            style=\"display:none;\">\n",
              "\n",
              "  <svg xmlns=\"http://www.w3.org/2000/svg\" height=\"24px\" viewBox=\"0 -960 960 960\">\n",
              "    <path d=\"M120-120v-720h720v720H120Zm60-500h600v-160H180v160Zm220 220h160v-160H400v160Zm0 220h160v-160H400v160ZM180-400h160v-160H180v160Zm440 0h160v-160H620v160ZM180-180h160v-160H180v160Zm440 0h160v-160H620v160Z\"/>\n",
              "  </svg>\n",
              "    </button>\n",
              "\n",
              "  <style>\n",
              "    .colab-df-container {\n",
              "      display:flex;\n",
              "      gap: 12px;\n",
              "    }\n",
              "\n",
              "    .colab-df-convert {\n",
              "      background-color: #E8F0FE;\n",
              "      border: none;\n",
              "      border-radius: 50%;\n",
              "      cursor: pointer;\n",
              "      display: none;\n",
              "      fill: #1967D2;\n",
              "      height: 32px;\n",
              "      padding: 0 0 0 0;\n",
              "      width: 32px;\n",
              "    }\n",
              "\n",
              "    .colab-df-convert:hover {\n",
              "      background-color: #E2EBFA;\n",
              "      box-shadow: 0px 1px 2px rgba(60, 64, 67, 0.3), 0px 1px 3px 1px rgba(60, 64, 67, 0.15);\n",
              "      fill: #174EA6;\n",
              "    }\n",
              "\n",
              "    .colab-df-buttons div {\n",
              "      margin-bottom: 4px;\n",
              "    }\n",
              "\n",
              "    [theme=dark] .colab-df-convert {\n",
              "      background-color: #3B4455;\n",
              "      fill: #D2E3FC;\n",
              "    }\n",
              "\n",
              "    [theme=dark] .colab-df-convert:hover {\n",
              "      background-color: #434B5C;\n",
              "      box-shadow: 0px 1px 3px 1px rgba(0, 0, 0, 0.15);\n",
              "      filter: drop-shadow(0px 1px 2px rgba(0, 0, 0, 0.3));\n",
              "      fill: #FFFFFF;\n",
              "    }\n",
              "  </style>\n",
              "\n",
              "    <script>\n",
              "      const buttonEl =\n",
              "        document.querySelector('#df-9619e74d-f811-4d0e-80d5-2be464a090f1 button.colab-df-convert');\n",
              "      buttonEl.style.display =\n",
              "        google.colab.kernel.accessAllowed ? 'block' : 'none';\n",
              "\n",
              "      async function convertToInteractive(key) {\n",
              "        const element = document.querySelector('#df-9619e74d-f811-4d0e-80d5-2be464a090f1');\n",
              "        const dataTable =\n",
              "          await google.colab.kernel.invokeFunction('convertToInteractive',\n",
              "                                                    [key], {});\n",
              "        if (!dataTable) return;\n",
              "\n",
              "        const docLinkHtml = 'Like what you see? Visit the ' +\n",
              "          '<a target=\"_blank\" href=https://colab.research.google.com/notebooks/data_table.ipynb>data table notebook</a>'\n",
              "          + ' to learn more about interactive tables.';\n",
              "        element.innerHTML = '';\n",
              "        dataTable['output_type'] = 'display_data';\n",
              "        await google.colab.output.renderOutput(dataTable, element);\n",
              "        const docLink = document.createElement('div');\n",
              "        docLink.innerHTML = docLinkHtml;\n",
              "        element.appendChild(docLink);\n",
              "      }\n",
              "    </script>\n",
              "  </div>\n",
              "\n",
              "\n",
              "<div id=\"df-af6de8cb-e452-41cd-a924-4091b5ed5371\">\n",
              "  <button class=\"colab-df-quickchart\" onclick=\"quickchart('df-af6de8cb-e452-41cd-a924-4091b5ed5371')\"\n",
              "            title=\"Suggest charts\"\n",
              "            style=\"display:none;\">\n",
              "\n",
              "<svg xmlns=\"http://www.w3.org/2000/svg\" height=\"24px\"viewBox=\"0 0 24 24\"\n",
              "     width=\"24px\">\n",
              "    <g>\n",
              "        <path d=\"M19 3H5c-1.1 0-2 .9-2 2v14c0 1.1.9 2 2 2h14c1.1 0 2-.9 2-2V5c0-1.1-.9-2-2-2zM9 17H7v-7h2v7zm4 0h-2V7h2v10zm4 0h-2v-4h2v4z\"/>\n",
              "    </g>\n",
              "</svg>\n",
              "  </button>\n",
              "\n",
              "<style>\n",
              "  .colab-df-quickchart {\n",
              "      --bg-color: #E8F0FE;\n",
              "      --fill-color: #1967D2;\n",
              "      --hover-bg-color: #E2EBFA;\n",
              "      --hover-fill-color: #174EA6;\n",
              "      --disabled-fill-color: #AAA;\n",
              "      --disabled-bg-color: #DDD;\n",
              "  }\n",
              "\n",
              "  [theme=dark] .colab-df-quickchart {\n",
              "      --bg-color: #3B4455;\n",
              "      --fill-color: #D2E3FC;\n",
              "      --hover-bg-color: #434B5C;\n",
              "      --hover-fill-color: #FFFFFF;\n",
              "      --disabled-bg-color: #3B4455;\n",
              "      --disabled-fill-color: #666;\n",
              "  }\n",
              "\n",
              "  .colab-df-quickchart {\n",
              "    background-color: var(--bg-color);\n",
              "    border: none;\n",
              "    border-radius: 50%;\n",
              "    cursor: pointer;\n",
              "    display: none;\n",
              "    fill: var(--fill-color);\n",
              "    height: 32px;\n",
              "    padding: 0;\n",
              "    width: 32px;\n",
              "  }\n",
              "\n",
              "  .colab-df-quickchart:hover {\n",
              "    background-color: var(--hover-bg-color);\n",
              "    box-shadow: 0 1px 2px rgba(60, 64, 67, 0.3), 0 1px 3px 1px rgba(60, 64, 67, 0.15);\n",
              "    fill: var(--button-hover-fill-color);\n",
              "  }\n",
              "\n",
              "  .colab-df-quickchart-complete:disabled,\n",
              "  .colab-df-quickchart-complete:disabled:hover {\n",
              "    background-color: var(--disabled-bg-color);\n",
              "    fill: var(--disabled-fill-color);\n",
              "    box-shadow: none;\n",
              "  }\n",
              "\n",
              "  .colab-df-spinner {\n",
              "    border: 2px solid var(--fill-color);\n",
              "    border-color: transparent;\n",
              "    border-bottom-color: var(--fill-color);\n",
              "    animation:\n",
              "      spin 1s steps(1) infinite;\n",
              "  }\n",
              "\n",
              "  @keyframes spin {\n",
              "    0% {\n",
              "      border-color: transparent;\n",
              "      border-bottom-color: var(--fill-color);\n",
              "      border-left-color: var(--fill-color);\n",
              "    }\n",
              "    20% {\n",
              "      border-color: transparent;\n",
              "      border-left-color: var(--fill-color);\n",
              "      border-top-color: var(--fill-color);\n",
              "    }\n",
              "    30% {\n",
              "      border-color: transparent;\n",
              "      border-left-color: var(--fill-color);\n",
              "      border-top-color: var(--fill-color);\n",
              "      border-right-color: var(--fill-color);\n",
              "    }\n",
              "    40% {\n",
              "      border-color: transparent;\n",
              "      border-right-color: var(--fill-color);\n",
              "      border-top-color: var(--fill-color);\n",
              "    }\n",
              "    60% {\n",
              "      border-color: transparent;\n",
              "      border-right-color: var(--fill-color);\n",
              "    }\n",
              "    80% {\n",
              "      border-color: transparent;\n",
              "      border-right-color: var(--fill-color);\n",
              "      border-bottom-color: var(--fill-color);\n",
              "    }\n",
              "    90% {\n",
              "      border-color: transparent;\n",
              "      border-bottom-color: var(--fill-color);\n",
              "    }\n",
              "  }\n",
              "</style>\n",
              "\n",
              "  <script>\n",
              "    async function quickchart(key) {\n",
              "      const quickchartButtonEl =\n",
              "        document.querySelector('#' + key + ' button');\n",
              "      quickchartButtonEl.disabled = true;  // To prevent multiple clicks.\n",
              "      quickchartButtonEl.classList.add('colab-df-spinner');\n",
              "      try {\n",
              "        const charts = await google.colab.kernel.invokeFunction(\n",
              "            'suggestCharts', [key], {});\n",
              "      } catch (error) {\n",
              "        console.error('Error during call to suggestCharts:', error);\n",
              "      }\n",
              "      quickchartButtonEl.classList.remove('colab-df-spinner');\n",
              "      quickchartButtonEl.classList.add('colab-df-quickchart-complete');\n",
              "    }\n",
              "    (() => {\n",
              "      let quickchartButtonEl =\n",
              "        document.querySelector('#df-af6de8cb-e452-41cd-a924-4091b5ed5371 button');\n",
              "      quickchartButtonEl.style.display =\n",
              "        google.colab.kernel.accessAllowed ? 'block' : 'none';\n",
              "    })();\n",
              "  </script>\n",
              "</div>\n",
              "\n",
              "    </div>\n",
              "  </div>\n"
            ],
            "application/vnd.google.colaboratory.intrinsic+json": {
              "type": "dataframe",
              "variable_name": "df_prep"
            }
          },
          "metadata": {},
          "execution_count": 47
        }
      ],
      "source": [
        "target = \"churn\"\n",
        "df_prep = pd.get_dummies(df[[target] + numeric_features+categorical_features  ], columns=categorical_features)\n",
        "df_prep.columns\n",
        "\n",
        "feature_names = ['account_length', 'area_code', 'vmail_message', 'day_mins',\n",
        "       'day_calls', 'day_charge', 'eve_mins', 'eve_calls', 'eve_charge',\n",
        "       'night_mins', 'night_calls', 'night_charge', 'intl_mins', 'intl_calls',\n",
        "       'intl_charge', 'custserv_calls', 'state_AK', 'state_AL', 'state_AR',\n",
        "       'state_AZ', 'state_CA', 'state_CO', 'state_CT', 'state_DC', 'state_DE',\n",
        "       'state_FL', 'state_GA', 'state_HI', 'state_IA', 'state_ID', 'state_IL',\n",
        "       'state_IN', 'state_KS', 'state_KY', 'state_LA', 'state_MA', 'state_MD',\n",
        "       'state_ME', 'state_MI', 'state_MN', 'state_MO', 'state_MS', 'state_MT',\n",
        "       'state_NC', 'state_ND', 'state_NE', 'state_NH', 'state_NJ', 'state_NM',\n",
        "       'state_NV', 'state_NY', 'state_OH', 'state_OK', 'state_OR', 'state_PA',\n",
        "       'state_RI', 'state_SC', 'state_SD', 'state_TN', 'state_TX', 'state_UT',\n",
        "       'state_VA', 'state_VT', 'state_WA', 'state_WI', 'state_WV', 'state_WY',\n",
        "       'intl_plan_no', 'intl_plan_yes', 'vmail_plan_no', 'vmail_plan_yes']\n",
        "df_prep.head()"
      ]
    },
    {
      "cell_type": "code",
      "execution_count": 48,
      "metadata": {
        "colab": {
          "base_uri": "https://localhost:8080/"
        },
        "id": "kcd2ribn1Fl5",
        "outputId": "04f81914-1727-4938-a67c-091b7289795d"
      },
      "outputs": [
        {
          "output_type": "stream",
          "name": "stdout",
          "text": [
            "train pct: 70.00%\n",
            "test  pct: 30.00%\n"
          ]
        }
      ],
      "source": [
        "# make a Train Test Split\n",
        "X_train, X_test, = train_test_split(df_prep, test_size=0.30)\n",
        "print(\"train pct: {:2.2%}\".format(X_train.shape[0]/df.shape[0]))\n",
        "print(\"test  pct: {:2.2%}\".format(X_test.shape[0]/df.shape[0]))"
      ]
    },
    {
      "cell_type": "markdown",
      "metadata": {
        "id": "IwCpZIJ11Fl5"
      },
      "source": [
        "## Simulate a Random Forest\n",
        "----\n",
        "The trick with random forest is to train each tree on a random set of features and a random sample of data, then vote your predictions. of course this is the simplest example, there is more to it behind the scenes but this shoudl give you an idea of what's going on.\n",
        "\n",
        "1. sample a set of features\n",
        "2. sample a set of data\n",
        "3. train your tree\n",
        "4. make predictonis\n",
        "5. vote\n"
      ]
    },
    {
      "cell_type": "code",
      "execution_count": 49,
      "metadata": {
        "colab": {
          "base_uri": "https://localhost:8080/",
          "height": 74
        },
        "id": "i1ZKedbE1Fl5",
        "outputId": "070d74f6-44cf-455e-9c37-1cdba4856e57"
      },
      "outputs": [
        {
          "output_type": "execute_result",
          "data": {
            "text/plain": [
              "DecisionTreeClassifier(min_samples_leaf=10)"
            ],
            "text/html": [
              "<style>#sk-container-id-6 {color: black;background-color: white;}#sk-container-id-6 pre{padding: 0;}#sk-container-id-6 div.sk-toggleable {background-color: white;}#sk-container-id-6 label.sk-toggleable__label {cursor: pointer;display: block;width: 100%;margin-bottom: 0;padding: 0.3em;box-sizing: border-box;text-align: center;}#sk-container-id-6 label.sk-toggleable__label-arrow:before {content: \"▸\";float: left;margin-right: 0.25em;color: #696969;}#sk-container-id-6 label.sk-toggleable__label-arrow:hover:before {color: black;}#sk-container-id-6 div.sk-estimator:hover label.sk-toggleable__label-arrow:before {color: black;}#sk-container-id-6 div.sk-toggleable__content {max-height: 0;max-width: 0;overflow: hidden;text-align: left;background-color: #f0f8ff;}#sk-container-id-6 div.sk-toggleable__content pre {margin: 0.2em;color: black;border-radius: 0.25em;background-color: #f0f8ff;}#sk-container-id-6 input.sk-toggleable__control:checked~div.sk-toggleable__content {max-height: 200px;max-width: 100%;overflow: auto;}#sk-container-id-6 input.sk-toggleable__control:checked~label.sk-toggleable__label-arrow:before {content: \"▾\";}#sk-container-id-6 div.sk-estimator input.sk-toggleable__control:checked~label.sk-toggleable__label {background-color: #d4ebff;}#sk-container-id-6 div.sk-label input.sk-toggleable__control:checked~label.sk-toggleable__label {background-color: #d4ebff;}#sk-container-id-6 input.sk-hidden--visually {border: 0;clip: rect(1px 1px 1px 1px);clip: rect(1px, 1px, 1px, 1px);height: 1px;margin: -1px;overflow: hidden;padding: 0;position: absolute;width: 1px;}#sk-container-id-6 div.sk-estimator {font-family: monospace;background-color: #f0f8ff;border: 1px dotted black;border-radius: 0.25em;box-sizing: border-box;margin-bottom: 0.5em;}#sk-container-id-6 div.sk-estimator:hover {background-color: #d4ebff;}#sk-container-id-6 div.sk-parallel-item::after {content: \"\";width: 100%;border-bottom: 1px solid gray;flex-grow: 1;}#sk-container-id-6 div.sk-label:hover label.sk-toggleable__label {background-color: #d4ebff;}#sk-container-id-6 div.sk-serial::before {content: \"\";position: absolute;border-left: 1px solid gray;box-sizing: border-box;top: 0;bottom: 0;left: 50%;z-index: 0;}#sk-container-id-6 div.sk-serial {display: flex;flex-direction: column;align-items: center;background-color: white;padding-right: 0.2em;padding-left: 0.2em;position: relative;}#sk-container-id-6 div.sk-item {position: relative;z-index: 1;}#sk-container-id-6 div.sk-parallel {display: flex;align-items: stretch;justify-content: center;background-color: white;position: relative;}#sk-container-id-6 div.sk-item::before, #sk-container-id-6 div.sk-parallel-item::before {content: \"\";position: absolute;border-left: 1px solid gray;box-sizing: border-box;top: 0;bottom: 0;left: 50%;z-index: -1;}#sk-container-id-6 div.sk-parallel-item {display: flex;flex-direction: column;z-index: 1;position: relative;background-color: white;}#sk-container-id-6 div.sk-parallel-item:first-child::after {align-self: flex-end;width: 50%;}#sk-container-id-6 div.sk-parallel-item:last-child::after {align-self: flex-start;width: 50%;}#sk-container-id-6 div.sk-parallel-item:only-child::after {width: 0;}#sk-container-id-6 div.sk-dashed-wrapped {border: 1px dashed gray;margin: 0 0.4em 0.5em 0.4em;box-sizing: border-box;padding-bottom: 0.4em;background-color: white;}#sk-container-id-6 div.sk-label label {font-family: monospace;font-weight: bold;display: inline-block;line-height: 1.2em;}#sk-container-id-6 div.sk-label-container {text-align: center;}#sk-container-id-6 div.sk-container {/* jupyter's `normalize.less` sets `[hidden] { display: none; }` but bootstrap.min.css set `[hidden] { display: none !important; }` so we also need the `!important` here to be able to override the default hidden behavior on the sphinx rendered scikit-learn.org. See: https://github.com/scikit-learn/scikit-learn/issues/21755 */display: inline-block !important;position: relative;}#sk-container-id-6 div.sk-text-repr-fallback {display: none;}</style><div id=\"sk-container-id-6\" class=\"sk-top-container\"><div class=\"sk-text-repr-fallback\"><pre>DecisionTreeClassifier(min_samples_leaf=10)</pre><b>In a Jupyter environment, please rerun this cell to show the HTML representation or trust the notebook. <br />On GitHub, the HTML representation is unable to render, please try loading this page with nbviewer.org.</b></div><div class=\"sk-container\" hidden><div class=\"sk-item\"><div class=\"sk-estimator sk-toggleable\"><input class=\"sk-toggleable__control sk-hidden--visually\" id=\"sk-estimator-id-6\" type=\"checkbox\" checked><label for=\"sk-estimator-id-6\" class=\"sk-toggleable__label sk-toggleable__label-arrow\">DecisionTreeClassifier</label><div class=\"sk-toggleable__content\"><pre>DecisionTreeClassifier(min_samples_leaf=10)</pre></div></div></div></div></div>"
            ]
          },
          "metadata": {},
          "execution_count": 49
        }
      ],
      "source": [
        "## Make three trees from random samples\n",
        "import random\n",
        "\n",
        "tree1_features = random.sample(feature_names,10)\n",
        "\n",
        "tree1_sample = X_train[[target]+tree1_features].sample(frac=0.6, replace=True, random_state=123)\n",
        "tree1 = tree.DecisionTreeClassifier(\n",
        "                                    criterion='gini',\n",
        "                                    #max_depth=10,\n",
        "                                    min_samples_leaf=10)\n",
        "\n",
        "tree1 = tree1.fit(tree1_sample[tree1_features], tree1_sample[target])\n",
        "tree1\n",
        "\n"
      ]
    },
    {
      "cell_type": "code",
      "execution_count": 50,
      "metadata": {
        "colab": {
          "base_uri": "https://localhost:8080/",
          "height": 74
        },
        "id": "3qF3hVx01Fl5",
        "outputId": "1c71e287-8117-4806-d2df-c00790aa0138"
      },
      "outputs": [
        {
          "output_type": "execute_result",
          "data": {
            "text/plain": [
              "DecisionTreeClassifier(min_samples_leaf=10)"
            ],
            "text/html": [
              "<style>#sk-container-id-7 {color: black;background-color: white;}#sk-container-id-7 pre{padding: 0;}#sk-container-id-7 div.sk-toggleable {background-color: white;}#sk-container-id-7 label.sk-toggleable__label {cursor: pointer;display: block;width: 100%;margin-bottom: 0;padding: 0.3em;box-sizing: border-box;text-align: center;}#sk-container-id-7 label.sk-toggleable__label-arrow:before {content: \"▸\";float: left;margin-right: 0.25em;color: #696969;}#sk-container-id-7 label.sk-toggleable__label-arrow:hover:before {color: black;}#sk-container-id-7 div.sk-estimator:hover label.sk-toggleable__label-arrow:before {color: black;}#sk-container-id-7 div.sk-toggleable__content {max-height: 0;max-width: 0;overflow: hidden;text-align: left;background-color: #f0f8ff;}#sk-container-id-7 div.sk-toggleable__content pre {margin: 0.2em;color: black;border-radius: 0.25em;background-color: #f0f8ff;}#sk-container-id-7 input.sk-toggleable__control:checked~div.sk-toggleable__content {max-height: 200px;max-width: 100%;overflow: auto;}#sk-container-id-7 input.sk-toggleable__control:checked~label.sk-toggleable__label-arrow:before {content: \"▾\";}#sk-container-id-7 div.sk-estimator input.sk-toggleable__control:checked~label.sk-toggleable__label {background-color: #d4ebff;}#sk-container-id-7 div.sk-label input.sk-toggleable__control:checked~label.sk-toggleable__label {background-color: #d4ebff;}#sk-container-id-7 input.sk-hidden--visually {border: 0;clip: rect(1px 1px 1px 1px);clip: rect(1px, 1px, 1px, 1px);height: 1px;margin: -1px;overflow: hidden;padding: 0;position: absolute;width: 1px;}#sk-container-id-7 div.sk-estimator {font-family: monospace;background-color: #f0f8ff;border: 1px dotted black;border-radius: 0.25em;box-sizing: border-box;margin-bottom: 0.5em;}#sk-container-id-7 div.sk-estimator:hover {background-color: #d4ebff;}#sk-container-id-7 div.sk-parallel-item::after {content: \"\";width: 100%;border-bottom: 1px solid gray;flex-grow: 1;}#sk-container-id-7 div.sk-label:hover label.sk-toggleable__label {background-color: #d4ebff;}#sk-container-id-7 div.sk-serial::before {content: \"\";position: absolute;border-left: 1px solid gray;box-sizing: border-box;top: 0;bottom: 0;left: 50%;z-index: 0;}#sk-container-id-7 div.sk-serial {display: flex;flex-direction: column;align-items: center;background-color: white;padding-right: 0.2em;padding-left: 0.2em;position: relative;}#sk-container-id-7 div.sk-item {position: relative;z-index: 1;}#sk-container-id-7 div.sk-parallel {display: flex;align-items: stretch;justify-content: center;background-color: white;position: relative;}#sk-container-id-7 div.sk-item::before, #sk-container-id-7 div.sk-parallel-item::before {content: \"\";position: absolute;border-left: 1px solid gray;box-sizing: border-box;top: 0;bottom: 0;left: 50%;z-index: -1;}#sk-container-id-7 div.sk-parallel-item {display: flex;flex-direction: column;z-index: 1;position: relative;background-color: white;}#sk-container-id-7 div.sk-parallel-item:first-child::after {align-self: flex-end;width: 50%;}#sk-container-id-7 div.sk-parallel-item:last-child::after {align-self: flex-start;width: 50%;}#sk-container-id-7 div.sk-parallel-item:only-child::after {width: 0;}#sk-container-id-7 div.sk-dashed-wrapped {border: 1px dashed gray;margin: 0 0.4em 0.5em 0.4em;box-sizing: border-box;padding-bottom: 0.4em;background-color: white;}#sk-container-id-7 div.sk-label label {font-family: monospace;font-weight: bold;display: inline-block;line-height: 1.2em;}#sk-container-id-7 div.sk-label-container {text-align: center;}#sk-container-id-7 div.sk-container {/* jupyter's `normalize.less` sets `[hidden] { display: none; }` but bootstrap.min.css set `[hidden] { display: none !important; }` so we also need the `!important` here to be able to override the default hidden behavior on the sphinx rendered scikit-learn.org. See: https://github.com/scikit-learn/scikit-learn/issues/21755 */display: inline-block !important;position: relative;}#sk-container-id-7 div.sk-text-repr-fallback {display: none;}</style><div id=\"sk-container-id-7\" class=\"sk-top-container\"><div class=\"sk-text-repr-fallback\"><pre>DecisionTreeClassifier(min_samples_leaf=10)</pre><b>In a Jupyter environment, please rerun this cell to show the HTML representation or trust the notebook. <br />On GitHub, the HTML representation is unable to render, please try loading this page with nbviewer.org.</b></div><div class=\"sk-container\" hidden><div class=\"sk-item\"><div class=\"sk-estimator sk-toggleable\"><input class=\"sk-toggleable__control sk-hidden--visually\" id=\"sk-estimator-id-7\" type=\"checkbox\" checked><label for=\"sk-estimator-id-7\" class=\"sk-toggleable__label sk-toggleable__label-arrow\">DecisionTreeClassifier</label><div class=\"sk-toggleable__content\"><pre>DecisionTreeClassifier(min_samples_leaf=10)</pre></div></div></div></div></div>"
            ]
          },
          "metadata": {},
          "execution_count": 50
        }
      ],
      "source": [
        "tree2_features = random.sample(feature_names,10)\n",
        "tree2_sample = X_train[[target]+tree2_features].sample(frac=0.6, replace=True, random_state=43)\n",
        "tree2 = tree.DecisionTreeClassifier(\n",
        "                                    criterion='gini',\n",
        "                                    #max_depth=10,\n",
        "                                    min_samples_leaf=10)\n",
        "\n",
        "tree2 = tree2.fit(tree2_sample[tree2_features], tree2_sample[target])\n",
        "\n",
        "tree2\n",
        "\n"
      ]
    },
    {
      "cell_type": "code",
      "execution_count": 51,
      "metadata": {
        "colab": {
          "base_uri": "https://localhost:8080/",
          "height": 74
        },
        "id": "dxAhWput1Fl5",
        "outputId": "1c0dec80-6d21-45c7-ee0b-21e2fdebc625"
      },
      "outputs": [
        {
          "output_type": "execute_result",
          "data": {
            "text/plain": [
              "DecisionTreeClassifier(min_samples_leaf=10)"
            ],
            "text/html": [
              "<style>#sk-container-id-8 {color: black;background-color: white;}#sk-container-id-8 pre{padding: 0;}#sk-container-id-8 div.sk-toggleable {background-color: white;}#sk-container-id-8 label.sk-toggleable__label {cursor: pointer;display: block;width: 100%;margin-bottom: 0;padding: 0.3em;box-sizing: border-box;text-align: center;}#sk-container-id-8 label.sk-toggleable__label-arrow:before {content: \"▸\";float: left;margin-right: 0.25em;color: #696969;}#sk-container-id-8 label.sk-toggleable__label-arrow:hover:before {color: black;}#sk-container-id-8 div.sk-estimator:hover label.sk-toggleable__label-arrow:before {color: black;}#sk-container-id-8 div.sk-toggleable__content {max-height: 0;max-width: 0;overflow: hidden;text-align: left;background-color: #f0f8ff;}#sk-container-id-8 div.sk-toggleable__content pre {margin: 0.2em;color: black;border-radius: 0.25em;background-color: #f0f8ff;}#sk-container-id-8 input.sk-toggleable__control:checked~div.sk-toggleable__content {max-height: 200px;max-width: 100%;overflow: auto;}#sk-container-id-8 input.sk-toggleable__control:checked~label.sk-toggleable__label-arrow:before {content: \"▾\";}#sk-container-id-8 div.sk-estimator input.sk-toggleable__control:checked~label.sk-toggleable__label {background-color: #d4ebff;}#sk-container-id-8 div.sk-label input.sk-toggleable__control:checked~label.sk-toggleable__label {background-color: #d4ebff;}#sk-container-id-8 input.sk-hidden--visually {border: 0;clip: rect(1px 1px 1px 1px);clip: rect(1px, 1px, 1px, 1px);height: 1px;margin: -1px;overflow: hidden;padding: 0;position: absolute;width: 1px;}#sk-container-id-8 div.sk-estimator {font-family: monospace;background-color: #f0f8ff;border: 1px dotted black;border-radius: 0.25em;box-sizing: border-box;margin-bottom: 0.5em;}#sk-container-id-8 div.sk-estimator:hover {background-color: #d4ebff;}#sk-container-id-8 div.sk-parallel-item::after {content: \"\";width: 100%;border-bottom: 1px solid gray;flex-grow: 1;}#sk-container-id-8 div.sk-label:hover label.sk-toggleable__label {background-color: #d4ebff;}#sk-container-id-8 div.sk-serial::before {content: \"\";position: absolute;border-left: 1px solid gray;box-sizing: border-box;top: 0;bottom: 0;left: 50%;z-index: 0;}#sk-container-id-8 div.sk-serial {display: flex;flex-direction: column;align-items: center;background-color: white;padding-right: 0.2em;padding-left: 0.2em;position: relative;}#sk-container-id-8 div.sk-item {position: relative;z-index: 1;}#sk-container-id-8 div.sk-parallel {display: flex;align-items: stretch;justify-content: center;background-color: white;position: relative;}#sk-container-id-8 div.sk-item::before, #sk-container-id-8 div.sk-parallel-item::before {content: \"\";position: absolute;border-left: 1px solid gray;box-sizing: border-box;top: 0;bottom: 0;left: 50%;z-index: -1;}#sk-container-id-8 div.sk-parallel-item {display: flex;flex-direction: column;z-index: 1;position: relative;background-color: white;}#sk-container-id-8 div.sk-parallel-item:first-child::after {align-self: flex-end;width: 50%;}#sk-container-id-8 div.sk-parallel-item:last-child::after {align-self: flex-start;width: 50%;}#sk-container-id-8 div.sk-parallel-item:only-child::after {width: 0;}#sk-container-id-8 div.sk-dashed-wrapped {border: 1px dashed gray;margin: 0 0.4em 0.5em 0.4em;box-sizing: border-box;padding-bottom: 0.4em;background-color: white;}#sk-container-id-8 div.sk-label label {font-family: monospace;font-weight: bold;display: inline-block;line-height: 1.2em;}#sk-container-id-8 div.sk-label-container {text-align: center;}#sk-container-id-8 div.sk-container {/* jupyter's `normalize.less` sets `[hidden] { display: none; }` but bootstrap.min.css set `[hidden] { display: none !important; }` so we also need the `!important` here to be able to override the default hidden behavior on the sphinx rendered scikit-learn.org. See: https://github.com/scikit-learn/scikit-learn/issues/21755 */display: inline-block !important;position: relative;}#sk-container-id-8 div.sk-text-repr-fallback {display: none;}</style><div id=\"sk-container-id-8\" class=\"sk-top-container\"><div class=\"sk-text-repr-fallback\"><pre>DecisionTreeClassifier(min_samples_leaf=10)</pre><b>In a Jupyter environment, please rerun this cell to show the HTML representation or trust the notebook. <br />On GitHub, the HTML representation is unable to render, please try loading this page with nbviewer.org.</b></div><div class=\"sk-container\" hidden><div class=\"sk-item\"><div class=\"sk-estimator sk-toggleable\"><input class=\"sk-toggleable__control sk-hidden--visually\" id=\"sk-estimator-id-8\" type=\"checkbox\" checked><label for=\"sk-estimator-id-8\" class=\"sk-toggleable__label sk-toggleable__label-arrow\">DecisionTreeClassifier</label><div class=\"sk-toggleable__content\"><pre>DecisionTreeClassifier(min_samples_leaf=10)</pre></div></div></div></div></div>"
            ]
          },
          "metadata": {},
          "execution_count": 51
        }
      ],
      "source": [
        "tree3_features = random.sample(feature_names,10)\n",
        "tree3_sample = X_train[[target]+tree3_features].sample(frac=0.6, replace=True, random_state=234)\n",
        "tree3 = tree.DecisionTreeClassifier(\n",
        "                                    criterion='gini',\n",
        "                                    #max_depth=10,\n",
        "                                    min_samples_leaf=10)\n",
        "\n",
        "tree3 = tree3.fit(tree3_sample[tree3_features], tree3_sample[target])\n",
        "tree3"
      ]
    },
    {
      "cell_type": "markdown",
      "metadata": {
        "id": "pe2o39NO1Fl5"
      },
      "source": [
        "### Optionally you can visualize each tree : visualize a tree\n",
        "\n",
        "```python\n",
        "dot_data = tree.export_graphviz(tree1,\n",
        "                                out_file=None,\n",
        "                                feature_names=feature_names,\n",
        "                                class_names = [\"False.\", \"True.\"],\n",
        "                                max_depth=3,\n",
        "                                filled=True,\n",
        "                                impurity=True,\n",
        "                                proportion=True,\n",
        "                                rounded=True,  \n",
        "                                  special_characters=False)  \n",
        "graph = graphviz.Source(dot_data)  \n",
        "graph\n",
        "\n",
        "```"
      ]
    },
    {
      "cell_type": "code",
      "execution_count": 52,
      "metadata": {
        "colab": {
          "base_uri": "https://localhost:8080/",
          "height": 734
        },
        "id": "d6LfyeAo1Fl5",
        "outputId": "ac54ac7b-726d-40cf-c700-e01a77d577f0"
      },
      "outputs": [
        {
          "output_type": "execute_result",
          "data": {
            "image/svg+xml": "<?xml version=\"1.0\" encoding=\"UTF-8\" standalone=\"no\"?>\n<!DOCTYPE svg PUBLIC \"-//W3C//DTD SVG 1.1//EN\"\n \"http://www.w3.org/Graphics/SVG/1.1/DTD/svg11.dtd\">\n<!-- Generated by graphviz version 2.43.0 (0)\n -->\n<!-- Title: Tree Pages: 1 -->\n<svg width=\"1280pt\" height=\"520pt\"\n viewBox=\"0.00 0.00 1280.00 520.00\" xmlns=\"http://www.w3.org/2000/svg\" xmlns:xlink=\"http://www.w3.org/1999/xlink\">\n<g id=\"graph0\" class=\"graph\" transform=\"scale(1 1) rotate(0) translate(4 516)\">\n<title>Tree</title>\n<polygon fill=\"white\" stroke=\"transparent\" points=\"-4,4 -4,-516 1276,-516 1276,4 -4,4\"/>\n<!-- 0 -->\n<g id=\"node1\" class=\"node\">\n<title>0</title>\n<path fill=\"#e99659\" stroke=\"black\" d=\"M671,-512C671,-512 548,-512 548,-512 542,-512 536,-506 536,-500 536,-500 536,-441 536,-441 536,-435 542,-429 548,-429 548,-429 671,-429 671,-429 677,-429 683,-435 683,-441 683,-441 683,-500 683,-500 683,-506 677,-512 671,-512\"/>\n<text text-anchor=\"middle\" x=\"609.5\" y=\"-496.8\" font-family=\"Helvetica,sans-Serif\" font-size=\"14.00\">night_calls &lt;= 113.5</text>\n<text text-anchor=\"middle\" x=\"609.5\" y=\"-481.8\" font-family=\"Helvetica,sans-Serif\" font-size=\"14.00\">gini = 0.242</text>\n<text text-anchor=\"middle\" x=\"609.5\" y=\"-466.8\" font-family=\"Helvetica,sans-Serif\" font-size=\"14.00\">samples = 100.0%</text>\n<text text-anchor=\"middle\" x=\"609.5\" y=\"-451.8\" font-family=\"Helvetica,sans-Serif\" font-size=\"14.00\">value = [0.859, 0.141]</text>\n<text text-anchor=\"middle\" x=\"609.5\" y=\"-436.8\" font-family=\"Helvetica,sans-Serif\" font-size=\"14.00\">class = False.</text>\n</g>\n<!-- 1 -->\n<g id=\"node2\" class=\"node\">\n<title>1</title>\n<path fill=\"#e99254\" stroke=\"black\" d=\"M581.5,-393C581.5,-393 473.5,-393 473.5,-393 467.5,-393 461.5,-387 461.5,-381 461.5,-381 461.5,-322 461.5,-322 461.5,-316 467.5,-310 473.5,-310 473.5,-310 581.5,-310 581.5,-310 587.5,-310 593.5,-316 593.5,-322 593.5,-322 593.5,-381 593.5,-381 593.5,-387 587.5,-393 581.5,-393\"/>\n<text text-anchor=\"middle\" x=\"527.5\" y=\"-377.8\" font-family=\"Helvetica,sans-Serif\" font-size=\"14.00\">night_calls &lt;= 85.5</text>\n<text text-anchor=\"middle\" x=\"527.5\" y=\"-362.8\" font-family=\"Helvetica,sans-Serif\" font-size=\"14.00\">gini = 0.212</text>\n<text text-anchor=\"middle\" x=\"527.5\" y=\"-347.8\" font-family=\"Helvetica,sans-Serif\" font-size=\"14.00\">samples = 74.9%</text>\n<text text-anchor=\"middle\" x=\"527.5\" y=\"-332.8\" font-family=\"Helvetica,sans-Serif\" font-size=\"14.00\">value = [0.88, 0.12]</text>\n<text text-anchor=\"middle\" x=\"527.5\" y=\"-317.8\" font-family=\"Helvetica,sans-Serif\" font-size=\"14.00\">class = False.</text>\n</g>\n<!-- 0&#45;&gt;1 -->\n<g id=\"edge1\" class=\"edge\">\n<title>0&#45;&gt;1</title>\n<path fill=\"none\" stroke=\"black\" d=\"M581.05,-428.91C574.82,-420.01 568.16,-410.51 561.72,-401.33\"/>\n<polygon fill=\"black\" stroke=\"black\" points=\"564.5,-399.2 555.9,-393.02 558.77,-403.22 564.5,-399.2\"/>\n<text text-anchor=\"middle\" x=\"551.57\" y=\"-413.94\" font-family=\"Helvetica,sans-Serif\" font-size=\"14.00\">True</text>\n</g>\n<!-- 104 -->\n<g id=\"node17\" class=\"node\">\n<title>104</title>\n<path fill=\"#eca16b\" stroke=\"black\" d=\"M836,-393C836,-393 713,-393 713,-393 707,-393 701,-387 701,-381 701,-381 701,-322 701,-322 701,-316 707,-310 713,-310 713,-310 836,-310 836,-310 842,-310 848,-316 848,-322 848,-322 848,-381 848,-381 848,-387 842,-393 836,-393\"/>\n<text text-anchor=\"middle\" x=\"774.5\" y=\"-377.8\" font-family=\"Helvetica,sans-Serif\" font-size=\"14.00\">night_calls &lt;= 133.5</text>\n<text text-anchor=\"middle\" x=\"774.5\" y=\"-362.8\" font-family=\"Helvetica,sans-Serif\" font-size=\"14.00\">gini = 0.322</text>\n<text text-anchor=\"middle\" x=\"774.5\" y=\"-347.8\" font-family=\"Helvetica,sans-Serif\" font-size=\"14.00\">samples = 25.1%</text>\n<text text-anchor=\"middle\" x=\"774.5\" y=\"-332.8\" font-family=\"Helvetica,sans-Serif\" font-size=\"14.00\">value = [0.798, 0.202]</text>\n<text text-anchor=\"middle\" x=\"774.5\" y=\"-317.8\" font-family=\"Helvetica,sans-Serif\" font-size=\"14.00\">class = False.</text>\n</g>\n<!-- 0&#45;&gt;104 -->\n<g id=\"edge16\" class=\"edge\">\n<title>0&#45;&gt;104</title>\n<path fill=\"none\" stroke=\"black\" d=\"M666.75,-428.91C680.44,-419.2 695.16,-408.76 709.19,-398.81\"/>\n<polygon fill=\"black\" stroke=\"black\" points=\"711.22,-401.66 717.36,-393.02 707.17,-395.95 711.22,-401.66\"/>\n<text text-anchor=\"middle\" x=\"713.16\" y=\"-413.97\" font-family=\"Helvetica,sans-Serif\" font-size=\"14.00\">False</text>\n</g>\n<!-- 2 -->\n<g id=\"node3\" class=\"node\">\n<title>2</title>\n<path fill=\"#ea995f\" stroke=\"black\" d=\"M300,-274C300,-274 177,-274 177,-274 171,-274 165,-268 165,-262 165,-262 165,-203 165,-203 165,-197 171,-191 177,-191 177,-191 300,-191 300,-191 306,-191 312,-197 312,-203 312,-203 312,-262 312,-262 312,-268 306,-274 300,-274\"/>\n<text text-anchor=\"middle\" x=\"238.5\" y=\"-258.8\" font-family=\"Helvetica,sans-Serif\" font-size=\"14.00\">night_calls &lt;= 72.5</text>\n<text text-anchor=\"middle\" x=\"238.5\" y=\"-243.8\" font-family=\"Helvetica,sans-Serif\" font-size=\"14.00\">gini = 0.272</text>\n<text text-anchor=\"middle\" x=\"238.5\" y=\"-228.8\" font-family=\"Helvetica,sans-Serif\" font-size=\"14.00\">samples = 22.9%</text>\n<text text-anchor=\"middle\" x=\"238.5\" y=\"-213.8\" font-family=\"Helvetica,sans-Serif\" font-size=\"14.00\">value = [0.838, 0.162]</text>\n<text text-anchor=\"middle\" x=\"238.5\" y=\"-198.8\" font-family=\"Helvetica,sans-Serif\" font-size=\"14.00\">class = False.</text>\n</g>\n<!-- 1&#45;&gt;2 -->\n<g id=\"edge2\" class=\"edge\">\n<title>1&#45;&gt;2</title>\n<path fill=\"none\" stroke=\"black\" d=\"M461.2,-323.66C419.66,-306.84 365.78,-285.03 321.42,-267.07\"/>\n<polygon fill=\"black\" stroke=\"black\" points=\"322.69,-263.81 312.11,-263.3 320.07,-270.3 322.69,-263.81\"/>\n</g>\n<!-- 43 -->\n<g id=\"node10\" class=\"node\">\n<title>43</title>\n<path fill=\"#e88f4f\" stroke=\"black\" d=\"M589,-274C589,-274 466,-274 466,-274 460,-274 454,-268 454,-262 454,-262 454,-203 454,-203 454,-197 460,-191 466,-191 466,-191 589,-191 589,-191 595,-191 601,-197 601,-203 601,-203 601,-262 601,-262 601,-268 595,-274 589,-274\"/>\n<text text-anchor=\"middle\" x=\"527.5\" y=\"-258.8\" font-family=\"Helvetica,sans-Serif\" font-size=\"14.00\">state_NC &lt;= 0.5</text>\n<text text-anchor=\"middle\" x=\"527.5\" y=\"-243.8\" font-family=\"Helvetica,sans-Serif\" font-size=\"14.00\">gini = 0.183</text>\n<text text-anchor=\"middle\" x=\"527.5\" y=\"-228.8\" font-family=\"Helvetica,sans-Serif\" font-size=\"14.00\">samples = 51.9%</text>\n<text text-anchor=\"middle\" x=\"527.5\" y=\"-213.8\" font-family=\"Helvetica,sans-Serif\" font-size=\"14.00\">value = [0.898, 0.102]</text>\n<text text-anchor=\"middle\" x=\"527.5\" y=\"-198.8\" font-family=\"Helvetica,sans-Serif\" font-size=\"14.00\">class = False.</text>\n</g>\n<!-- 1&#45;&gt;43 -->\n<g id=\"edge9\" class=\"edge\">\n<title>1&#45;&gt;43</title>\n<path fill=\"none\" stroke=\"black\" d=\"M527.5,-309.91C527.5,-301.65 527.5,-292.86 527.5,-284.3\"/>\n<polygon fill=\"black\" stroke=\"black\" points=\"531,-284.02 527.5,-274.02 524,-284.02 531,-284.02\"/>\n</g>\n<!-- 3 -->\n<g id=\"node4\" class=\"node\">\n<title>3</title>\n<path fill=\"#e88f4e\" stroke=\"black\" d=\"M135,-155C135,-155 12,-155 12,-155 6,-155 0,-149 0,-143 0,-143 0,-84 0,-84 0,-78 6,-72 12,-72 12,-72 135,-72 135,-72 141,-72 147,-78 147,-84 147,-84 147,-143 147,-143 147,-149 141,-155 135,-155\"/>\n<text text-anchor=\"middle\" x=\"73.5\" y=\"-139.8\" font-family=\"Helvetica,sans-Serif\" font-size=\"14.00\">night_calls &lt;= 59.5</text>\n<text text-anchor=\"middle\" x=\"73.5\" y=\"-124.8\" font-family=\"Helvetica,sans-Serif\" font-size=\"14.00\">gini = 0.176</text>\n<text text-anchor=\"middle\" x=\"73.5\" y=\"-109.8\" font-family=\"Helvetica,sans-Serif\" font-size=\"14.00\">samples = 8.8%</text>\n<text text-anchor=\"middle\" x=\"73.5\" y=\"-94.8\" font-family=\"Helvetica,sans-Serif\" font-size=\"14.00\">value = [0.902, 0.098]</text>\n<text text-anchor=\"middle\" x=\"73.5\" y=\"-79.8\" font-family=\"Helvetica,sans-Serif\" font-size=\"14.00\">class = False.</text>\n</g>\n<!-- 2&#45;&gt;3 -->\n<g id=\"edge3\" class=\"edge\">\n<title>2&#45;&gt;3</title>\n<path fill=\"none\" stroke=\"black\" d=\"M181.25,-190.91C167.56,-181.2 152.84,-170.76 138.81,-160.81\"/>\n<polygon fill=\"black\" stroke=\"black\" points=\"140.83,-157.95 130.64,-155.02 136.78,-163.66 140.83,-157.95\"/>\n</g>\n<!-- 18 -->\n<g id=\"node7\" class=\"node\">\n<title>18</title>\n<path fill=\"#eca16b\" stroke=\"black\" d=\"M300,-155C300,-155 177,-155 177,-155 171,-155 165,-149 165,-143 165,-143 165,-84 165,-84 165,-78 171,-72 177,-72 177,-72 300,-72 300,-72 306,-72 312,-78 312,-84 312,-84 312,-143 312,-143 312,-149 306,-155 300,-155\"/>\n<text text-anchor=\"middle\" x=\"238.5\" y=\"-139.8\" font-family=\"Helvetica,sans-Serif\" font-size=\"14.00\">night_calls &lt;= 73.5</text>\n<text text-anchor=\"middle\" x=\"238.5\" y=\"-124.8\" font-family=\"Helvetica,sans-Serif\" font-size=\"14.00\">gini = 0.322</text>\n<text text-anchor=\"middle\" x=\"238.5\" y=\"-109.8\" font-family=\"Helvetica,sans-Serif\" font-size=\"14.00\">samples = 14.1%</text>\n<text text-anchor=\"middle\" x=\"238.5\" y=\"-94.8\" font-family=\"Helvetica,sans-Serif\" font-size=\"14.00\">value = [0.798, 0.202]</text>\n<text text-anchor=\"middle\" x=\"238.5\" y=\"-79.8\" font-family=\"Helvetica,sans-Serif\" font-size=\"14.00\">class = False.</text>\n</g>\n<!-- 2&#45;&gt;18 -->\n<g id=\"edge6\" class=\"edge\">\n<title>2&#45;&gt;18</title>\n<path fill=\"none\" stroke=\"black\" d=\"M238.5,-190.91C238.5,-182.65 238.5,-173.86 238.5,-165.3\"/>\n<polygon fill=\"black\" stroke=\"black\" points=\"242,-165.02 238.5,-155.02 235,-165.02 242,-165.02\"/>\n</g>\n<!-- 4 -->\n<g id=\"node5\" class=\"node\">\n<title>4</title>\n<path fill=\"#c0c0c0\" stroke=\"black\" d=\"M52.5,-36C52.5,-36 22.5,-36 22.5,-36 16.5,-36 10.5,-30 10.5,-24 10.5,-24 10.5,-12 10.5,-12 10.5,-6 16.5,0 22.5,0 22.5,0 52.5,0 52.5,0 58.5,0 64.5,-6 64.5,-12 64.5,-12 64.5,-24 64.5,-24 64.5,-30 58.5,-36 52.5,-36\"/>\n<text text-anchor=\"middle\" x=\"37.5\" y=\"-14.3\" font-family=\"Helvetica,sans-Serif\" font-size=\"14.00\">(...)</text>\n</g>\n<!-- 3&#45;&gt;4 -->\n<g id=\"edge4\" class=\"edge\">\n<title>3&#45;&gt;4</title>\n<path fill=\"none\" stroke=\"black\" d=\"M57.81,-71.76C54.46,-63.04 50.99,-54.04 47.89,-45.99\"/>\n<polygon fill=\"black\" stroke=\"black\" points=\"51.06,-44.48 44.2,-36.41 44.53,-46.99 51.06,-44.48\"/>\n</g>\n<!-- 7 -->\n<g id=\"node6\" class=\"node\">\n<title>7</title>\n<path fill=\"#c0c0c0\" stroke=\"black\" d=\"M124.5,-36C124.5,-36 94.5,-36 94.5,-36 88.5,-36 82.5,-30 82.5,-24 82.5,-24 82.5,-12 82.5,-12 82.5,-6 88.5,0 94.5,0 94.5,0 124.5,0 124.5,0 130.5,0 136.5,-6 136.5,-12 136.5,-12 136.5,-24 136.5,-24 136.5,-30 130.5,-36 124.5,-36\"/>\n<text text-anchor=\"middle\" x=\"109.5\" y=\"-14.3\" font-family=\"Helvetica,sans-Serif\" font-size=\"14.00\">(...)</text>\n</g>\n<!-- 3&#45;&gt;7 -->\n<g id=\"edge5\" class=\"edge\">\n<title>3&#45;&gt;7</title>\n<path fill=\"none\" stroke=\"black\" d=\"M89.19,-71.76C92.54,-63.04 96.01,-54.04 99.11,-45.99\"/>\n<polygon fill=\"black\" stroke=\"black\" points=\"102.47,-46.99 102.8,-36.41 95.94,-44.48 102.47,-46.99\"/>\n</g>\n<!-- 19 -->\n<g id=\"node8\" class=\"node\">\n<title>19</title>\n<path fill=\"#c0c0c0\" stroke=\"black\" d=\"M226.5,-36C226.5,-36 196.5,-36 196.5,-36 190.5,-36 184.5,-30 184.5,-24 184.5,-24 184.5,-12 184.5,-12 184.5,-6 190.5,0 196.5,0 196.5,0 226.5,0 226.5,0 232.5,0 238.5,-6 238.5,-12 238.5,-12 238.5,-24 238.5,-24 238.5,-30 232.5,-36 226.5,-36\"/>\n<text text-anchor=\"middle\" x=\"211.5\" y=\"-14.3\" font-family=\"Helvetica,sans-Serif\" font-size=\"14.00\">(...)</text>\n</g>\n<!-- 18&#45;&gt;19 -->\n<g id=\"edge7\" class=\"edge\">\n<title>18&#45;&gt;19</title>\n<path fill=\"none\" stroke=\"black\" d=\"M226.74,-71.76C224.25,-63.14 221.68,-54.24 219.37,-46.26\"/>\n<polygon fill=\"black\" stroke=\"black\" points=\"222.66,-45.04 216.53,-36.41 215.94,-46.98 222.66,-45.04\"/>\n</g>\n<!-- 20 -->\n<g id=\"node9\" class=\"node\">\n<title>20</title>\n<path fill=\"#c0c0c0\" stroke=\"black\" d=\"M298.5,-36C298.5,-36 268.5,-36 268.5,-36 262.5,-36 256.5,-30 256.5,-24 256.5,-24 256.5,-12 256.5,-12 256.5,-6 262.5,0 268.5,0 268.5,0 298.5,0 298.5,0 304.5,0 310.5,-6 310.5,-12 310.5,-12 310.5,-24 310.5,-24 310.5,-30 304.5,-36 298.5,-36\"/>\n<text text-anchor=\"middle\" x=\"283.5\" y=\"-14.3\" font-family=\"Helvetica,sans-Serif\" font-size=\"14.00\">(...)</text>\n</g>\n<!-- 18&#45;&gt;20 -->\n<g id=\"edge8\" class=\"edge\">\n<title>18&#45;&gt;20</title>\n<path fill=\"none\" stroke=\"black\" d=\"M258.11,-71.76C262.4,-62.85 266.83,-53.64 270.77,-45.46\"/>\n<polygon fill=\"black\" stroke=\"black\" points=\"273.94,-46.93 275.12,-36.41 267.63,-43.9 273.94,-46.93\"/>\n</g>\n<!-- 44 -->\n<g id=\"node11\" class=\"node\">\n<title>44</title>\n<path fill=\"#e88e4e\" stroke=\"black\" d=\"M465,-155C465,-155 342,-155 342,-155 336,-155 330,-149 330,-143 330,-143 330,-84 330,-84 330,-78 336,-72 342,-72 342,-72 465,-72 465,-72 471,-72 477,-78 477,-84 477,-84 477,-143 477,-143 477,-149 471,-155 465,-155\"/>\n<text text-anchor=\"middle\" x=\"403.5\" y=\"-139.8\" font-family=\"Helvetica,sans-Serif\" font-size=\"14.00\">state_PA &lt;= 0.5</text>\n<text text-anchor=\"middle\" x=\"403.5\" y=\"-124.8\" font-family=\"Helvetica,sans-Serif\" font-size=\"14.00\">gini = 0.171</text>\n<text text-anchor=\"middle\" x=\"403.5\" y=\"-109.8\" font-family=\"Helvetica,sans-Serif\" font-size=\"14.00\">samples = 50.1%</text>\n<text text-anchor=\"middle\" x=\"403.5\" y=\"-94.8\" font-family=\"Helvetica,sans-Serif\" font-size=\"14.00\">value = [0.906, 0.094]</text>\n<text text-anchor=\"middle\" x=\"403.5\" y=\"-79.8\" font-family=\"Helvetica,sans-Serif\" font-size=\"14.00\">class = False.</text>\n</g>\n<!-- 43&#45;&gt;44 -->\n<g id=\"edge10\" class=\"edge\">\n<title>43&#45;&gt;44</title>\n<path fill=\"none\" stroke=\"black\" d=\"M484.48,-190.91C474.57,-181.56 463.95,-171.54 453.77,-161.93\"/>\n<polygon fill=\"black\" stroke=\"black\" points=\"456.12,-159.34 446.45,-155.02 451.32,-164.43 456.12,-159.34\"/>\n</g>\n<!-- 101 -->\n<g id=\"node14\" class=\"node\">\n<title>101</title>\n<path fill=\"#f1b991\" stroke=\"black\" d=\"M630,-155C630,-155 507,-155 507,-155 501,-155 495,-149 495,-143 495,-143 495,-84 495,-84 495,-78 501,-72 507,-72 507,-72 630,-72 630,-72 636,-72 642,-78 642,-84 642,-84 642,-143 642,-143 642,-149 636,-155 630,-155\"/>\n<text text-anchor=\"middle\" x=\"568.5\" y=\"-139.8\" font-family=\"Helvetica,sans-Serif\" font-size=\"14.00\">night_calls &lt;= 105.0</text>\n<text text-anchor=\"middle\" x=\"568.5\" y=\"-124.8\" font-family=\"Helvetica,sans-Serif\" font-size=\"14.00\">gini = 0.426</text>\n<text text-anchor=\"middle\" x=\"568.5\" y=\"-109.8\" font-family=\"Helvetica,sans-Serif\" font-size=\"14.00\">samples = 1.9%</text>\n<text text-anchor=\"middle\" x=\"568.5\" y=\"-94.8\" font-family=\"Helvetica,sans-Serif\" font-size=\"14.00\">value = [0.692, 0.308]</text>\n<text text-anchor=\"middle\" x=\"568.5\" y=\"-79.8\" font-family=\"Helvetica,sans-Serif\" font-size=\"14.00\">class = False.</text>\n</g>\n<!-- 43&#45;&gt;101 -->\n<g id=\"edge13\" class=\"edge\">\n<title>43&#45;&gt;101</title>\n<path fill=\"none\" stroke=\"black\" d=\"M541.72,-190.91C544.68,-182.47 547.83,-173.48 550.9,-164.74\"/>\n<polygon fill=\"black\" stroke=\"black\" points=\"554.3,-165.62 554.3,-155.02 547.69,-163.3 554.3,-165.62\"/>\n</g>\n<!-- 45 -->\n<g id=\"node12\" class=\"node\">\n<title>45</title>\n<path fill=\"#c0c0c0\" stroke=\"black\" d=\"M394.5,-36C394.5,-36 364.5,-36 364.5,-36 358.5,-36 352.5,-30 352.5,-24 352.5,-24 352.5,-12 352.5,-12 352.5,-6 358.5,0 364.5,0 364.5,0 394.5,0 394.5,0 400.5,0 406.5,-6 406.5,-12 406.5,-12 406.5,-24 406.5,-24 406.5,-30 400.5,-36 394.5,-36\"/>\n<text text-anchor=\"middle\" x=\"379.5\" y=\"-14.3\" font-family=\"Helvetica,sans-Serif\" font-size=\"14.00\">(...)</text>\n</g>\n<!-- 44&#45;&gt;45 -->\n<g id=\"edge11\" class=\"edge\">\n<title>44&#45;&gt;45</title>\n<path fill=\"none\" stroke=\"black\" d=\"M393.04,-71.76C390.83,-63.14 388.55,-54.24 386.5,-46.26\"/>\n<polygon fill=\"black\" stroke=\"black\" points=\"389.84,-45.22 383.97,-36.41 383.06,-46.96 389.84,-45.22\"/>\n</g>\n<!-- 100 -->\n<g id=\"node13\" class=\"node\">\n<title>100</title>\n<path fill=\"#c0c0c0\" stroke=\"black\" d=\"M466.5,-36C466.5,-36 436.5,-36 436.5,-36 430.5,-36 424.5,-30 424.5,-24 424.5,-24 424.5,-12 424.5,-12 424.5,-6 430.5,0 436.5,0 436.5,0 466.5,0 466.5,0 472.5,0 478.5,-6 478.5,-12 478.5,-12 478.5,-24 478.5,-24 478.5,-30 472.5,-36 466.5,-36\"/>\n<text text-anchor=\"middle\" x=\"451.5\" y=\"-14.3\" font-family=\"Helvetica,sans-Serif\" font-size=\"14.00\">(...)</text>\n</g>\n<!-- 44&#45;&gt;100 -->\n<g id=\"edge12\" class=\"edge\">\n<title>44&#45;&gt;100</title>\n<path fill=\"none\" stroke=\"black\" d=\"M424.41,-71.76C428.99,-62.85 433.72,-53.64 437.92,-45.46\"/>\n<polygon fill=\"black\" stroke=\"black\" points=\"441.11,-46.9 442.56,-36.41 434.88,-43.7 441.11,-46.9\"/>\n</g>\n<!-- 102 -->\n<g id=\"node15\" class=\"node\">\n<title>102</title>\n<path fill=\"#c0c0c0\" stroke=\"black\" d=\"M550.5,-36C550.5,-36 520.5,-36 520.5,-36 514.5,-36 508.5,-30 508.5,-24 508.5,-24 508.5,-12 508.5,-12 508.5,-6 514.5,0 520.5,0 520.5,0 550.5,0 550.5,0 556.5,0 562.5,-6 562.5,-12 562.5,-12 562.5,-24 562.5,-24 562.5,-30 556.5,-36 550.5,-36\"/>\n<text text-anchor=\"middle\" x=\"535.5\" y=\"-14.3\" font-family=\"Helvetica,sans-Serif\" font-size=\"14.00\">(...)</text>\n</g>\n<!-- 101&#45;&gt;102 -->\n<g id=\"edge14\" class=\"edge\">\n<title>101&#45;&gt;102</title>\n<path fill=\"none\" stroke=\"black\" d=\"M554.12,-71.76C551.04,-63.04 547.87,-54.04 545.03,-45.99\"/>\n<polygon fill=\"black\" stroke=\"black\" points=\"548.27,-44.67 541.64,-36.41 541.67,-47 548.27,-44.67\"/>\n</g>\n<!-- 103 -->\n<g id=\"node16\" class=\"node\">\n<title>103</title>\n<path fill=\"#c0c0c0\" stroke=\"black\" d=\"M622.5,-36C622.5,-36 592.5,-36 592.5,-36 586.5,-36 580.5,-30 580.5,-24 580.5,-24 580.5,-12 580.5,-12 580.5,-6 586.5,0 592.5,0 592.5,0 622.5,0 622.5,0 628.5,0 634.5,-6 634.5,-12 634.5,-12 634.5,-24 634.5,-24 634.5,-30 628.5,-36 622.5,-36\"/>\n<text text-anchor=\"middle\" x=\"607.5\" y=\"-14.3\" font-family=\"Helvetica,sans-Serif\" font-size=\"14.00\">(...)</text>\n</g>\n<!-- 101&#45;&gt;103 -->\n<g id=\"edge15\" class=\"edge\">\n<title>101&#45;&gt;103</title>\n<path fill=\"none\" stroke=\"black\" d=\"M585.49,-71.76C589.17,-62.94 592.97,-53.84 596.35,-45.72\"/>\n<polygon fill=\"black\" stroke=\"black\" points=\"599.62,-46.98 600.24,-36.41 593.16,-44.29 599.62,-46.98\"/>\n</g>\n<!-- 105 -->\n<g id=\"node18\" class=\"node\">\n<title>105</title>\n<path fill=\"#eca571\" stroke=\"black\" d=\"M836,-274C836,-274 713,-274 713,-274 707,-274 701,-268 701,-262 701,-262 701,-203 701,-203 701,-197 707,-191 713,-191 713,-191 836,-191 836,-191 842,-191 848,-197 848,-203 848,-203 848,-262 848,-262 848,-268 842,-274 836,-274\"/>\n<text text-anchor=\"middle\" x=\"774.5\" y=\"-258.8\" font-family=\"Helvetica,sans-Serif\" font-size=\"14.00\">night_calls &lt;= 131.5</text>\n<text text-anchor=\"middle\" x=\"774.5\" y=\"-243.8\" font-family=\"Helvetica,sans-Serif\" font-size=\"14.00\">gini = 0.345</text>\n<text text-anchor=\"middle\" x=\"774.5\" y=\"-228.8\" font-family=\"Helvetica,sans-Serif\" font-size=\"14.00\">samples = 20.6%</text>\n<text text-anchor=\"middle\" x=\"774.5\" y=\"-213.8\" font-family=\"Helvetica,sans-Serif\" font-size=\"14.00\">value = [0.779, 0.221]</text>\n<text text-anchor=\"middle\" x=\"774.5\" y=\"-198.8\" font-family=\"Helvetica,sans-Serif\" font-size=\"14.00\">class = False.</text>\n</g>\n<!-- 104&#45;&gt;105 -->\n<g id=\"edge17\" class=\"edge\">\n<title>104&#45;&gt;105</title>\n<path fill=\"none\" stroke=\"black\" d=\"M774.5,-309.91C774.5,-301.65 774.5,-292.86 774.5,-284.3\"/>\n<polygon fill=\"black\" stroke=\"black\" points=\"778,-284.02 774.5,-274.02 771,-284.02 778,-284.02\"/>\n</g>\n<!-- 138 -->\n<g id=\"node23\" class=\"node\">\n<title>138</title>\n<path fill=\"#e89152\" stroke=\"black\" d=\"M1110,-274C1110,-274 987,-274 987,-274 981,-274 975,-268 975,-262 975,-262 975,-203 975,-203 975,-197 981,-191 987,-191 987,-191 1110,-191 1110,-191 1116,-191 1122,-197 1122,-203 1122,-203 1122,-262 1122,-262 1122,-268 1116,-274 1110,-274\"/>\n<text text-anchor=\"middle\" x=\"1048.5\" y=\"-258.8\" font-family=\"Helvetica,sans-Serif\" font-size=\"14.00\">night_calls &lt;= 136.5</text>\n<text text-anchor=\"middle\" x=\"1048.5\" y=\"-243.8\" font-family=\"Helvetica,sans-Serif\" font-size=\"14.00\">gini = 0.198</text>\n<text text-anchor=\"middle\" x=\"1048.5\" y=\"-228.8\" font-family=\"Helvetica,sans-Serif\" font-size=\"14.00\">samples = 4.5%</text>\n<text text-anchor=\"middle\" x=\"1048.5\" y=\"-213.8\" font-family=\"Helvetica,sans-Serif\" font-size=\"14.00\">value = [0.889, 0.111]</text>\n<text text-anchor=\"middle\" x=\"1048.5\" y=\"-198.8\" font-family=\"Helvetica,sans-Serif\" font-size=\"14.00\">class = False.</text>\n</g>\n<!-- 104&#45;&gt;138 -->\n<g id=\"edge22\" class=\"edge\">\n<title>104&#45;&gt;138</title>\n<path fill=\"none\" stroke=\"black\" d=\"M848.29,-318.99C884.38,-303.58 927.97,-284.97 965.25,-269.05\"/>\n<polygon fill=\"black\" stroke=\"black\" points=\"966.76,-272.21 974.58,-265.06 964.01,-265.77 966.76,-272.21\"/>\n</g>\n<!-- 106 -->\n<g id=\"node19\" class=\"node\">\n<title>106</title>\n<path fill=\"#eca36f\" stroke=\"black\" d=\"M795,-155C795,-155 672,-155 672,-155 666,-155 660,-149 660,-143 660,-143 660,-84 660,-84 660,-78 666,-72 672,-72 672,-72 795,-72 795,-72 801,-72 807,-78 807,-84 807,-84 807,-143 807,-143 807,-149 801,-155 795,-155\"/>\n<text text-anchor=\"middle\" x=\"733.5\" y=\"-139.8\" font-family=\"Helvetica,sans-Serif\" font-size=\"14.00\">night_calls &lt;= 129.5</text>\n<text text-anchor=\"middle\" x=\"733.5\" y=\"-124.8\" font-family=\"Helvetica,sans-Serif\" font-size=\"14.00\">gini = 0.336</text>\n<text text-anchor=\"middle\" x=\"733.5\" y=\"-109.8\" font-family=\"Helvetica,sans-Serif\" font-size=\"14.00\">samples = 19.7%</text>\n<text text-anchor=\"middle\" x=\"733.5\" y=\"-94.8\" font-family=\"Helvetica,sans-Serif\" font-size=\"14.00\">value = [0.786, 0.214]</text>\n<text text-anchor=\"middle\" x=\"733.5\" y=\"-79.8\" font-family=\"Helvetica,sans-Serif\" font-size=\"14.00\">class = False.</text>\n</g>\n<!-- 105&#45;&gt;106 -->\n<g id=\"edge18\" class=\"edge\">\n<title>105&#45;&gt;106</title>\n<path fill=\"none\" stroke=\"black\" d=\"M760.28,-190.91C757.32,-182.47 754.17,-173.48 751.1,-164.74\"/>\n<polygon fill=\"black\" stroke=\"black\" points=\"754.31,-163.3 747.7,-155.02 747.7,-165.62 754.31,-163.3\"/>\n</g>\n<!-- 137 -->\n<g id=\"node22\" class=\"node\">\n<title>137</title>\n<path fill=\"#f5d0b5\" stroke=\"black\" d=\"M960,-147.5C960,-147.5 837,-147.5 837,-147.5 831,-147.5 825,-141.5 825,-135.5 825,-135.5 825,-91.5 825,-91.5 825,-85.5 831,-79.5 837,-79.5 837,-79.5 960,-79.5 960,-79.5 966,-79.5 972,-85.5 972,-91.5 972,-91.5 972,-135.5 972,-135.5 972,-141.5 966,-147.5 960,-147.5\"/>\n<text text-anchor=\"middle\" x=\"898.5\" y=\"-132.3\" font-family=\"Helvetica,sans-Serif\" font-size=\"14.00\">gini = 0.473</text>\n<text text-anchor=\"middle\" x=\"898.5\" y=\"-117.3\" font-family=\"Helvetica,sans-Serif\" font-size=\"14.00\">samples = 0.9%</text>\n<text text-anchor=\"middle\" x=\"898.5\" y=\"-102.3\" font-family=\"Helvetica,sans-Serif\" font-size=\"14.00\">value = [0.615, 0.385]</text>\n<text text-anchor=\"middle\" x=\"898.5\" y=\"-87.3\" font-family=\"Helvetica,sans-Serif\" font-size=\"14.00\">class = False.</text>\n</g>\n<!-- 105&#45;&gt;137 -->\n<g id=\"edge21\" class=\"edge\">\n<title>105&#45;&gt;137</title>\n<path fill=\"none\" stroke=\"black\" d=\"M817.52,-190.91C829.92,-179.21 843.43,-166.46 855.81,-154.78\"/>\n<polygon fill=\"black\" stroke=\"black\" points=\"858.48,-157.08 863.35,-147.67 853.67,-151.98 858.48,-157.08\"/>\n</g>\n<!-- 107 -->\n<g id=\"node20\" class=\"node\">\n<title>107</title>\n<path fill=\"#c0c0c0\" stroke=\"black\" d=\"M700.5,-36C700.5,-36 670.5,-36 670.5,-36 664.5,-36 658.5,-30 658.5,-24 658.5,-24 658.5,-12 658.5,-12 658.5,-6 664.5,0 670.5,0 670.5,0 700.5,0 700.5,0 706.5,0 712.5,-6 712.5,-12 712.5,-12 712.5,-24 712.5,-24 712.5,-30 706.5,-36 700.5,-36\"/>\n<text text-anchor=\"middle\" x=\"685.5\" y=\"-14.3\" font-family=\"Helvetica,sans-Serif\" font-size=\"14.00\">(...)</text>\n</g>\n<!-- 106&#45;&gt;107 -->\n<g id=\"edge19\" class=\"edge\">\n<title>106&#45;&gt;107</title>\n<path fill=\"none\" stroke=\"black\" d=\"M712.59,-71.76C708.01,-62.85 703.28,-53.64 699.08,-45.46\"/>\n<polygon fill=\"black\" stroke=\"black\" points=\"702.12,-43.7 694.44,-36.41 695.89,-46.9 702.12,-43.7\"/>\n</g>\n<!-- 136 -->\n<g id=\"node21\" class=\"node\">\n<title>136</title>\n<path fill=\"#c0c0c0\" stroke=\"black\" d=\"M772.5,-36C772.5,-36 742.5,-36 742.5,-36 736.5,-36 730.5,-30 730.5,-24 730.5,-24 730.5,-12 730.5,-12 730.5,-6 736.5,0 742.5,0 742.5,0 772.5,0 772.5,0 778.5,0 784.5,-6 784.5,-12 784.5,-12 784.5,-24 784.5,-24 784.5,-30 778.5,-36 772.5,-36\"/>\n<text text-anchor=\"middle\" x=\"757.5\" y=\"-14.3\" font-family=\"Helvetica,sans-Serif\" font-size=\"14.00\">(...)</text>\n</g>\n<!-- 106&#45;&gt;136 -->\n<g id=\"edge20\" class=\"edge\">\n<title>106&#45;&gt;136</title>\n<path fill=\"none\" stroke=\"black\" d=\"M743.96,-71.76C746.17,-63.14 748.45,-54.24 750.5,-46.26\"/>\n<polygon fill=\"black\" stroke=\"black\" points=\"753.94,-46.96 753.03,-36.41 747.16,-45.22 753.94,-46.96\"/>\n</g>\n<!-- 139 -->\n<g id=\"node24\" class=\"node\">\n<title>139</title>\n<path fill=\"#e58139\" stroke=\"black\" d=\"M1095,-147.5C1095,-147.5 1002,-147.5 1002,-147.5 996,-147.5 990,-141.5 990,-135.5 990,-135.5 990,-91.5 990,-91.5 990,-85.5 996,-79.5 1002,-79.5 1002,-79.5 1095,-79.5 1095,-79.5 1101,-79.5 1107,-85.5 1107,-91.5 1107,-91.5 1107,-135.5 1107,-135.5 1107,-141.5 1101,-147.5 1095,-147.5\"/>\n<text text-anchor=\"middle\" x=\"1048.5\" y=\"-132.3\" font-family=\"Helvetica,sans-Serif\" font-size=\"14.00\">gini = 0.0</text>\n<text text-anchor=\"middle\" x=\"1048.5\" y=\"-117.3\" font-family=\"Helvetica,sans-Serif\" font-size=\"14.00\">samples = 1.1%</text>\n<text text-anchor=\"middle\" x=\"1048.5\" y=\"-102.3\" font-family=\"Helvetica,sans-Serif\" font-size=\"14.00\">value = [1.0, 0.0]</text>\n<text text-anchor=\"middle\" x=\"1048.5\" y=\"-87.3\" font-family=\"Helvetica,sans-Serif\" font-size=\"14.00\">class = False.</text>\n</g>\n<!-- 138&#45;&gt;139 -->\n<g id=\"edge23\" class=\"edge\">\n<title>138&#45;&gt;139</title>\n<path fill=\"none\" stroke=\"black\" d=\"M1048.5,-190.91C1048.5,-180.2 1048.5,-168.62 1048.5,-157.78\"/>\n<polygon fill=\"black\" stroke=\"black\" points=\"1052,-157.67 1048.5,-147.67 1045,-157.67 1052,-157.67\"/>\n</g>\n<!-- 140 -->\n<g id=\"node25\" class=\"node\">\n<title>140</title>\n<path fill=\"#ea975c\" stroke=\"black\" d=\"M1260,-155C1260,-155 1137,-155 1137,-155 1131,-155 1125,-149 1125,-143 1125,-143 1125,-84 1125,-84 1125,-78 1131,-72 1137,-72 1137,-72 1260,-72 1260,-72 1266,-72 1272,-78 1272,-84 1272,-84 1272,-143 1272,-143 1272,-149 1266,-155 1260,-155\"/>\n<text text-anchor=\"middle\" x=\"1198.5\" y=\"-139.8\" font-family=\"Helvetica,sans-Serif\" font-size=\"14.00\">night_calls &lt;= 141.5</text>\n<text text-anchor=\"middle\" x=\"1198.5\" y=\"-124.8\" font-family=\"Helvetica,sans-Serif\" font-size=\"14.00\">gini = 0.254</text>\n<text text-anchor=\"middle\" x=\"1198.5\" y=\"-109.8\" font-family=\"Helvetica,sans-Serif\" font-size=\"14.00\">samples = 3.4%</text>\n<text text-anchor=\"middle\" x=\"1198.5\" y=\"-94.8\" font-family=\"Helvetica,sans-Serif\" font-size=\"14.00\">value = [0.851, 0.149]</text>\n<text text-anchor=\"middle\" x=\"1198.5\" y=\"-79.8\" font-family=\"Helvetica,sans-Serif\" font-size=\"14.00\">class = False.</text>\n</g>\n<!-- 138&#45;&gt;140 -->\n<g id=\"edge24\" class=\"edge\">\n<title>138&#45;&gt;140</title>\n<path fill=\"none\" stroke=\"black\" d=\"M1100.54,-190.91C1112.76,-181.38 1125.87,-171.15 1138.41,-161.37\"/>\n<polygon fill=\"black\" stroke=\"black\" points=\"1140.82,-163.93 1146.55,-155.02 1136.51,-158.41 1140.82,-163.93\"/>\n</g>\n<!-- 141 -->\n<g id=\"node26\" class=\"node\">\n<title>141</title>\n<path fill=\"#c0c0c0\" stroke=\"black\" d=\"M1177.5,-36C1177.5,-36 1147.5,-36 1147.5,-36 1141.5,-36 1135.5,-30 1135.5,-24 1135.5,-24 1135.5,-12 1135.5,-12 1135.5,-6 1141.5,0 1147.5,0 1147.5,0 1177.5,0 1177.5,0 1183.5,0 1189.5,-6 1189.5,-12 1189.5,-12 1189.5,-24 1189.5,-24 1189.5,-30 1183.5,-36 1177.5,-36\"/>\n<text text-anchor=\"middle\" x=\"1162.5\" y=\"-14.3\" font-family=\"Helvetica,sans-Serif\" font-size=\"14.00\">(...)</text>\n</g>\n<!-- 140&#45;&gt;141 -->\n<g id=\"edge25\" class=\"edge\">\n<title>140&#45;&gt;141</title>\n<path fill=\"none\" stroke=\"black\" d=\"M1182.81,-71.76C1179.46,-63.04 1175.99,-54.04 1172.89,-45.99\"/>\n<polygon fill=\"black\" stroke=\"black\" points=\"1176.06,-44.48 1169.2,-36.41 1169.53,-46.99 1176.06,-44.48\"/>\n</g>\n<!-- 142 -->\n<g id=\"node27\" class=\"node\">\n<title>142</title>\n<path fill=\"#c0c0c0\" stroke=\"black\" d=\"M1249.5,-36C1249.5,-36 1219.5,-36 1219.5,-36 1213.5,-36 1207.5,-30 1207.5,-24 1207.5,-24 1207.5,-12 1207.5,-12 1207.5,-6 1213.5,0 1219.5,0 1219.5,0 1249.5,0 1249.5,0 1255.5,0 1261.5,-6 1261.5,-12 1261.5,-12 1261.5,-24 1261.5,-24 1261.5,-30 1255.5,-36 1249.5,-36\"/>\n<text text-anchor=\"middle\" x=\"1234.5\" y=\"-14.3\" font-family=\"Helvetica,sans-Serif\" font-size=\"14.00\">(...)</text>\n</g>\n<!-- 140&#45;&gt;142 -->\n<g id=\"edge26\" class=\"edge\">\n<title>140&#45;&gt;142</title>\n<path fill=\"none\" stroke=\"black\" d=\"M1214.19,-71.76C1217.54,-63.04 1221.01,-54.04 1224.11,-45.99\"/>\n<polygon fill=\"black\" stroke=\"black\" points=\"1227.47,-46.99 1227.8,-36.41 1220.94,-44.48 1227.47,-46.99\"/>\n</g>\n</g>\n</svg>\n",
            "text/plain": [
              "<graphviz.sources.Source at 0x78ca6fa21120>"
            ]
          },
          "metadata": {},
          "execution_count": 52
        }
      ],
      "source": [
        "dot_data = tree.export_graphviz(tree1,\n",
        "                                out_file=None,\n",
        "                                feature_names=tree1_features,\n",
        "                                class_names = [\"False.\", \"True.\"],\n",
        "                                filled=True,\n",
        "                                max_depth=3,\n",
        "                                impurity=True,\n",
        "                                proportion=True,\n",
        "                                rounded=True,\n",
        "                                special_characters=False)\n",
        "graph = graphviz.Source(dot_data)\n",
        "graph"
      ]
    },
    {
      "cell_type": "code",
      "execution_count": 53,
      "metadata": {
        "colab": {
          "base_uri": "https://localhost:8080/",
          "height": 714
        },
        "id": "vpJaehNJ1Fl5",
        "outputId": "a848b875-9f31-402c-b335-89efee025b61"
      },
      "outputs": [
        {
          "output_type": "execute_result",
          "data": {
            "image/svg+xml": "<?xml version=\"1.0\" encoding=\"UTF-8\" standalone=\"no\"?>\n<!DOCTYPE svg PUBLIC \"-//W3C//DTD SVG 1.1//EN\"\n \"http://www.w3.org/Graphics/SVG/1.1/DTD/svg11.dtd\">\n<!-- Generated by graphviz version 2.43.0 (0)\n -->\n<!-- Title: Tree Pages: 1 -->\n<svg width=\"803pt\" height=\"520pt\"\n viewBox=\"0.00 0.00 803.00 520.00\" xmlns=\"http://www.w3.org/2000/svg\" xmlns:xlink=\"http://www.w3.org/1999/xlink\">\n<g id=\"graph0\" class=\"graph\" transform=\"scale(1 1) rotate(0) translate(4 516)\">\n<title>Tree</title>\n<polygon fill=\"white\" stroke=\"transparent\" points=\"-4,4 -4,-516 799,-516 799,4 -4,4\"/>\n<!-- 0 -->\n<g id=\"node1\" class=\"node\">\n<title>0</title>\n<path fill=\"#e99456\" stroke=\"black\" d=\"M368.5,-512C368.5,-512 240.5,-512 240.5,-512 234.5,-512 228.5,-506 228.5,-500 228.5,-500 228.5,-441 228.5,-441 228.5,-435 234.5,-429 240.5,-429 240.5,-429 368.5,-429 368.5,-429 374.5,-429 380.5,-435 380.5,-441 380.5,-441 380.5,-500 380.5,-500 380.5,-506 374.5,-512 368.5,-512\"/>\n<text text-anchor=\"middle\" x=\"304.5\" y=\"-496.8\" font-family=\"Helvetica,sans-Serif\" font-size=\"14.00\">night_charge &lt;= 5.385</text>\n<text text-anchor=\"middle\" x=\"304.5\" y=\"-481.8\" font-family=\"Helvetica,sans-Serif\" font-size=\"14.00\">gini = 0.224</text>\n<text text-anchor=\"middle\" x=\"304.5\" y=\"-466.8\" font-family=\"Helvetica,sans-Serif\" font-size=\"14.00\">samples = 100.0%</text>\n<text text-anchor=\"middle\" x=\"304.5\" y=\"-451.8\" font-family=\"Helvetica,sans-Serif\" font-size=\"14.00\">value = [0.871, 0.129]</text>\n<text text-anchor=\"middle\" x=\"304.5\" y=\"-436.8\" font-family=\"Helvetica,sans-Serif\" font-size=\"14.00\">class = False.</text>\n</g>\n<!-- 1 -->\n<g id=\"node2\" class=\"node\">\n<title>1</title>\n<path fill=\"#e6843e\" stroke=\"black\" d=\"M284.5,-393C284.5,-393 156.5,-393 156.5,-393 150.5,-393 144.5,-387 144.5,-381 144.5,-381 144.5,-322 144.5,-322 144.5,-316 150.5,-310 156.5,-310 156.5,-310 284.5,-310 284.5,-310 290.5,-310 296.5,-316 296.5,-322 296.5,-322 296.5,-381 296.5,-381 296.5,-387 290.5,-393 284.5,-393\"/>\n<text text-anchor=\"middle\" x=\"220.5\" y=\"-377.8\" font-family=\"Helvetica,sans-Serif\" font-size=\"14.00\">night_charge &lt;= 3.705</text>\n<text text-anchor=\"middle\" x=\"220.5\" y=\"-362.8\" font-family=\"Helvetica,sans-Serif\" font-size=\"14.00\">gini = 0.046</text>\n<text text-anchor=\"middle\" x=\"220.5\" y=\"-347.8\" font-family=\"Helvetica,sans-Serif\" font-size=\"14.00\">samples = 6.0%</text>\n<text text-anchor=\"middle\" x=\"220.5\" y=\"-332.8\" font-family=\"Helvetica,sans-Serif\" font-size=\"14.00\">value = [0.976, 0.024]</text>\n<text text-anchor=\"middle\" x=\"220.5\" y=\"-317.8\" font-family=\"Helvetica,sans-Serif\" font-size=\"14.00\">class = False.</text>\n</g>\n<!-- 0&#45;&gt;1 -->\n<g id=\"edge1\" class=\"edge\">\n<title>0&#45;&gt;1</title>\n<path fill=\"none\" stroke=\"black\" d=\"M275.36,-428.91C268.97,-420.01 262.15,-410.51 255.56,-401.33\"/>\n<polygon fill=\"black\" stroke=\"black\" points=\"258.27,-399.1 249.59,-393.02 252.58,-403.19 258.27,-399.1\"/>\n<text text-anchor=\"middle\" x=\"245.54\" y=\"-413.99\" font-family=\"Helvetica,sans-Serif\" font-size=\"14.00\">True</text>\n</g>\n<!-- 4 -->\n<g id=\"node5\" class=\"node\">\n<title>4</title>\n<path fill=\"#e99558\" stroke=\"black\" d=\"M450,-393C450,-393 327,-393 327,-393 321,-393 315,-387 315,-381 315,-381 315,-322 315,-322 315,-316 321,-310 327,-310 327,-310 450,-310 450,-310 456,-310 462,-316 462,-322 462,-322 462,-381 462,-381 462,-387 456,-393 450,-393\"/>\n<text text-anchor=\"middle\" x=\"388.5\" y=\"-377.8\" font-family=\"Helvetica,sans-Serif\" font-size=\"14.00\">state_MD &lt;= 0.5</text>\n<text text-anchor=\"middle\" x=\"388.5\" y=\"-362.8\" font-family=\"Helvetica,sans-Serif\" font-size=\"14.00\">gini = 0.234</text>\n<text text-anchor=\"middle\" x=\"388.5\" y=\"-347.8\" font-family=\"Helvetica,sans-Serif\" font-size=\"14.00\">samples = 94.0%</text>\n<text text-anchor=\"middle\" x=\"388.5\" y=\"-332.8\" font-family=\"Helvetica,sans-Serif\" font-size=\"14.00\">value = [0.865, 0.135]</text>\n<text text-anchor=\"middle\" x=\"388.5\" y=\"-317.8\" font-family=\"Helvetica,sans-Serif\" font-size=\"14.00\">class = False.</text>\n</g>\n<!-- 0&#45;&gt;4 -->\n<g id=\"edge4\" class=\"edge\">\n<title>0&#45;&gt;4</title>\n<path fill=\"none\" stroke=\"black\" d=\"M333.64,-428.91C340.03,-420.01 346.85,-410.51 353.44,-401.33\"/>\n<polygon fill=\"black\" stroke=\"black\" points=\"356.42,-403.19 359.41,-393.02 350.73,-399.1 356.42,-403.19\"/>\n<text text-anchor=\"middle\" x=\"363.46\" y=\"-413.99\" font-family=\"Helvetica,sans-Serif\" font-size=\"14.00\">False</text>\n</g>\n<!-- 2 -->\n<g id=\"node3\" class=\"node\">\n<title>2</title>\n<path fill=\"#e89050\" stroke=\"black\" d=\"M135,-266.5C135,-266.5 12,-266.5 12,-266.5 6,-266.5 0,-260.5 0,-254.5 0,-254.5 0,-210.5 0,-210.5 0,-204.5 6,-198.5 12,-198.5 12,-198.5 135,-198.5 135,-198.5 141,-198.5 147,-204.5 147,-210.5 147,-210.5 147,-254.5 147,-254.5 147,-260.5 141,-266.5 135,-266.5\"/>\n<text text-anchor=\"middle\" x=\"73.5\" y=\"-251.3\" font-family=\"Helvetica,sans-Serif\" font-size=\"14.00\">gini = 0.188</text>\n<text text-anchor=\"middle\" x=\"73.5\" y=\"-236.3\" font-family=\"Helvetica,sans-Serif\" font-size=\"14.00\">samples = 1.4%</text>\n<text text-anchor=\"middle\" x=\"73.5\" y=\"-221.3\" font-family=\"Helvetica,sans-Serif\" font-size=\"14.00\">value = [0.895, 0.105]</text>\n<text text-anchor=\"middle\" x=\"73.5\" y=\"-206.3\" font-family=\"Helvetica,sans-Serif\" font-size=\"14.00\">class = False.</text>\n</g>\n<!-- 1&#45;&gt;2 -->\n<g id=\"edge2\" class=\"edge\">\n<title>1&#45;&gt;2</title>\n<path fill=\"none\" stroke=\"black\" d=\"M169.5,-309.91C154.53,-297.99 138.17,-284.98 123.28,-273.12\"/>\n<polygon fill=\"black\" stroke=\"black\" points=\"125.18,-270.16 115.17,-266.67 120.82,-275.63 125.18,-270.16\"/>\n</g>\n<!-- 3 -->\n<g id=\"node4\" class=\"node\">\n<title>3</title>\n<path fill=\"#e58139\" stroke=\"black\" d=\"M270,-266.5C270,-266.5 177,-266.5 177,-266.5 171,-266.5 165,-260.5 165,-254.5 165,-254.5 165,-210.5 165,-210.5 165,-204.5 171,-198.5 177,-198.5 177,-198.5 270,-198.5 270,-198.5 276,-198.5 282,-204.5 282,-210.5 282,-210.5 282,-254.5 282,-254.5 282,-260.5 276,-266.5 270,-266.5\"/>\n<text text-anchor=\"middle\" x=\"223.5\" y=\"-251.3\" font-family=\"Helvetica,sans-Serif\" font-size=\"14.00\">gini = 0.0</text>\n<text text-anchor=\"middle\" x=\"223.5\" y=\"-236.3\" font-family=\"Helvetica,sans-Serif\" font-size=\"14.00\">samples = 4.6%</text>\n<text text-anchor=\"middle\" x=\"223.5\" y=\"-221.3\" font-family=\"Helvetica,sans-Serif\" font-size=\"14.00\">value = [1.0, 0.0]</text>\n<text text-anchor=\"middle\" x=\"223.5\" y=\"-206.3\" font-family=\"Helvetica,sans-Serif\" font-size=\"14.00\">class = False.</text>\n</g>\n<!-- 1&#45;&gt;3 -->\n<g id=\"edge3\" class=\"edge\">\n<title>1&#45;&gt;3</title>\n<path fill=\"none\" stroke=\"black\" d=\"M221.54,-309.91C221.82,-299.2 222.11,-287.62 222.39,-276.78\"/>\n<polygon fill=\"black\" stroke=\"black\" points=\"225.89,-276.75 222.65,-266.67 218.89,-276.57 225.89,-276.75\"/>\n</g>\n<!-- 5 -->\n<g id=\"node6\" class=\"node\">\n<title>5</title>\n<path fill=\"#e99457\" stroke=\"black\" d=\"M453.5,-274C453.5,-274 317.5,-274 317.5,-274 311.5,-274 305.5,-268 305.5,-262 305.5,-262 305.5,-203 305.5,-203 305.5,-197 311.5,-191 317.5,-191 317.5,-191 453.5,-191 453.5,-191 459.5,-191 465.5,-197 465.5,-203 465.5,-203 465.5,-262 465.5,-262 465.5,-268 459.5,-274 453.5,-274\"/>\n<text text-anchor=\"middle\" x=\"385.5\" y=\"-258.8\" font-family=\"Helvetica,sans-Serif\" font-size=\"14.00\">night_charge &lt;= 11.325</text>\n<text text-anchor=\"middle\" x=\"385.5\" y=\"-243.8\" font-family=\"Helvetica,sans-Serif\" font-size=\"14.00\">gini = 0.228</text>\n<text text-anchor=\"middle\" x=\"385.5\" y=\"-228.8\" font-family=\"Helvetica,sans-Serif\" font-size=\"14.00\">samples = 92.4%</text>\n<text text-anchor=\"middle\" x=\"385.5\" y=\"-213.8\" font-family=\"Helvetica,sans-Serif\" font-size=\"14.00\">value = [0.869, 0.131]</text>\n<text text-anchor=\"middle\" x=\"385.5\" y=\"-198.8\" font-family=\"Helvetica,sans-Serif\" font-size=\"14.00\">class = False.</text>\n</g>\n<!-- 4&#45;&gt;5 -->\n<g id=\"edge5\" class=\"edge\">\n<title>4&#45;&gt;5</title>\n<path fill=\"none\" stroke=\"black\" d=\"M387.46,-309.91C387.25,-301.56 387.02,-292.67 386.8,-284.02\"/>\n<polygon fill=\"black\" stroke=\"black\" points=\"390.29,-283.93 386.54,-274.02 383.3,-284.11 390.29,-283.93\"/>\n</g>\n<!-- 168 -->\n<g id=\"node13\" class=\"node\">\n<title>168</title>\n<path fill=\"#f3c4a3\" stroke=\"black\" d=\"M619,-274C619,-274 496,-274 496,-274 490,-274 484,-268 484,-262 484,-262 484,-203 484,-203 484,-197 490,-191 496,-191 496,-191 619,-191 619,-191 625,-191 631,-197 631,-203 631,-203 631,-262 631,-262 631,-268 625,-274 619,-274\"/>\n<text text-anchor=\"middle\" x=\"557.5\" y=\"-258.8\" font-family=\"Helvetica,sans-Serif\" font-size=\"14.00\">night_charge &lt;= 8.24</text>\n<text text-anchor=\"middle\" x=\"557.5\" y=\"-243.8\" font-family=\"Helvetica,sans-Serif\" font-size=\"14.00\">gini = 0.454</text>\n<text text-anchor=\"middle\" x=\"557.5\" y=\"-228.8\" font-family=\"Helvetica,sans-Serif\" font-size=\"14.00\">samples = 1.6%</text>\n<text text-anchor=\"middle\" x=\"557.5\" y=\"-213.8\" font-family=\"Helvetica,sans-Serif\" font-size=\"14.00\">value = [0.652, 0.348]</text>\n<text text-anchor=\"middle\" x=\"557.5\" y=\"-198.8\" font-family=\"Helvetica,sans-Serif\" font-size=\"14.00\">class = False.</text>\n</g>\n<!-- 4&#45;&gt;168 -->\n<g id=\"edge12\" class=\"edge\">\n<title>4&#45;&gt;168</title>\n<path fill=\"none\" stroke=\"black\" d=\"M447.13,-309.91C461.16,-300.2 476.24,-289.76 490.61,-279.81\"/>\n<polygon fill=\"black\" stroke=\"black\" points=\"492.74,-282.59 498.97,-274.02 488.76,-276.84 492.74,-282.59\"/>\n</g>\n<!-- 6 -->\n<g id=\"node7\" class=\"node\">\n<title>6</title>\n<path fill=\"#e99355\" stroke=\"black\" d=\"M280.5,-155C280.5,-155 144.5,-155 144.5,-155 138.5,-155 132.5,-149 132.5,-143 132.5,-143 132.5,-84 132.5,-84 132.5,-78 138.5,-72 144.5,-72 144.5,-72 280.5,-72 280.5,-72 286.5,-72 292.5,-78 292.5,-84 292.5,-84 292.5,-143 292.5,-143 292.5,-149 286.5,-155 280.5,-155\"/>\n<text text-anchor=\"middle\" x=\"212.5\" y=\"-139.8\" font-family=\"Helvetica,sans-Serif\" font-size=\"14.00\">night_charge &lt;= 10.225</text>\n<text text-anchor=\"middle\" x=\"212.5\" y=\"-124.8\" font-family=\"Helvetica,sans-Serif\" font-size=\"14.00\">gini = 0.214</text>\n<text text-anchor=\"middle\" x=\"212.5\" y=\"-109.8\" font-family=\"Helvetica,sans-Serif\" font-size=\"14.00\">samples = 77.3%</text>\n<text text-anchor=\"middle\" x=\"212.5\" y=\"-94.8\" font-family=\"Helvetica,sans-Serif\" font-size=\"14.00\">value = [0.878, 0.122]</text>\n<text text-anchor=\"middle\" x=\"212.5\" y=\"-79.8\" font-family=\"Helvetica,sans-Serif\" font-size=\"14.00\">class = False.</text>\n</g>\n<!-- 5&#45;&gt;6 -->\n<g id=\"edge6\" class=\"edge\">\n<title>5&#45;&gt;6</title>\n<path fill=\"none\" stroke=\"black\" d=\"M325.48,-190.91C311.12,-181.2 295.69,-170.76 280.98,-160.81\"/>\n<polygon fill=\"black\" stroke=\"black\" points=\"282.66,-157.72 272.42,-155.02 278.74,-163.52 282.66,-157.72\"/>\n</g>\n<!-- 139 -->\n<g id=\"node10\" class=\"node\">\n<title>139</title>\n<path fill=\"#eb9d64\" stroke=\"black\" d=\"M450.5,-155C450.5,-155 322.5,-155 322.5,-155 316.5,-155 310.5,-149 310.5,-143 310.5,-143 310.5,-84 310.5,-84 310.5,-78 316.5,-72 322.5,-72 322.5,-72 450.5,-72 450.5,-72 456.5,-72 462.5,-78 462.5,-84 462.5,-84 462.5,-143 462.5,-143 462.5,-149 456.5,-155 450.5,-155\"/>\n<text text-anchor=\"middle\" x=\"386.5\" y=\"-139.8\" font-family=\"Helvetica,sans-Serif\" font-size=\"14.00\">night_charge &lt;= 11.71</text>\n<text text-anchor=\"middle\" x=\"386.5\" y=\"-124.8\" font-family=\"Helvetica,sans-Serif\" font-size=\"14.00\">gini = 0.295</text>\n<text text-anchor=\"middle\" x=\"386.5\" y=\"-109.8\" font-family=\"Helvetica,sans-Serif\" font-size=\"14.00\">samples = 15.1%</text>\n<text text-anchor=\"middle\" x=\"386.5\" y=\"-94.8\" font-family=\"Helvetica,sans-Serif\" font-size=\"14.00\">value = [0.82, 0.18]</text>\n<text text-anchor=\"middle\" x=\"386.5\" y=\"-79.8\" font-family=\"Helvetica,sans-Serif\" font-size=\"14.00\">class = False.</text>\n</g>\n<!-- 5&#45;&gt;139 -->\n<g id=\"edge9\" class=\"edge\">\n<title>5&#45;&gt;139</title>\n<path fill=\"none\" stroke=\"black\" d=\"M385.85,-190.91C385.92,-182.65 385.99,-173.86 386.07,-165.3\"/>\n<polygon fill=\"black\" stroke=\"black\" points=\"389.57,-165.05 386.15,-155.02 382.57,-164.99 389.57,-165.05\"/>\n</g>\n<!-- 7 -->\n<g id=\"node8\" class=\"node\">\n<title>7</title>\n<path fill=\"#c0c0c0\" stroke=\"black\" d=\"M206.5,-36C206.5,-36 176.5,-36 176.5,-36 170.5,-36 164.5,-30 164.5,-24 164.5,-24 164.5,-12 164.5,-12 164.5,-6 170.5,0 176.5,0 176.5,0 206.5,0 206.5,0 212.5,0 218.5,-6 218.5,-12 218.5,-12 218.5,-24 218.5,-24 218.5,-30 212.5,-36 206.5,-36\"/>\n<text text-anchor=\"middle\" x=\"191.5\" y=\"-14.3\" font-family=\"Helvetica,sans-Serif\" font-size=\"14.00\">(...)</text>\n</g>\n<!-- 6&#45;&gt;7 -->\n<g id=\"edge7\" class=\"edge\">\n<title>6&#45;&gt;7</title>\n<path fill=\"none\" stroke=\"black\" d=\"M203.35,-71.76C201.41,-63.14 199.41,-54.24 197.62,-46.26\"/>\n<polygon fill=\"black\" stroke=\"black\" points=\"201.02,-45.4 195.41,-36.41 194.19,-46.93 201.02,-45.4\"/>\n</g>\n<!-- 122 -->\n<g id=\"node9\" class=\"node\">\n<title>122</title>\n<path fill=\"#c0c0c0\" stroke=\"black\" d=\"M278.5,-36C278.5,-36 248.5,-36 248.5,-36 242.5,-36 236.5,-30 236.5,-24 236.5,-24 236.5,-12 236.5,-12 236.5,-6 242.5,0 248.5,0 248.5,0 278.5,0 278.5,0 284.5,0 290.5,-6 290.5,-12 290.5,-12 290.5,-24 290.5,-24 290.5,-30 284.5,-36 278.5,-36\"/>\n<text text-anchor=\"middle\" x=\"263.5\" y=\"-14.3\" font-family=\"Helvetica,sans-Serif\" font-size=\"14.00\">(...)</text>\n</g>\n<!-- 6&#45;&gt;122 -->\n<g id=\"edge8\" class=\"edge\">\n<title>6&#45;&gt;122</title>\n<path fill=\"none\" stroke=\"black\" d=\"M234.72,-71.76C239.64,-62.75 244.72,-53.44 249.21,-45.19\"/>\n<polygon fill=\"black\" stroke=\"black\" points=\"252.29,-46.86 254.01,-36.41 246.15,-43.51 252.29,-46.86\"/>\n</g>\n<!-- 140 -->\n<g id=\"node11\" class=\"node\">\n<title>140</title>\n<path fill=\"#c0c0c0\" stroke=\"black\" d=\"M375.5,-36C375.5,-36 345.5,-36 345.5,-36 339.5,-36 333.5,-30 333.5,-24 333.5,-24 333.5,-12 333.5,-12 333.5,-6 339.5,0 345.5,0 345.5,0 375.5,0 375.5,0 381.5,0 387.5,-6 387.5,-12 387.5,-12 387.5,-24 387.5,-24 387.5,-30 381.5,-36 375.5,-36\"/>\n<text text-anchor=\"middle\" x=\"360.5\" y=\"-14.3\" font-family=\"Helvetica,sans-Serif\" font-size=\"14.00\">(...)</text>\n</g>\n<!-- 139&#45;&gt;140 -->\n<g id=\"edge10\" class=\"edge\">\n<title>139&#45;&gt;140</title>\n<path fill=\"none\" stroke=\"black\" d=\"M375.17,-71.76C372.77,-63.14 370.3,-54.24 368.08,-46.26\"/>\n<polygon fill=\"black\" stroke=\"black\" points=\"371.39,-45.1 365.34,-36.41 364.65,-46.98 371.39,-45.1\"/>\n</g>\n<!-- 147 -->\n<g id=\"node12\" class=\"node\">\n<title>147</title>\n<path fill=\"#c0c0c0\" stroke=\"black\" d=\"M447.5,-36C447.5,-36 417.5,-36 417.5,-36 411.5,-36 405.5,-30 405.5,-24 405.5,-24 405.5,-12 405.5,-12 405.5,-6 411.5,0 417.5,0 417.5,0 447.5,0 447.5,0 453.5,0 459.5,-6 459.5,-12 459.5,-12 459.5,-24 459.5,-24 459.5,-30 453.5,-36 447.5,-36\"/>\n<text text-anchor=\"middle\" x=\"432.5\" y=\"-14.3\" font-family=\"Helvetica,sans-Serif\" font-size=\"14.00\">(...)</text>\n</g>\n<!-- 139&#45;&gt;147 -->\n<g id=\"edge11\" class=\"edge\">\n<title>139&#45;&gt;147</title>\n<path fill=\"none\" stroke=\"black\" d=\"M406.54,-71.76C410.93,-62.85 415.46,-53.64 419.48,-45.46\"/>\n<polygon fill=\"black\" stroke=\"black\" points=\"422.66,-46.92 423.94,-36.41 416.38,-43.83 422.66,-46.92\"/>\n</g>\n<!-- 169 -->\n<g id=\"node14\" class=\"node\">\n<title>169</title>\n<path fill=\"#deeffb\" stroke=\"black\" d=\"M618,-147.5C618,-147.5 495,-147.5 495,-147.5 489,-147.5 483,-141.5 483,-135.5 483,-135.5 483,-91.5 483,-91.5 483,-85.5 489,-79.5 495,-79.5 495,-79.5 618,-79.5 618,-79.5 624,-79.5 630,-85.5 630,-91.5 630,-91.5 630,-135.5 630,-135.5 630,-141.5 624,-147.5 618,-147.5\"/>\n<text text-anchor=\"middle\" x=\"556.5\" y=\"-132.3\" font-family=\"Helvetica,sans-Serif\" font-size=\"14.00\">gini = 0.496</text>\n<text text-anchor=\"middle\" x=\"556.5\" y=\"-117.3\" font-family=\"Helvetica,sans-Serif\" font-size=\"14.00\">samples = 0.8%</text>\n<text text-anchor=\"middle\" x=\"556.5\" y=\"-102.3\" font-family=\"Helvetica,sans-Serif\" font-size=\"14.00\">value = [0.455, 0.545]</text>\n<text text-anchor=\"middle\" x=\"556.5\" y=\"-87.3\" font-family=\"Helvetica,sans-Serif\" font-size=\"14.00\">class = True.</text>\n</g>\n<!-- 168&#45;&gt;169 -->\n<g id=\"edge13\" class=\"edge\">\n<title>168&#45;&gt;169</title>\n<path fill=\"none\" stroke=\"black\" d=\"M557.15,-190.91C557.06,-180.2 556.96,-168.62 556.87,-157.78\"/>\n<polygon fill=\"black\" stroke=\"black\" points=\"560.37,-157.64 556.78,-147.67 553.37,-157.7 560.37,-157.64\"/>\n</g>\n<!-- 170 -->\n<g id=\"node15\" class=\"node\">\n<title>170</title>\n<path fill=\"#ea9a61\" stroke=\"black\" d=\"M783,-147.5C783,-147.5 660,-147.5 660,-147.5 654,-147.5 648,-141.5 648,-135.5 648,-135.5 648,-91.5 648,-91.5 648,-85.5 654,-79.5 660,-79.5 660,-79.5 783,-79.5 783,-79.5 789,-79.5 795,-85.5 795,-91.5 795,-91.5 795,-135.5 795,-135.5 795,-141.5 789,-147.5 783,-147.5\"/>\n<text text-anchor=\"middle\" x=\"721.5\" y=\"-132.3\" font-family=\"Helvetica,sans-Serif\" font-size=\"14.00\">gini = 0.278</text>\n<text text-anchor=\"middle\" x=\"721.5\" y=\"-117.3\" font-family=\"Helvetica,sans-Serif\" font-size=\"14.00\">samples = 0.9%</text>\n<text text-anchor=\"middle\" x=\"721.5\" y=\"-102.3\" font-family=\"Helvetica,sans-Serif\" font-size=\"14.00\">value = [0.833, 0.167]</text>\n<text text-anchor=\"middle\" x=\"721.5\" y=\"-87.3\" font-family=\"Helvetica,sans-Serif\" font-size=\"14.00\">class = False.</text>\n</g>\n<!-- 168&#45;&gt;170 -->\n<g id=\"edge14\" class=\"edge\">\n<title>168&#45;&gt;170</title>\n<path fill=\"none\" stroke=\"black\" d=\"M614.4,-190.91C631.26,-178.88 649.68,-165.73 666.43,-153.79\"/>\n<polygon fill=\"black\" stroke=\"black\" points=\"668.9,-156.32 675.01,-147.67 664.84,-150.63 668.9,-156.32\"/>\n</g>\n</g>\n</svg>\n",
            "text/plain": [
              "<graphviz.sources.Source at 0x78ca6fa0b970>"
            ]
          },
          "metadata": {},
          "execution_count": 53
        }
      ],
      "source": [
        "dot_data = tree.export_graphviz(tree2,\n",
        "                                out_file=None,\n",
        "                                feature_names=tree2_features,\n",
        "                                class_names = [\"False.\", \"True.\"],\n",
        "                                filled=True,\n",
        "                                max_depth=3,\n",
        "                                impurity=True,\n",
        "                                proportion=True,\n",
        "                                rounded=True,\n",
        "                                  special_characters=False)\n",
        "graph = graphviz.Source(dot_data)\n",
        "graph"
      ]
    },
    {
      "cell_type": "code",
      "execution_count": 54,
      "metadata": {
        "colab": {
          "base_uri": "https://localhost:8080/",
          "height": 734
        },
        "id": "8-eS9cBN1Fl5",
        "outputId": "dbf0bb5e-dde3-4456-a2cd-0bcac73c21d1"
      },
      "outputs": [
        {
          "output_type": "execute_result",
          "data": {
            "image/svg+xml": "<?xml version=\"1.0\" encoding=\"UTF-8\" standalone=\"no\"?>\n<!DOCTYPE svg PUBLIC \"-//W3C//DTD SVG 1.1//EN\"\n \"http://www.w3.org/Graphics/SVG/1.1/DTD/svg11.dtd\">\n<!-- Generated by graphviz version 2.43.0 (0)\n -->\n<!-- Title: Tree Pages: 1 -->\n<svg width=\"992pt\" height=\"520pt\"\n viewBox=\"0.00 0.00 991.50 520.00\" xmlns=\"http://www.w3.org/2000/svg\" xmlns:xlink=\"http://www.w3.org/1999/xlink\">\n<g id=\"graph0\" class=\"graph\" transform=\"scale(1 1) rotate(0) translate(4 516)\">\n<title>Tree</title>\n<polygon fill=\"white\" stroke=\"transparent\" points=\"-4,4 -4,-516 987.5,-516 987.5,4 -4,4\"/>\n<!-- 0 -->\n<g id=\"node1\" class=\"node\">\n<title>0</title>\n<path fill=\"#e99456\" stroke=\"black\" d=\"M725,-512C725,-512 597,-512 597,-512 591,-512 585,-506 585,-500 585,-500 585,-441 585,-441 585,-435 591,-429 597,-429 597,-429 725,-429 725,-429 731,-429 737,-435 737,-441 737,-441 737,-500 737,-500 737,-506 731,-512 725,-512\"/>\n<text text-anchor=\"middle\" x=\"661\" y=\"-496.8\" font-family=\"Helvetica,sans-Serif\" font-size=\"14.00\">day_charge &lt;= 44.815</text>\n<text text-anchor=\"middle\" x=\"661\" y=\"-481.8\" font-family=\"Helvetica,sans-Serif\" font-size=\"14.00\">gini = 0.225</text>\n<text text-anchor=\"middle\" x=\"661\" y=\"-466.8\" font-family=\"Helvetica,sans-Serif\" font-size=\"14.00\">samples = 100.0%</text>\n<text text-anchor=\"middle\" x=\"661\" y=\"-451.8\" font-family=\"Helvetica,sans-Serif\" font-size=\"14.00\">value = [0.871, 0.129]</text>\n<text text-anchor=\"middle\" x=\"661\" y=\"-436.8\" font-family=\"Helvetica,sans-Serif\" font-size=\"14.00\">class = False.</text>\n</g>\n<!-- 1 -->\n<g id=\"node2\" class=\"node\">\n<title>1</title>\n<path fill=\"#e88f50\" stroke=\"black\" d=\"M554.5,-393C554.5,-393 431.5,-393 431.5,-393 425.5,-393 419.5,-387 419.5,-381 419.5,-381 419.5,-322 419.5,-322 419.5,-316 425.5,-310 431.5,-310 431.5,-310 554.5,-310 554.5,-310 560.5,-310 566.5,-316 566.5,-322 566.5,-322 566.5,-381 566.5,-381 566.5,-387 560.5,-393 554.5,-393\"/>\n<text text-anchor=\"middle\" x=\"493\" y=\"-377.8\" font-family=\"Helvetica,sans-Serif\" font-size=\"14.00\">day_charge &lt;= 37.95</text>\n<text text-anchor=\"middle\" x=\"493\" y=\"-362.8\" font-family=\"Helvetica,sans-Serif\" font-size=\"14.00\">gini = 0.183</text>\n<text text-anchor=\"middle\" x=\"493\" y=\"-347.8\" font-family=\"Helvetica,sans-Serif\" font-size=\"14.00\">samples = 95.1%</text>\n<text text-anchor=\"middle\" x=\"493\" y=\"-332.8\" font-family=\"Helvetica,sans-Serif\" font-size=\"14.00\">value = [0.898, 0.102]</text>\n<text text-anchor=\"middle\" x=\"493\" y=\"-317.8\" font-family=\"Helvetica,sans-Serif\" font-size=\"14.00\">class = False.</text>\n</g>\n<!-- 0&#45;&gt;1 -->\n<g id=\"edge1\" class=\"edge\">\n<title>0&#45;&gt;1</title>\n<path fill=\"none\" stroke=\"black\" d=\"M602.71,-428.91C588.77,-419.2 573.78,-408.76 559.5,-398.81\"/>\n<polygon fill=\"black\" stroke=\"black\" points=\"561.39,-395.86 551.18,-393.02 557.39,-401.61 561.39,-395.86\"/>\n<text text-anchor=\"middle\" x=\"555.59\" y=\"-413.93\" font-family=\"Helvetica,sans-Serif\" font-size=\"14.00\">True</text>\n</g>\n<!-- 130 -->\n<g id=\"node17\" class=\"node\">\n<title>130</title>\n<path fill=\"#9ecff2\" stroke=\"black\" d=\"M809,-393C809,-393 681,-393 681,-393 675,-393 669,-387 669,-381 669,-381 669,-322 669,-322 669,-316 675,-310 681,-310 681,-310 809,-310 809,-310 815,-310 821,-316 821,-322 821,-322 821,-381 821,-381 821,-387 815,-393 809,-393\"/>\n<text text-anchor=\"middle\" x=\"745\" y=\"-377.8\" font-family=\"Helvetica,sans-Serif\" font-size=\"14.00\">day_charge &lt;= 53.375</text>\n<text text-anchor=\"middle\" x=\"745\" y=\"-362.8\" font-family=\"Helvetica,sans-Serif\" font-size=\"14.00\">gini = 0.448</text>\n<text text-anchor=\"middle\" x=\"745\" y=\"-347.8\" font-family=\"Helvetica,sans-Serif\" font-size=\"14.00\">samples = 4.9%</text>\n<text text-anchor=\"middle\" x=\"745\" y=\"-332.8\" font-family=\"Helvetica,sans-Serif\" font-size=\"14.00\">value = [0.338, 0.662]</text>\n<text text-anchor=\"middle\" x=\"745\" y=\"-317.8\" font-family=\"Helvetica,sans-Serif\" font-size=\"14.00\">class = True.</text>\n</g>\n<!-- 0&#45;&gt;130 -->\n<g id=\"edge16\" class=\"edge\">\n<title>0&#45;&gt;130</title>\n<path fill=\"none\" stroke=\"black\" d=\"M690.14,-428.91C696.53,-420.01 703.35,-410.51 709.94,-401.33\"/>\n<polygon fill=\"black\" stroke=\"black\" points=\"712.92,-403.19 715.91,-393.02 707.23,-399.1 712.92,-403.19\"/>\n<text text-anchor=\"middle\" x=\"719.96\" y=\"-413.99\" font-family=\"Helvetica,sans-Serif\" font-size=\"14.00\">False</text>\n</g>\n<!-- 2 -->\n<g id=\"node3\" class=\"node\">\n<title>2</title>\n<path fill=\"#e78c4a\" stroke=\"black\" d=\"M305.5,-274C305.5,-274 182.5,-274 182.5,-274 176.5,-274 170.5,-268 170.5,-262 170.5,-262 170.5,-203 170.5,-203 170.5,-197 176.5,-191 182.5,-191 182.5,-191 305.5,-191 305.5,-191 311.5,-191 317.5,-197 317.5,-203 317.5,-203 317.5,-262 317.5,-262 317.5,-268 311.5,-274 305.5,-274\"/>\n<text text-anchor=\"middle\" x=\"244\" y=\"-258.8\" font-family=\"Helvetica,sans-Serif\" font-size=\"14.00\">intl_calls &lt;= 3.5</text>\n<text text-anchor=\"middle\" x=\"244\" y=\"-243.8\" font-family=\"Helvetica,sans-Serif\" font-size=\"14.00\">gini = 0.149</text>\n<text text-anchor=\"middle\" x=\"244\" y=\"-228.8\" font-family=\"Helvetica,sans-Serif\" font-size=\"14.00\">samples = 80.1%</text>\n<text text-anchor=\"middle\" x=\"244\" y=\"-213.8\" font-family=\"Helvetica,sans-Serif\" font-size=\"14.00\">value = [0.919, 0.081]</text>\n<text text-anchor=\"middle\" x=\"244\" y=\"-198.8\" font-family=\"Helvetica,sans-Serif\" font-size=\"14.00\">class = False.</text>\n</g>\n<!-- 1&#45;&gt;2 -->\n<g id=\"edge2\" class=\"edge\">\n<title>1&#45;&gt;2</title>\n<path fill=\"none\" stroke=\"black\" d=\"M419.3,-315.87C390.19,-302.19 356.61,-286.41 326.67,-272.35\"/>\n<polygon fill=\"black\" stroke=\"black\" points=\"328.05,-269.13 317.51,-268.04 325.07,-275.46 328.05,-269.13\"/>\n</g>\n<!-- 101 -->\n<g id=\"node10\" class=\"node\">\n<title>101</title>\n<path fill=\"#eca36f\" stroke=\"black\" d=\"M554.5,-274C554.5,-274 431.5,-274 431.5,-274 425.5,-274 419.5,-268 419.5,-262 419.5,-262 419.5,-203 419.5,-203 419.5,-197 425.5,-191 431.5,-191 431.5,-191 554.5,-191 554.5,-191 560.5,-191 566.5,-197 566.5,-203 566.5,-203 566.5,-262 566.5,-262 566.5,-268 560.5,-274 554.5,-274\"/>\n<text text-anchor=\"middle\" x=\"493\" y=\"-258.8\" font-family=\"Helvetica,sans-Serif\" font-size=\"14.00\">intl_calls &lt;= 2.5</text>\n<text text-anchor=\"middle\" x=\"493\" y=\"-243.8\" font-family=\"Helvetica,sans-Serif\" font-size=\"14.00\">gini = 0.337</text>\n<text text-anchor=\"middle\" x=\"493\" y=\"-228.8\" font-family=\"Helvetica,sans-Serif\" font-size=\"14.00\">samples = 15.0%</text>\n<text text-anchor=\"middle\" x=\"493\" y=\"-213.8\" font-family=\"Helvetica,sans-Serif\" font-size=\"14.00\">value = [0.786, 0.214]</text>\n<text text-anchor=\"middle\" x=\"493\" y=\"-198.8\" font-family=\"Helvetica,sans-Serif\" font-size=\"14.00\">class = False.</text>\n</g>\n<!-- 1&#45;&gt;101 -->\n<g id=\"edge9\" class=\"edge\">\n<title>1&#45;&gt;101</title>\n<path fill=\"none\" stroke=\"black\" d=\"M493,-309.91C493,-301.65 493,-292.86 493,-284.3\"/>\n<polygon fill=\"black\" stroke=\"black\" points=\"496.5,-284.02 493,-274.02 489.5,-284.02 496.5,-284.02\"/>\n</g>\n<!-- 3 -->\n<g id=\"node4\" class=\"node\">\n<title>3</title>\n<path fill=\"#e99457\" stroke=\"black\" d=\"M140,-155C140,-155 12,-155 12,-155 6,-155 0,-149 0,-143 0,-143 0,-84 0,-84 0,-78 6,-72 12,-72 12,-72 140,-72 140,-72 146,-72 152,-78 152,-84 152,-84 152,-143 152,-143 152,-149 146,-155 140,-155\"/>\n<text text-anchor=\"middle\" x=\"76\" y=\"-139.8\" font-family=\"Helvetica,sans-Serif\" font-size=\"14.00\">day_charge &lt;= 29.485</text>\n<text text-anchor=\"middle\" x=\"76\" y=\"-124.8\" font-family=\"Helvetica,sans-Serif\" font-size=\"14.00\">gini = 0.23</text>\n<text text-anchor=\"middle\" x=\"76\" y=\"-109.8\" font-family=\"Helvetica,sans-Serif\" font-size=\"14.00\">samples = 31.8%</text>\n<text text-anchor=\"middle\" x=\"76\" y=\"-94.8\" font-family=\"Helvetica,sans-Serif\" font-size=\"14.00\">value = [0.867, 0.133]</text>\n<text text-anchor=\"middle\" x=\"76\" y=\"-79.8\" font-family=\"Helvetica,sans-Serif\" font-size=\"14.00\">class = False.</text>\n</g>\n<!-- 2&#45;&gt;3 -->\n<g id=\"edge3\" class=\"edge\">\n<title>2&#45;&gt;3</title>\n<path fill=\"none\" stroke=\"black\" d=\"M185.71,-190.91C171.77,-181.2 156.78,-170.76 142.5,-160.81\"/>\n<polygon fill=\"black\" stroke=\"black\" points=\"144.39,-157.86 134.18,-155.02 140.39,-163.61 144.39,-157.86\"/>\n</g>\n<!-- 50 -->\n<g id=\"node7\" class=\"node\">\n<title>50</title>\n<path fill=\"#e68743\" stroke=\"black\" d=\"M305.5,-155C305.5,-155 182.5,-155 182.5,-155 176.5,-155 170.5,-149 170.5,-143 170.5,-143 170.5,-84 170.5,-84 170.5,-78 176.5,-72 182.5,-72 182.5,-72 305.5,-72 305.5,-72 311.5,-72 317.5,-78 317.5,-84 317.5,-84 317.5,-143 317.5,-143 317.5,-149 311.5,-155 305.5,-155\"/>\n<text text-anchor=\"middle\" x=\"244\" y=\"-139.8\" font-family=\"Helvetica,sans-Serif\" font-size=\"14.00\">eve_calls &lt;= 109.5</text>\n<text text-anchor=\"middle\" x=\"244\" y=\"-124.8\" font-family=\"Helvetica,sans-Serif\" font-size=\"14.00\">gini = 0.09</text>\n<text text-anchor=\"middle\" x=\"244\" y=\"-109.8\" font-family=\"Helvetica,sans-Serif\" font-size=\"14.00\">samples = 48.4%</text>\n<text text-anchor=\"middle\" x=\"244\" y=\"-94.8\" font-family=\"Helvetica,sans-Serif\" font-size=\"14.00\">value = [0.953, 0.047]</text>\n<text text-anchor=\"middle\" x=\"244\" y=\"-79.8\" font-family=\"Helvetica,sans-Serif\" font-size=\"14.00\">class = False.</text>\n</g>\n<!-- 2&#45;&gt;50 -->\n<g id=\"edge6\" class=\"edge\">\n<title>2&#45;&gt;50</title>\n<path fill=\"none\" stroke=\"black\" d=\"M244,-190.91C244,-182.65 244,-173.86 244,-165.3\"/>\n<polygon fill=\"black\" stroke=\"black\" points=\"247.5,-165.02 244,-155.02 240.5,-165.02 247.5,-165.02\"/>\n</g>\n<!-- 4 -->\n<g id=\"node5\" class=\"node\">\n<title>4</title>\n<path fill=\"#c0c0c0\" stroke=\"black\" d=\"M55,-36C55,-36 25,-36 25,-36 19,-36 13,-30 13,-24 13,-24 13,-12 13,-12 13,-6 19,0 25,0 25,0 55,0 55,0 61,0 67,-6 67,-12 67,-12 67,-24 67,-24 67,-30 61,-36 55,-36\"/>\n<text text-anchor=\"middle\" x=\"40\" y=\"-14.3\" font-family=\"Helvetica,sans-Serif\" font-size=\"14.00\">(...)</text>\n</g>\n<!-- 3&#45;&gt;4 -->\n<g id=\"edge4\" class=\"edge\">\n<title>3&#45;&gt;4</title>\n<path fill=\"none\" stroke=\"black\" d=\"M60.31,-71.76C56.96,-63.04 53.49,-54.04 50.39,-45.99\"/>\n<polygon fill=\"black\" stroke=\"black\" points=\"53.56,-44.48 46.7,-36.41 47.03,-46.99 53.56,-44.48\"/>\n</g>\n<!-- 33 -->\n<g id=\"node6\" class=\"node\">\n<title>33</title>\n<path fill=\"#c0c0c0\" stroke=\"black\" d=\"M127,-36C127,-36 97,-36 97,-36 91,-36 85,-30 85,-24 85,-24 85,-12 85,-12 85,-6 91,0 97,0 97,0 127,0 127,0 133,0 139,-6 139,-12 139,-12 139,-24 139,-24 139,-30 133,-36 127,-36\"/>\n<text text-anchor=\"middle\" x=\"112\" y=\"-14.3\" font-family=\"Helvetica,sans-Serif\" font-size=\"14.00\">(...)</text>\n</g>\n<!-- 3&#45;&gt;33 -->\n<g id=\"edge5\" class=\"edge\">\n<title>3&#45;&gt;33</title>\n<path fill=\"none\" stroke=\"black\" d=\"M91.69,-71.76C95.04,-63.04 98.51,-54.04 101.61,-45.99\"/>\n<polygon fill=\"black\" stroke=\"black\" points=\"104.97,-46.99 105.3,-36.41 98.44,-44.48 104.97,-46.99\"/>\n</g>\n<!-- 51 -->\n<g id=\"node8\" class=\"node\">\n<title>51</title>\n<path fill=\"#c0c0c0\" stroke=\"black\" d=\"M229,-36C229,-36 199,-36 199,-36 193,-36 187,-30 187,-24 187,-24 187,-12 187,-12 187,-6 193,0 199,0 199,0 229,0 229,0 235,0 241,-6 241,-12 241,-12 241,-24 241,-24 241,-30 235,-36 229,-36\"/>\n<text text-anchor=\"middle\" x=\"214\" y=\"-14.3\" font-family=\"Helvetica,sans-Serif\" font-size=\"14.00\">(...)</text>\n</g>\n<!-- 50&#45;&gt;51 -->\n<g id=\"edge7\" class=\"edge\">\n<title>50&#45;&gt;51</title>\n<path fill=\"none\" stroke=\"black\" d=\"M230.93,-71.76C228.13,-63.04 225.24,-54.04 222.66,-45.99\"/>\n<polygon fill=\"black\" stroke=\"black\" points=\"225.97,-44.86 219.58,-36.41 219.31,-47 225.97,-44.86\"/>\n</g>\n<!-- 78 -->\n<g id=\"node9\" class=\"node\">\n<title>78</title>\n<path fill=\"#c0c0c0\" stroke=\"black\" d=\"M301,-36C301,-36 271,-36 271,-36 265,-36 259,-30 259,-24 259,-24 259,-12 259,-12 259,-6 265,0 271,0 271,0 301,0 301,0 307,0 313,-6 313,-12 313,-12 313,-24 313,-24 313,-30 307,-36 301,-36\"/>\n<text text-anchor=\"middle\" x=\"286\" y=\"-14.3\" font-family=\"Helvetica,sans-Serif\" font-size=\"14.00\">(...)</text>\n</g>\n<!-- 50&#45;&gt;78 -->\n<g id=\"edge8\" class=\"edge\">\n<title>50&#45;&gt;78</title>\n<path fill=\"none\" stroke=\"black\" d=\"M262.3,-71.76C266.26,-62.94 270.35,-53.84 274,-45.72\"/>\n<polygon fill=\"black\" stroke=\"black\" points=\"277.28,-46.96 278.18,-36.41 270.89,-44.09 277.28,-46.96\"/>\n</g>\n<!-- 102 -->\n<g id=\"node11\" class=\"node\">\n<title>102</title>\n<path fill=\"#f2c09c\" stroke=\"black\" d=\"M470.5,-155C470.5,-155 347.5,-155 347.5,-155 341.5,-155 335.5,-149 335.5,-143 335.5,-143 335.5,-84 335.5,-84 335.5,-78 341.5,-72 347.5,-72 347.5,-72 470.5,-72 470.5,-72 476.5,-72 482.5,-78 482.5,-84 482.5,-84 482.5,-143 482.5,-143 482.5,-149 476.5,-155 470.5,-155\"/>\n<text text-anchor=\"middle\" x=\"409\" y=\"-139.8\" font-family=\"Helvetica,sans-Serif\" font-size=\"14.00\">area_code &lt;= 462.5</text>\n<text text-anchor=\"middle\" x=\"409\" y=\"-124.8\" font-family=\"Helvetica,sans-Serif\" font-size=\"14.00\">gini = 0.444</text>\n<text text-anchor=\"middle\" x=\"409\" y=\"-109.8\" font-family=\"Helvetica,sans-Serif\" font-size=\"14.00\">samples = 4.3%</text>\n<text text-anchor=\"middle\" x=\"409\" y=\"-94.8\" font-family=\"Helvetica,sans-Serif\" font-size=\"14.00\">value = [0.667, 0.333]</text>\n<text text-anchor=\"middle\" x=\"409\" y=\"-79.8\" font-family=\"Helvetica,sans-Serif\" font-size=\"14.00\">class = False.</text>\n</g>\n<!-- 101&#45;&gt;102 -->\n<g id=\"edge10\" class=\"edge\">\n<title>101&#45;&gt;102</title>\n<path fill=\"none\" stroke=\"black\" d=\"M463.86,-190.91C457.47,-182.01 450.65,-172.51 444.06,-163.33\"/>\n<polygon fill=\"black\" stroke=\"black\" points=\"446.77,-161.1 438.09,-155.02 441.08,-165.19 446.77,-161.1\"/>\n</g>\n<!-- 111 -->\n<g id=\"node14\" class=\"node\">\n<title>111</title>\n<path fill=\"#ea9a61\" stroke=\"black\" d=\"M641,-155C641,-155 513,-155 513,-155 507,-155 501,-149 501,-143 501,-143 501,-84 501,-84 501,-78 507,-72 513,-72 513,-72 641,-72 641,-72 647,-72 653,-78 653,-84 653,-84 653,-143 653,-143 653,-149 647,-155 641,-155\"/>\n<text text-anchor=\"middle\" x=\"577\" y=\"-139.8\" font-family=\"Helvetica,sans-Serif\" font-size=\"14.00\">day_charge &lt;= 38.555</text>\n<text text-anchor=\"middle\" x=\"577\" y=\"-124.8\" font-family=\"Helvetica,sans-Serif\" font-size=\"14.00\">gini = 0.278</text>\n<text text-anchor=\"middle\" x=\"577\" y=\"-109.8\" font-family=\"Helvetica,sans-Serif\" font-size=\"14.00\">samples = 10.7%</text>\n<text text-anchor=\"middle\" x=\"577\" y=\"-94.8\" font-family=\"Helvetica,sans-Serif\" font-size=\"14.00\">value = [0.833, 0.167]</text>\n<text text-anchor=\"middle\" x=\"577\" y=\"-79.8\" font-family=\"Helvetica,sans-Serif\" font-size=\"14.00\">class = False.</text>\n</g>\n<!-- 101&#45;&gt;111 -->\n<g id=\"edge13\" class=\"edge\">\n<title>101&#45;&gt;111</title>\n<path fill=\"none\" stroke=\"black\" d=\"M522.14,-190.91C528.53,-182.01 535.35,-172.51 541.94,-163.33\"/>\n<polygon fill=\"black\" stroke=\"black\" points=\"544.92,-165.19 547.91,-155.02 539.23,-161.1 544.92,-165.19\"/>\n</g>\n<!-- 103 -->\n<g id=\"node12\" class=\"node\">\n<title>103</title>\n<path fill=\"#c0c0c0\" stroke=\"black\" d=\"M399,-36C399,-36 369,-36 369,-36 363,-36 357,-30 357,-24 357,-24 357,-12 357,-12 357,-6 363,0 369,0 369,0 399,0 399,0 405,0 411,-6 411,-12 411,-12 411,-24 411,-24 411,-30 405,-36 399,-36\"/>\n<text text-anchor=\"middle\" x=\"384\" y=\"-14.3\" font-family=\"Helvetica,sans-Serif\" font-size=\"14.00\">(...)</text>\n</g>\n<!-- 102&#45;&gt;103 -->\n<g id=\"edge11\" class=\"edge\">\n<title>102&#45;&gt;103</title>\n<path fill=\"none\" stroke=\"black\" d=\"M398.11,-71.76C395.8,-63.14 393.42,-54.24 391.29,-46.26\"/>\n<polygon fill=\"black\" stroke=\"black\" points=\"394.62,-45.16 388.65,-36.41 387.86,-46.97 394.62,-45.16\"/>\n</g>\n<!-- 110 -->\n<g id=\"node13\" class=\"node\">\n<title>110</title>\n<path fill=\"#c0c0c0\" stroke=\"black\" d=\"M471,-36C471,-36 441,-36 441,-36 435,-36 429,-30 429,-24 429,-24 429,-12 429,-12 429,-6 435,0 441,0 441,0 471,0 471,0 477,0 483,-6 483,-12 483,-12 483,-24 483,-24 483,-30 477,-36 471,-36\"/>\n<text text-anchor=\"middle\" x=\"456\" y=\"-14.3\" font-family=\"Helvetica,sans-Serif\" font-size=\"14.00\">(...)</text>\n</g>\n<!-- 102&#45;&gt;110 -->\n<g id=\"edge12\" class=\"edge\">\n<title>102&#45;&gt;110</title>\n<path fill=\"none\" stroke=\"black\" d=\"M429.48,-71.76C433.96,-62.85 438.59,-53.64 442.7,-45.46\"/>\n<polygon fill=\"black\" stroke=\"black\" points=\"445.89,-46.91 447.25,-36.41 439.63,-43.77 445.89,-46.91\"/>\n</g>\n<!-- 112 -->\n<g id=\"node15\" class=\"node\">\n<title>112</title>\n<path fill=\"#c0c0c0\" stroke=\"black\" d=\"M568,-36C568,-36 538,-36 538,-36 532,-36 526,-30 526,-24 526,-24 526,-12 526,-12 526,-6 532,0 538,0 538,0 568,0 568,0 574,0 580,-6 580,-12 580,-12 580,-24 580,-24 580,-30 574,-36 568,-36\"/>\n<text text-anchor=\"middle\" x=\"553\" y=\"-14.3\" font-family=\"Helvetica,sans-Serif\" font-size=\"14.00\">(...)</text>\n</g>\n<!-- 111&#45;&gt;112 -->\n<g id=\"edge14\" class=\"edge\">\n<title>111&#45;&gt;112</title>\n<path fill=\"none\" stroke=\"black\" d=\"M566.54,-71.76C564.33,-63.14 562.05,-54.24 560,-46.26\"/>\n<polygon fill=\"black\" stroke=\"black\" points=\"563.34,-45.22 557.47,-36.41 556.56,-46.96 563.34,-45.22\"/>\n</g>\n<!-- 113 -->\n<g id=\"node16\" class=\"node\">\n<title>113</title>\n<path fill=\"#c0c0c0\" stroke=\"black\" d=\"M640,-36C640,-36 610,-36 610,-36 604,-36 598,-30 598,-24 598,-24 598,-12 598,-12 598,-6 604,0 610,0 610,0 640,0 640,0 646,0 652,-6 652,-12 652,-12 652,-24 652,-24 652,-30 646,-36 640,-36\"/>\n<text text-anchor=\"middle\" x=\"625\" y=\"-14.3\" font-family=\"Helvetica,sans-Serif\" font-size=\"14.00\">(...)</text>\n</g>\n<!-- 111&#45;&gt;113 -->\n<g id=\"edge15\" class=\"edge\">\n<title>111&#45;&gt;113</title>\n<path fill=\"none\" stroke=\"black\" d=\"M597.91,-71.76C602.49,-62.85 607.22,-53.64 611.42,-45.46\"/>\n<polygon fill=\"black\" stroke=\"black\" points=\"614.61,-46.9 616.06,-36.41 608.38,-43.7 614.61,-46.9\"/>\n</g>\n<!-- 131 -->\n<g id=\"node18\" class=\"node\">\n<title>131</title>\n<path fill=\"#bfdff7\" stroke=\"black\" d=\"M806.5,-274C806.5,-274 683.5,-274 683.5,-274 677.5,-274 671.5,-268 671.5,-262 671.5,-262 671.5,-203 671.5,-203 671.5,-197 677.5,-191 683.5,-191 683.5,-191 806.5,-191 806.5,-191 812.5,-191 818.5,-197 818.5,-203 818.5,-203 818.5,-262 818.5,-262 818.5,-268 812.5,-274 806.5,-274\"/>\n<text text-anchor=\"middle\" x=\"745\" y=\"-258.8\" font-family=\"Helvetica,sans-Serif\" font-size=\"14.00\">eve_calls &lt;= 90.5</text>\n<text text-anchor=\"middle\" x=\"745\" y=\"-243.8\" font-family=\"Helvetica,sans-Serif\" font-size=\"14.00\">gini = 0.481</text>\n<text text-anchor=\"middle\" x=\"745\" y=\"-228.8\" font-family=\"Helvetica,sans-Serif\" font-size=\"14.00\">samples = 4.1%</text>\n<text text-anchor=\"middle\" x=\"745\" y=\"-213.8\" font-family=\"Helvetica,sans-Serif\" font-size=\"14.00\">value = [0.404, 0.596]</text>\n<text text-anchor=\"middle\" x=\"745\" y=\"-198.8\" font-family=\"Helvetica,sans-Serif\" font-size=\"14.00\">class = True.</text>\n</g>\n<!-- 130&#45;&gt;131 -->\n<g id=\"edge17\" class=\"edge\">\n<title>130&#45;&gt;131</title>\n<path fill=\"none\" stroke=\"black\" d=\"M745,-309.91C745,-301.65 745,-292.86 745,-284.3\"/>\n<polygon fill=\"black\" stroke=\"black\" points=\"748.5,-284.02 745,-274.02 741.5,-284.02 748.5,-284.02\"/>\n</g>\n<!-- 140 -->\n<g id=\"node23\" class=\"node\">\n<title>140</title>\n<path fill=\"#399de5\" stroke=\"black\" d=\"M941.5,-266.5C941.5,-266.5 848.5,-266.5 848.5,-266.5 842.5,-266.5 836.5,-260.5 836.5,-254.5 836.5,-254.5 836.5,-210.5 836.5,-210.5 836.5,-204.5 842.5,-198.5 848.5,-198.5 848.5,-198.5 941.5,-198.5 941.5,-198.5 947.5,-198.5 953.5,-204.5 953.5,-210.5 953.5,-210.5 953.5,-254.5 953.5,-254.5 953.5,-260.5 947.5,-266.5 941.5,-266.5\"/>\n<text text-anchor=\"middle\" x=\"895\" y=\"-251.3\" font-family=\"Helvetica,sans-Serif\" font-size=\"14.00\">gini = 0.0</text>\n<text text-anchor=\"middle\" x=\"895\" y=\"-236.3\" font-family=\"Helvetica,sans-Serif\" font-size=\"14.00\">samples = 0.8%</text>\n<text text-anchor=\"middle\" x=\"895\" y=\"-221.3\" font-family=\"Helvetica,sans-Serif\" font-size=\"14.00\">value = [0.0, 1.0]</text>\n<text text-anchor=\"middle\" x=\"895\" y=\"-206.3\" font-family=\"Helvetica,sans-Serif\" font-size=\"14.00\">class = True.</text>\n</g>\n<!-- 130&#45;&gt;140 -->\n<g id=\"edge22\" class=\"edge\">\n<title>130&#45;&gt;140</title>\n<path fill=\"none\" stroke=\"black\" d=\"M797.04,-309.91C812.32,-297.99 829.01,-284.98 844.21,-273.12\"/>\n<polygon fill=\"black\" stroke=\"black\" points=\"846.75,-275.58 852.48,-266.67 842.44,-270.06 846.75,-275.58\"/>\n</g>\n<!-- 132 -->\n<g id=\"node19\" class=\"node\">\n<title>132</title>\n<path fill=\"#55abe9\" stroke=\"black\" d=\"M806.5,-147.5C806.5,-147.5 683.5,-147.5 683.5,-147.5 677.5,-147.5 671.5,-141.5 671.5,-135.5 671.5,-135.5 671.5,-91.5 671.5,-91.5 671.5,-85.5 677.5,-79.5 683.5,-79.5 683.5,-79.5 806.5,-79.5 806.5,-79.5 812.5,-79.5 818.5,-85.5 818.5,-91.5 818.5,-91.5 818.5,-135.5 818.5,-135.5 818.5,-141.5 812.5,-147.5 806.5,-147.5\"/>\n<text text-anchor=\"middle\" x=\"745\" y=\"-132.3\" font-family=\"Helvetica,sans-Serif\" font-size=\"14.00\">gini = 0.219</text>\n<text text-anchor=\"middle\" x=\"745\" y=\"-117.3\" font-family=\"Helvetica,sans-Serif\" font-size=\"14.00\">samples = 1.1%</text>\n<text text-anchor=\"middle\" x=\"745\" y=\"-102.3\" font-family=\"Helvetica,sans-Serif\" font-size=\"14.00\">value = [0.125, 0.875]</text>\n<text text-anchor=\"middle\" x=\"745\" y=\"-87.3\" font-family=\"Helvetica,sans-Serif\" font-size=\"14.00\">class = True.</text>\n</g>\n<!-- 131&#45;&gt;132 -->\n<g id=\"edge18\" class=\"edge\">\n<title>131&#45;&gt;132</title>\n<path fill=\"none\" stroke=\"black\" d=\"M745,-190.91C745,-180.2 745,-168.62 745,-157.78\"/>\n<polygon fill=\"black\" stroke=\"black\" points=\"748.5,-157.67 745,-147.67 741.5,-157.67 748.5,-157.67\"/>\n</g>\n<!-- 133 -->\n<g id=\"node20\" class=\"node\">\n<title>133</title>\n<path fill=\"#fef9f6\" stroke=\"black\" d=\"M971.5,-155C971.5,-155 848.5,-155 848.5,-155 842.5,-155 836.5,-149 836.5,-143 836.5,-143 836.5,-84 836.5,-84 836.5,-78 842.5,-72 848.5,-72 848.5,-72 971.5,-72 971.5,-72 977.5,-72 983.5,-78 983.5,-84 983.5,-84 983.5,-143 983.5,-143 983.5,-149 977.5,-155 971.5,-155\"/>\n<text text-anchor=\"middle\" x=\"910\" y=\"-139.8\" font-family=\"Helvetica,sans-Serif\" font-size=\"14.00\">eve_calls &lt;= 110.5</text>\n<text text-anchor=\"middle\" x=\"910\" y=\"-124.8\" font-family=\"Helvetica,sans-Serif\" font-size=\"14.00\">gini = 0.5</text>\n<text text-anchor=\"middle\" x=\"910\" y=\"-109.8\" font-family=\"Helvetica,sans-Serif\" font-size=\"14.00\">samples = 2.9%</text>\n<text text-anchor=\"middle\" x=\"910\" y=\"-94.8\" font-family=\"Helvetica,sans-Serif\" font-size=\"14.00\">value = [0.512, 0.488]</text>\n<text text-anchor=\"middle\" x=\"910\" y=\"-79.8\" font-family=\"Helvetica,sans-Serif\" font-size=\"14.00\">class = False.</text>\n</g>\n<!-- 131&#45;&gt;133 -->\n<g id=\"edge19\" class=\"edge\">\n<title>131&#45;&gt;133</title>\n<path fill=\"none\" stroke=\"black\" d=\"M802.25,-190.91C815.94,-181.2 830.66,-170.76 844.69,-160.81\"/>\n<polygon fill=\"black\" stroke=\"black\" points=\"846.72,-163.66 852.86,-155.02 842.67,-157.95 846.72,-163.66\"/>\n</g>\n<!-- 134 -->\n<g id=\"node21\" class=\"node\">\n<title>134</title>\n<path fill=\"#c0c0c0\" stroke=\"black\" d=\"M889,-36C889,-36 859,-36 859,-36 853,-36 847,-30 847,-24 847,-24 847,-12 847,-12 847,-6 853,0 859,0 859,0 889,0 889,0 895,0 901,-6 901,-12 901,-12 901,-24 901,-24 901,-30 895,-36 889,-36\"/>\n<text text-anchor=\"middle\" x=\"874\" y=\"-14.3\" font-family=\"Helvetica,sans-Serif\" font-size=\"14.00\">(...)</text>\n</g>\n<!-- 133&#45;&gt;134 -->\n<g id=\"edge20\" class=\"edge\">\n<title>133&#45;&gt;134</title>\n<path fill=\"none\" stroke=\"black\" d=\"M894.31,-71.76C890.96,-63.04 887.49,-54.04 884.39,-45.99\"/>\n<polygon fill=\"black\" stroke=\"black\" points=\"887.56,-44.48 880.7,-36.41 881.03,-46.99 887.56,-44.48\"/>\n</g>\n<!-- 137 -->\n<g id=\"node22\" class=\"node\">\n<title>137</title>\n<path fill=\"#c0c0c0\" stroke=\"black\" d=\"M961,-36C961,-36 931,-36 931,-36 925,-36 919,-30 919,-24 919,-24 919,-12 919,-12 919,-6 925,0 931,0 931,0 961,0 961,0 967,0 973,-6 973,-12 973,-12 973,-24 973,-24 973,-30 967,-36 961,-36\"/>\n<text text-anchor=\"middle\" x=\"946\" y=\"-14.3\" font-family=\"Helvetica,sans-Serif\" font-size=\"14.00\">(...)</text>\n</g>\n<!-- 133&#45;&gt;137 -->\n<g id=\"edge21\" class=\"edge\">\n<title>133&#45;&gt;137</title>\n<path fill=\"none\" stroke=\"black\" d=\"M925.69,-71.76C929.04,-63.04 932.51,-54.04 935.61,-45.99\"/>\n<polygon fill=\"black\" stroke=\"black\" points=\"938.97,-46.99 939.3,-36.41 932.44,-44.48 938.97,-46.99\"/>\n</g>\n</g>\n</svg>\n",
            "text/plain": [
              "<graphviz.sources.Source at 0x78ca6fa23dc0>"
            ]
          },
          "metadata": {},
          "execution_count": 54
        }
      ],
      "source": [
        "dot_data = tree.export_graphviz(tree3,\n",
        "                                out_file=None,\n",
        "                                feature_names=tree3_features,\n",
        "                                class_names = [\"False.\", \"True.\"],\n",
        "                                filled=True,\n",
        "                                max_depth=3,\n",
        "                                impurity=True,\n",
        "                                proportion=True,\n",
        "                                rounded=True,\n",
        "                                  special_characters=False)\n",
        "graph = graphviz.Source(dot_data)\n",
        "graph"
      ]
    },
    {
      "cell_type": "markdown",
      "metadata": {
        "id": "beMDfGEO1Fl5"
      },
      "source": [
        "### Did you know you can Extract rules from tree!\n",
        "---\n",
        "Here is a handy function to extract business rules \"export_text\"\n",
        "\n",
        "https://scikit-learn.org/stable/modules/generated/sklearn.tree.export_text.html\n"
      ]
    },
    {
      "cell_type": "code",
      "execution_count": 55,
      "metadata": {
        "colab": {
          "base_uri": "https://localhost:8080/"
        },
        "id": "CzC2p9uS1Fl5",
        "outputId": "b5f183db-800f-4e19-e329-d1642af455d8"
      },
      "outputs": [
        {
          "output_type": "stream",
          "name": "stdout",
          "text": [
            "|--- day_charge <= 44.81\n",
            "|   |--- day_charge <= 37.95\n",
            "|   |   |--- intl_calls <= 3.50\n",
            "|   |   |   |--- day_charge <= 29.48\n",
            "|   |   |   |   |--- truncated branch of depth 9\n",
            "|   |   |   |--- day_charge >  29.48\n",
            "|   |   |   |   |--- truncated branch of depth 9\n",
            "|   |   |--- intl_calls >  3.50\n",
            "|   |   |   |--- eve_calls <= 109.50\n",
            "|   |   |   |   |--- truncated branch of depth 7\n",
            "|   |   |   |--- eve_calls >  109.50\n",
            "|   |   |   |   |--- truncated branch of depth 7\n",
            "|   |--- day_charge >  37.95\n",
            "|   |   |--- intl_calls <= 2.50\n",
            "|   |   |   |--- area_code <= 462.50\n",
            "|   |   |   |   |--- truncated branch of depth 3\n",
            "|   |   |   |--- area_code >  462.50\n",
            "|   |   |   |   |--- class: False.\n",
            "|   |   |--- intl_calls >  2.50\n",
            "|   |   |   |--- day_charge <= 38.56\n",
            "|   |   |   |   |--- class: False.\n",
            "|   |   |   |--- day_charge >  38.56\n",
            "|   |   |   |   |--- truncated branch of depth 5\n",
            "|--- day_charge >  44.81\n",
            "|   |--- day_charge <= 53.38\n",
            "|   |   |--- eve_calls <= 90.50\n",
            "|   |   |   |--- class: True.\n",
            "|   |   |--- eve_calls >  90.50\n",
            "|   |   |   |--- eve_calls <= 110.50\n",
            "|   |   |   |   |--- truncated branch of depth 2\n",
            "|   |   |   |--- eve_calls >  110.50\n",
            "|   |   |   |   |--- truncated branch of depth 2\n",
            "|   |--- day_charge >  53.38\n",
            "|   |   |--- class: True.\n",
            "\n"
          ]
        }
      ],
      "source": [
        "r = export_text(tree3, feature_names=tree3_features, max_depth=3)\n",
        "print(r)"
      ]
    },
    {
      "cell_type": "markdown",
      "metadata": {
        "id": "LomLRG231Fl5"
      },
      "source": [
        "## 4 & 5 Random Forest works by Averaging or Voting on the Predictions\n",
        "----\n",
        "\n",
        "Here we make predictions for each tree, then we use mode to vote on the winning prediction.\n"
      ]
    },
    {
      "cell_type": "code",
      "source": [],
      "metadata": {
        "id": "uQcigIQm3K77"
      },
      "execution_count": 55,
      "outputs": []
    },
    {
      "cell_type": "code",
      "source": [
        "tree1.predict(tree1_sample[tree1_features])"
      ],
      "metadata": {
        "colab": {
          "base_uri": "https://localhost:8080/"
        },
        "id": "Ch6Fe11S3fY4",
        "outputId": "4393c2a8-c5b1-4b6a-984d-653e8398f47b"
      },
      "execution_count": 56,
      "outputs": [
        {
          "output_type": "execute_result",
          "data": {
            "text/plain": [
              "array(['False.', 'False.', 'False.', ..., 'False.', 'False.', 'False.'],\n",
              "      dtype=object)"
            ]
          },
          "metadata": {},
          "execution_count": 56
        }
      ]
    },
    {
      "cell_type": "code",
      "execution_count": 57,
      "metadata": {
        "id": "rnt6fZ4m1Fl6"
      },
      "outputs": [],
      "source": [
        "X_train[\"pred_tree1\"] = tree1.predict(X_train[tree1_features])\n",
        "X_train[\"pred_tree2\"] = tree2.predict(X_train[tree2_features])\n",
        "X_train[\"pred_tree3\"] = tree3.predict(X_train[tree3_features])\n",
        "# voting\n",
        "X_train[\"pred_mode\"] = X_train[[\"pred_tree1\",\"pred_tree2\",\"pred_tree3\"]].mode(axis=1)\n",
        "\n",
        "X_test[\"pred_tree1\"] = tree1.predict(X_test[tree1_features])\n",
        "X_test[\"pred_tree2\"] = tree2.predict(X_test[tree2_features])\n",
        "X_test[\"pred_tree3\"] = tree3.predict(X_test[tree3_features])\n",
        "# vote\n",
        "X_test[\"pred_mode\"] = X_test[[\"pred_tree1\",\"pred_tree2\",\"pred_tree3\"]].mode(axis=1)\n"
      ]
    },
    {
      "cell_type": "code",
      "execution_count": 57,
      "metadata": {
        "id": "Og1HnmDR1Fl6"
      },
      "outputs": [],
      "source": []
    },
    {
      "cell_type": "markdown",
      "metadata": {
        "id": "lna_aolt1Fl6"
      },
      "source": [
        "## Next we evaluate how we did"
      ]
    },
    {
      "cell_type": "code",
      "execution_count": 58,
      "metadata": {
        "colab": {
          "base_uri": "https://localhost:8080/"
        },
        "id": "0eTKqhe_1Fl6",
        "outputId": "fbc39c50-0364-4121-a89c-00295635045e"
      },
      "outputs": [
        {
          "output_type": "stream",
          "name": "stdout",
          "text": [
            "Default Accuracy : 85.51%\n",
            "model: pred_tree1\n",
            "\t Train Accuracy   : 85.81%\n",
            "\t Test Accuracy    : 84.80%\n",
            "model: pred_tree2\n",
            "\t Train Accuracy   : 85.51%\n",
            "\t Test Accuracy    : 83.80%\n",
            "model: pred_tree3\n",
            "\t Train Accuracy   : 86.71%\n",
            "\t Test Accuracy    : 84.20%\n",
            "model: pred_mode\n",
            "\t Train Accuracy   : 85.98%\n",
            "\t Test Accuracy    : 84.90%\n"
          ]
        }
      ],
      "source": [
        "accuracy_default = df['churn'].value_counts(normalize='True')[0]\n",
        "print(\"Default Accuracy : {:2.2%}\".format(accuracy_default))\n",
        "for col in [\"pred_tree1\",\"pred_tree2\",\"pred_tree3\",\"pred_mode\"]:\n",
        "    accuracy_train = accuracy_score(X_train[target], X_train[col])\n",
        "    accuracy_test = accuracy_score(X_test[target], X_test[col])\n",
        "    print(\"model: {}\".format(col))\n",
        "    print(\"\\t Train Accuracy   : {:2.2%}\".format(accuracy_train))\n",
        "    print(\"\\t Test Accuracy    : {:2.2%}\".format(accuracy_test))"
      ]
    },
    {
      "cell_type": "markdown",
      "metadata": {
        "id": "D1A7PEAd1Fl6"
      },
      "source": [
        "## RANDOM FOREST\n",
        "----\n",
        "IF one tree is good, then a hundred would be better right?\n",
        "\n",
        "https://scikit-learn.org/stable/modules/generated/sklearn.ensemble.RandomForestClassifier.html\n",
        "\n"
      ]
    },
    {
      "cell_type": "code",
      "execution_count": 59,
      "metadata": {
        "colab": {
          "base_uri": "https://localhost:8080/",
          "height": 74
        },
        "id": "G72VHD-K1Fl6",
        "outputId": "e2ee381e-9e09-4d40-9d70-a7491407e59e"
      },
      "outputs": [
        {
          "output_type": "execute_result",
          "data": {
            "text/plain": [
              "RandomForestClassifier(n_estimators=50)"
            ],
            "text/html": [
              "<style>#sk-container-id-9 {color: black;background-color: white;}#sk-container-id-9 pre{padding: 0;}#sk-container-id-9 div.sk-toggleable {background-color: white;}#sk-container-id-9 label.sk-toggleable__label {cursor: pointer;display: block;width: 100%;margin-bottom: 0;padding: 0.3em;box-sizing: border-box;text-align: center;}#sk-container-id-9 label.sk-toggleable__label-arrow:before {content: \"▸\";float: left;margin-right: 0.25em;color: #696969;}#sk-container-id-9 label.sk-toggleable__label-arrow:hover:before {color: black;}#sk-container-id-9 div.sk-estimator:hover label.sk-toggleable__label-arrow:before {color: black;}#sk-container-id-9 div.sk-toggleable__content {max-height: 0;max-width: 0;overflow: hidden;text-align: left;background-color: #f0f8ff;}#sk-container-id-9 div.sk-toggleable__content pre {margin: 0.2em;color: black;border-radius: 0.25em;background-color: #f0f8ff;}#sk-container-id-9 input.sk-toggleable__control:checked~div.sk-toggleable__content {max-height: 200px;max-width: 100%;overflow: auto;}#sk-container-id-9 input.sk-toggleable__control:checked~label.sk-toggleable__label-arrow:before {content: \"▾\";}#sk-container-id-9 div.sk-estimator input.sk-toggleable__control:checked~label.sk-toggleable__label {background-color: #d4ebff;}#sk-container-id-9 div.sk-label input.sk-toggleable__control:checked~label.sk-toggleable__label {background-color: #d4ebff;}#sk-container-id-9 input.sk-hidden--visually {border: 0;clip: rect(1px 1px 1px 1px);clip: rect(1px, 1px, 1px, 1px);height: 1px;margin: -1px;overflow: hidden;padding: 0;position: absolute;width: 1px;}#sk-container-id-9 div.sk-estimator {font-family: monospace;background-color: #f0f8ff;border: 1px dotted black;border-radius: 0.25em;box-sizing: border-box;margin-bottom: 0.5em;}#sk-container-id-9 div.sk-estimator:hover {background-color: #d4ebff;}#sk-container-id-9 div.sk-parallel-item::after {content: \"\";width: 100%;border-bottom: 1px solid gray;flex-grow: 1;}#sk-container-id-9 div.sk-label:hover label.sk-toggleable__label {background-color: #d4ebff;}#sk-container-id-9 div.sk-serial::before {content: \"\";position: absolute;border-left: 1px solid gray;box-sizing: border-box;top: 0;bottom: 0;left: 50%;z-index: 0;}#sk-container-id-9 div.sk-serial {display: flex;flex-direction: column;align-items: center;background-color: white;padding-right: 0.2em;padding-left: 0.2em;position: relative;}#sk-container-id-9 div.sk-item {position: relative;z-index: 1;}#sk-container-id-9 div.sk-parallel {display: flex;align-items: stretch;justify-content: center;background-color: white;position: relative;}#sk-container-id-9 div.sk-item::before, #sk-container-id-9 div.sk-parallel-item::before {content: \"\";position: absolute;border-left: 1px solid gray;box-sizing: border-box;top: 0;bottom: 0;left: 50%;z-index: -1;}#sk-container-id-9 div.sk-parallel-item {display: flex;flex-direction: column;z-index: 1;position: relative;background-color: white;}#sk-container-id-9 div.sk-parallel-item:first-child::after {align-self: flex-end;width: 50%;}#sk-container-id-9 div.sk-parallel-item:last-child::after {align-self: flex-start;width: 50%;}#sk-container-id-9 div.sk-parallel-item:only-child::after {width: 0;}#sk-container-id-9 div.sk-dashed-wrapped {border: 1px dashed gray;margin: 0 0.4em 0.5em 0.4em;box-sizing: border-box;padding-bottom: 0.4em;background-color: white;}#sk-container-id-9 div.sk-label label {font-family: monospace;font-weight: bold;display: inline-block;line-height: 1.2em;}#sk-container-id-9 div.sk-label-container {text-align: center;}#sk-container-id-9 div.sk-container {/* jupyter's `normalize.less` sets `[hidden] { display: none; }` but bootstrap.min.css set `[hidden] { display: none !important; }` so we also need the `!important` here to be able to override the default hidden behavior on the sphinx rendered scikit-learn.org. See: https://github.com/scikit-learn/scikit-learn/issues/21755 */display: inline-block !important;position: relative;}#sk-container-id-9 div.sk-text-repr-fallback {display: none;}</style><div id=\"sk-container-id-9\" class=\"sk-top-container\"><div class=\"sk-text-repr-fallback\"><pre>RandomForestClassifier(n_estimators=50)</pre><b>In a Jupyter environment, please rerun this cell to show the HTML representation or trust the notebook. <br />On GitHub, the HTML representation is unable to render, please try loading this page with nbviewer.org.</b></div><div class=\"sk-container\" hidden><div class=\"sk-item\"><div class=\"sk-estimator sk-toggleable\"><input class=\"sk-toggleable__control sk-hidden--visually\" id=\"sk-estimator-id-9\" type=\"checkbox\" checked><label for=\"sk-estimator-id-9\" class=\"sk-toggleable__label sk-toggleable__label-arrow\">RandomForestClassifier</label><div class=\"sk-toggleable__content\"><pre>RandomForestClassifier(n_estimators=50)</pre></div></div></div></div></div>"
            ]
          },
          "metadata": {},
          "execution_count": 59
        }
      ],
      "source": [
        "rf_clf = RandomForestClassifier(n_estimators= 50)\n",
        "rf_clf.fit(X_train[feature_names], X_train[target])"
      ]
    },
    {
      "cell_type": "code",
      "execution_count": 60,
      "metadata": {
        "colab": {
          "base_uri": "https://localhost:8080/"
        },
        "id": "GdHPOWUb1Fl6",
        "outputId": "fea7e33f-97ed-410c-e634-8bd78c71a1ac"
      },
      "outputs": [
        {
          "output_type": "stream",
          "name": "stdout",
          "text": [
            "Default Accuracy : 85.51%\n",
            "model: forest_pred\n",
            "\t Train Accuracy   : 99.96%\n",
            "\t Test Accuracy    : 93.60%\n"
          ]
        }
      ],
      "source": [
        "X_train[\"forest_pred\"] = rf_clf.predict(X_train[feature_names])\n",
        "X_test[\"forest_pred\"] = rf_clf.predict(X_test[feature_names])\n",
        "\n",
        "print(\"Default Accuracy : {:2.2%}\".format(accuracy_default))\n",
        "for col in [\"forest_pred\"]:\n",
        "    accuracy_train = accuracy_score(X_train[target], X_train[col])\n",
        "    accuracy_test = accuracy_score(X_test[target], X_test[col])\n",
        "    print(\"model: {}\".format(col))\n",
        "    print(\"\\t Train Accuracy   : {:2.2%}\".format(accuracy_train))\n",
        "    print(\"\\t Test Accuracy    : {:2.2%}\".format(accuracy_test))"
      ]
    },
    {
      "cell_type": "markdown",
      "metadata": {
        "id": "74WDTm6J1Fl6"
      },
      "source": [
        "## Prediction Probabilities\n",
        "----\n",
        "by default we use a score threshold of 0.5, meaning if the probabliy of churn is >= to 0.5 we classifiy this as churn=True. othewise churn=False.\n",
        "\n",
        "as the predicted probably increases our precision increases but our recall decreases."
      ]
    },
    {
      "cell_type": "code",
      "execution_count": 61,
      "metadata": {
        "colab": {
          "base_uri": "https://localhost:8080/",
          "height": 331
        },
        "id": "WbK6GdP61Fl6",
        "outputId": "b0ffd574-f44d-405e-c370-b7309c7f4282"
      },
      "outputs": [
        {
          "output_type": "display_data",
          "data": {
            "text/plain": [
              "<Figure size 2000x500 with 1 Axes>"
            ],
            "image/png": "[encoded data removed]"
          },
          "metadata": {}
        }
      ],
      "source": [
        "X_test[\"forest_churn_probability\"] = rf_clf.predict_proba(X_test[feature_names])[:,1]\n",
        "\n",
        "#- plot\n",
        "plt.figure(figsize=(20, 5))\n",
        "sns.histplot(X_test,bins=50, x=\"forest_churn_probability\",hue=\"churn\")\n",
        "plt.axvline(x=0.5, color=\"red\")\n",
        "plt.title(\"predicted probabilites of churn \")\n",
        "plt.show()"
      ]
    },
    {
      "cell_type": "code",
      "execution_count": 62,
      "metadata": {
        "colab": {
          "base_uri": "https://localhost:8080/",
          "height": 74
        },
        "id": "qn0rkEr21Fl6",
        "outputId": "475e1e4c-c82a-4541-a3ab-17fa0167055c"
      },
      "outputs": [
        {
          "output_type": "execute_result",
          "data": {
            "text/plain": [
              "DecisionTreeClassifier(max_features='sqrt', random_state=1351858851)"
            ],
            "text/html": [
              "<style>#sk-container-id-10 {color: black;background-color: white;}#sk-container-id-10 pre{padding: 0;}#sk-container-id-10 div.sk-toggleable {background-color: white;}#sk-container-id-10 label.sk-toggleable__label {cursor: pointer;display: block;width: 100%;margin-bottom: 0;padding: 0.3em;box-sizing: border-box;text-align: center;}#sk-container-id-10 label.sk-toggleable__label-arrow:before {content: \"▸\";float: left;margin-right: 0.25em;color: #696969;}#sk-container-id-10 label.sk-toggleable__label-arrow:hover:before {color: black;}#sk-container-id-10 div.sk-estimator:hover label.sk-toggleable__label-arrow:before {color: black;}#sk-container-id-10 div.sk-toggleable__content {max-height: 0;max-width: 0;overflow: hidden;text-align: left;background-color: #f0f8ff;}#sk-container-id-10 div.sk-toggleable__content pre {margin: 0.2em;color: black;border-radius: 0.25em;background-color: #f0f8ff;}#sk-container-id-10 input.sk-toggleable__control:checked~div.sk-toggleable__content {max-height: 200px;max-width: 100%;overflow: auto;}#sk-container-id-10 input.sk-toggleable__control:checked~label.sk-toggleable__label-arrow:before {content: \"▾\";}#sk-container-id-10 div.sk-estimator input.sk-toggleable__control:checked~label.sk-toggleable__label {background-color: #d4ebff;}#sk-container-id-10 div.sk-label input.sk-toggleable__control:checked~label.sk-toggleable__label {background-color: #d4ebff;}#sk-container-id-10 input.sk-hidden--visually {border: 0;clip: rect(1px 1px 1px 1px);clip: rect(1px, 1px, 1px, 1px);height: 1px;margin: -1px;overflow: hidden;padding: 0;position: absolute;width: 1px;}#sk-container-id-10 div.sk-estimator {font-family: monospace;background-color: #f0f8ff;border: 1px dotted black;border-radius: 0.25em;box-sizing: border-box;margin-bottom: 0.5em;}#sk-container-id-10 div.sk-estimator:hover {background-color: #d4ebff;}#sk-container-id-10 div.sk-parallel-item::after {content: \"\";width: 100%;border-bottom: 1px solid gray;flex-grow: 1;}#sk-container-id-10 div.sk-label:hover label.sk-toggleable__label {background-color: #d4ebff;}#sk-container-id-10 div.sk-serial::before {content: \"\";position: absolute;border-left: 1px solid gray;box-sizing: border-box;top: 0;bottom: 0;left: 50%;z-index: 0;}#sk-container-id-10 div.sk-serial {display: flex;flex-direction: column;align-items: center;background-color: white;padding-right: 0.2em;padding-left: 0.2em;position: relative;}#sk-container-id-10 div.sk-item {position: relative;z-index: 1;}#sk-container-id-10 div.sk-parallel {display: flex;align-items: stretch;justify-content: center;background-color: white;position: relative;}#sk-container-id-10 div.sk-item::before, #sk-container-id-10 div.sk-parallel-item::before {content: \"\";position: absolute;border-left: 1px solid gray;box-sizing: border-box;top: 0;bottom: 0;left: 50%;z-index: -1;}#sk-container-id-10 div.sk-parallel-item {display: flex;flex-direction: column;z-index: 1;position: relative;background-color: white;}#sk-container-id-10 div.sk-parallel-item:first-child::after {align-self: flex-end;width: 50%;}#sk-container-id-10 div.sk-parallel-item:last-child::after {align-self: flex-start;width: 50%;}#sk-container-id-10 div.sk-parallel-item:only-child::after {width: 0;}#sk-container-id-10 div.sk-dashed-wrapped {border: 1px dashed gray;margin: 0 0.4em 0.5em 0.4em;box-sizing: border-box;padding-bottom: 0.4em;background-color: white;}#sk-container-id-10 div.sk-label label {font-family: monospace;font-weight: bold;display: inline-block;line-height: 1.2em;}#sk-container-id-10 div.sk-label-container {text-align: center;}#sk-container-id-10 div.sk-container {/* jupyter's `normalize.less` sets `[hidden] { display: none; }` but bootstrap.min.css set `[hidden] { display: none !important; }` so we also need the `!important` here to be able to override the default hidden behavior on the sphinx rendered scikit-learn.org. See: https://github.com/scikit-learn/scikit-learn/issues/21755 */display: inline-block !important;position: relative;}#sk-container-id-10 div.sk-text-repr-fallback {display: none;}</style><div id=\"sk-container-id-10\" class=\"sk-top-container\"><div class=\"sk-text-repr-fallback\"><pre>DecisionTreeClassifier(max_features=&#x27;sqrt&#x27;, random_state=1351858851)</pre><b>In a Jupyter environment, please rerun this cell to show the HTML representation or trust the notebook. <br />On GitHub, the HTML representation is unable to render, please try loading this page with nbviewer.org.</b></div><div class=\"sk-container\" hidden><div class=\"sk-item\"><div class=\"sk-estimator sk-toggleable\"><input class=\"sk-toggleable__control sk-hidden--visually\" id=\"sk-estimator-id-10\" type=\"checkbox\" checked><label for=\"sk-estimator-id-10\" class=\"sk-toggleable__label sk-toggleable__label-arrow\">DecisionTreeClassifier</label><div class=\"sk-toggleable__content\"><pre>DecisionTreeClassifier(max_features=&#x27;sqrt&#x27;, random_state=1351858851)</pre></div></div></div></div></div>"
            ]
          },
          "metadata": {},
          "execution_count": 62
        }
      ],
      "source": [
        "estimators = rf_clf.estimators_\n",
        "estimators[0]"
      ]
    },
    {
      "cell_type": "code",
      "execution_count": 63,
      "metadata": {
        "colab": {
          "base_uri": "https://localhost:8080/",
          "height": 714
        },
        "id": "CMm9Pxog1Fl6",
        "outputId": "9bf2f029-0cd6-4bde-eb38-4e1ef5e0f782"
      },
      "outputs": [
        {
          "output_type": "execute_result",
          "data": {
            "image/svg+xml": "<?xml version=\"1.0\" encoding=\"UTF-8\" standalone=\"no\"?>\n<!DOCTYPE svg PUBLIC \"-//W3C//DTD SVG 1.1//EN\"\n \"http://www.w3.org/Graphics/SVG/1.1/DTD/svg11.dtd\">\n<!-- Generated by graphviz version 2.43.0 (0)\n -->\n<!-- Title: Tree Pages: 1 -->\n<svg width=\"682pt\" height=\"520pt\"\n viewBox=\"0.00 0.00 682.00 520.00\" xmlns=\"http://www.w3.org/2000/svg\" xmlns:xlink=\"http://www.w3.org/1999/xlink\">\n<g id=\"graph0\" class=\"graph\" transform=\"scale(1 1) rotate(0) translate(4 516)\">\n<title>Tree</title>\n<polygon fill=\"white\" stroke=\"transparent\" points=\"-4,4 -4,-516 678,-516 678,4 -4,4\"/>\n<!-- 0 -->\n<g id=\"node1\" class=\"node\">\n<title>0</title>\n<path fill=\"#ea985d\" stroke=\"black\" d=\"M347.5,-512C347.5,-512 219.5,-512 219.5,-512 213.5,-512 207.5,-506 207.5,-500 207.5,-500 207.5,-441 207.5,-441 207.5,-435 213.5,-429 219.5,-429 219.5,-429 347.5,-429 347.5,-429 353.5,-429 359.5,-435 359.5,-441 359.5,-441 359.5,-500 359.5,-500 359.5,-506 353.5,-512 347.5,-512\"/>\n<text text-anchor=\"middle\" x=\"283.5\" y=\"-496.8\" font-family=\"Helvetica,sans-Serif\" font-size=\"14.00\">day_charge &lt;= 44.975</text>\n<text text-anchor=\"middle\" x=\"283.5\" y=\"-481.8\" font-family=\"Helvetica,sans-Serif\" font-size=\"14.00\">gini = 0.259</text>\n<text text-anchor=\"middle\" x=\"283.5\" y=\"-466.8\" font-family=\"Helvetica,sans-Serif\" font-size=\"14.00\">samples = 100.0%</text>\n<text text-anchor=\"middle\" x=\"283.5\" y=\"-451.8\" font-family=\"Helvetica,sans-Serif\" font-size=\"14.00\">value = [0.847, 0.153]</text>\n<text text-anchor=\"middle\" x=\"283.5\" y=\"-436.8\" font-family=\"Helvetica,sans-Serif\" font-size=\"14.00\">class = False.</text>\n</g>\n<!-- 1 -->\n<g id=\"node2\" class=\"node\">\n<title>1</title>\n<path fill=\"#e99355\" stroke=\"black\" d=\"M262,-393C262,-393 135,-393 135,-393 129,-393 123,-387 123,-381 123,-381 123,-322 123,-322 123,-316 129,-310 135,-310 135,-310 262,-310 262,-310 268,-310 274,-316 274,-322 274,-322 274,-381 274,-381 274,-387 268,-393 262,-393\"/>\n<text text-anchor=\"middle\" x=\"198.5\" y=\"-377.8\" font-family=\"Helvetica,sans-Serif\" font-size=\"14.00\">account_length &lt;= 2.5</text>\n<text text-anchor=\"middle\" x=\"198.5\" y=\"-362.8\" font-family=\"Helvetica,sans-Serif\" font-size=\"14.00\">gini = 0.217</text>\n<text text-anchor=\"middle\" x=\"198.5\" y=\"-347.8\" font-family=\"Helvetica,sans-Serif\" font-size=\"14.00\">samples = 94.3%</text>\n<text text-anchor=\"middle\" x=\"198.5\" y=\"-332.8\" font-family=\"Helvetica,sans-Serif\" font-size=\"14.00\">value = [0.876, 0.124]</text>\n<text text-anchor=\"middle\" x=\"198.5\" y=\"-317.8\" font-family=\"Helvetica,sans-Serif\" font-size=\"14.00\">class = False.</text>\n</g>\n<!-- 0&#45;&gt;1 -->\n<g id=\"edge1\" class=\"edge\">\n<title>0&#45;&gt;1</title>\n<path fill=\"none\" stroke=\"black\" d=\"M254.01,-428.91C247.55,-420.01 240.64,-410.51 233.98,-401.33\"/>\n<polygon fill=\"black\" stroke=\"black\" points=\"236.65,-399.05 227.94,-393.02 230.98,-403.17 236.65,-399.05\"/>\n<text text-anchor=\"middle\" x=\"224.03\" y=\"-414.01\" font-family=\"Helvetica,sans-Serif\" font-size=\"14.00\">True</text>\n</g>\n<!-- 434 -->\n<g id=\"node11\" class=\"node\">\n<title>434</title>\n<path fill=\"#97ccf1\" stroke=\"black\" d=\"M432.5,-393C432.5,-393 304.5,-393 304.5,-393 298.5,-393 292.5,-387 292.5,-381 292.5,-381 292.5,-322 292.5,-322 292.5,-316 298.5,-310 304.5,-310 304.5,-310 432.5,-310 432.5,-310 438.5,-310 444.5,-316 444.5,-322 444.5,-322 444.5,-381 444.5,-381 444.5,-387 438.5,-393 432.5,-393\"/>\n<text text-anchor=\"middle\" x=\"368.5\" y=\"-377.8\" font-family=\"Helvetica,sans-Serif\" font-size=\"14.00\">eve_charge &lt;= 12.675</text>\n<text text-anchor=\"middle\" x=\"368.5\" y=\"-362.8\" font-family=\"Helvetica,sans-Serif\" font-size=\"14.00\">gini = 0.437</text>\n<text text-anchor=\"middle\" x=\"368.5\" y=\"-347.8\" font-family=\"Helvetica,sans-Serif\" font-size=\"14.00\">samples = 5.7%</text>\n<text text-anchor=\"middle\" x=\"368.5\" y=\"-332.8\" font-family=\"Helvetica,sans-Serif\" font-size=\"14.00\">value = [0.323, 0.677]</text>\n<text text-anchor=\"middle\" x=\"368.5\" y=\"-317.8\" font-family=\"Helvetica,sans-Serif\" font-size=\"14.00\">class = True.</text>\n</g>\n<!-- 0&#45;&gt;434 -->\n<g id=\"edge10\" class=\"edge\">\n<title>0&#45;&gt;434</title>\n<path fill=\"none\" stroke=\"black\" d=\"M312.99,-428.91C319.45,-420.01 326.36,-410.51 333.02,-401.33\"/>\n<polygon fill=\"black\" stroke=\"black\" points=\"336.02,-403.17 339.06,-393.02 330.35,-399.05 336.02,-403.17\"/>\n<text text-anchor=\"middle\" x=\"342.97\" y=\"-414.01\" font-family=\"Helvetica,sans-Serif\" font-size=\"14.00\">False</text>\n</g>\n<!-- 2 -->\n<g id=\"node3\" class=\"node\">\n<title>2</title>\n<path fill=\"#399de5\" stroke=\"black\" d=\"M105,-266.5C105,-266.5 12,-266.5 12,-266.5 6,-266.5 0,-260.5 0,-254.5 0,-254.5 0,-210.5 0,-210.5 0,-204.5 6,-198.5 12,-198.5 12,-198.5 105,-198.5 105,-198.5 111,-198.5 117,-204.5 117,-210.5 117,-210.5 117,-254.5 117,-254.5 117,-260.5 111,-266.5 105,-266.5\"/>\n<text text-anchor=\"middle\" x=\"58.5\" y=\"-251.3\" font-family=\"Helvetica,sans-Serif\" font-size=\"14.00\">gini = 0.0</text>\n<text text-anchor=\"middle\" x=\"58.5\" y=\"-236.3\" font-family=\"Helvetica,sans-Serif\" font-size=\"14.00\">samples = 0.1%</text>\n<text text-anchor=\"middle\" x=\"58.5\" y=\"-221.3\" font-family=\"Helvetica,sans-Serif\" font-size=\"14.00\">value = [0.0, 1.0]</text>\n<text text-anchor=\"middle\" x=\"58.5\" y=\"-206.3\" font-family=\"Helvetica,sans-Serif\" font-size=\"14.00\">class = True.</text>\n</g>\n<!-- 1&#45;&gt;2 -->\n<g id=\"edge2\" class=\"edge\">\n<title>1&#45;&gt;2</title>\n<path fill=\"none\" stroke=\"black\" d=\"M149.93,-309.91C135.67,-297.99 120.09,-284.98 105.91,-273.12\"/>\n<polygon fill=\"black\" stroke=\"black\" points=\"108.1,-270.39 98.19,-266.67 103.62,-275.77 108.1,-270.39\"/>\n</g>\n<!-- 3 -->\n<g id=\"node4\" class=\"node\">\n<title>3</title>\n<path fill=\"#e99355\" stroke=\"black\" d=\"M270,-274C270,-274 147,-274 147,-274 141,-274 135,-268 135,-262 135,-262 135,-203 135,-203 135,-197 141,-191 147,-191 147,-191 270,-191 270,-191 276,-191 282,-197 282,-203 282,-203 282,-262 282,-262 282,-268 276,-274 270,-274\"/>\n<text text-anchor=\"middle\" x=\"208.5\" y=\"-258.8\" font-family=\"Helvetica,sans-Serif\" font-size=\"14.00\">state_OK &lt;= 0.5</text>\n<text text-anchor=\"middle\" x=\"208.5\" y=\"-243.8\" font-family=\"Helvetica,sans-Serif\" font-size=\"14.00\">gini = 0.214</text>\n<text text-anchor=\"middle\" x=\"208.5\" y=\"-228.8\" font-family=\"Helvetica,sans-Serif\" font-size=\"14.00\">samples = 94.2%</text>\n<text text-anchor=\"middle\" x=\"208.5\" y=\"-213.8\" font-family=\"Helvetica,sans-Serif\" font-size=\"14.00\">value = [0.878, 0.122]</text>\n<text text-anchor=\"middle\" x=\"208.5\" y=\"-198.8\" font-family=\"Helvetica,sans-Serif\" font-size=\"14.00\">class = False.</text>\n</g>\n<!-- 1&#45;&gt;3 -->\n<g id=\"edge3\" class=\"edge\">\n<title>1&#45;&gt;3</title>\n<path fill=\"none\" stroke=\"black\" d=\"M201.97,-309.91C202.68,-301.56 203.44,-292.67 204.18,-284.02\"/>\n<polygon fill=\"black\" stroke=\"black\" points=\"207.67,-284.28 205.04,-274.02 200.7,-283.69 207.67,-284.28\"/>\n</g>\n<!-- 4 -->\n<g id=\"node5\" class=\"node\">\n<title>4</title>\n<path fill=\"#e89254\" stroke=\"black\" d=\"M168.5,-155C168.5,-155 26.5,-155 26.5,-155 20.5,-155 14.5,-149 14.5,-143 14.5,-143 14.5,-84 14.5,-84 14.5,-78 20.5,-72 26.5,-72 26.5,-72 168.5,-72 168.5,-72 174.5,-72 180.5,-78 180.5,-84 180.5,-84 180.5,-143 180.5,-143 180.5,-149 174.5,-155 168.5,-155\"/>\n<text text-anchor=\"middle\" x=\"97.5\" y=\"-139.8\" font-family=\"Helvetica,sans-Serif\" font-size=\"14.00\">account_length &lt;= 218.0</text>\n<text text-anchor=\"middle\" x=\"97.5\" y=\"-124.8\" font-family=\"Helvetica,sans-Serif\" font-size=\"14.00\">gini = 0.209</text>\n<text text-anchor=\"middle\" x=\"97.5\" y=\"-109.8\" font-family=\"Helvetica,sans-Serif\" font-size=\"14.00\">samples = 93.0%</text>\n<text text-anchor=\"middle\" x=\"97.5\" y=\"-94.8\" font-family=\"Helvetica,sans-Serif\" font-size=\"14.00\">value = [0.882, 0.118]</text>\n<text text-anchor=\"middle\" x=\"97.5\" y=\"-79.8\" font-family=\"Helvetica,sans-Serif\" font-size=\"14.00\">class = False.</text>\n</g>\n<!-- 3&#45;&gt;4 -->\n<g id=\"edge4\" class=\"edge\">\n<title>3&#45;&gt;4</title>\n<path fill=\"none\" stroke=\"black\" d=\"M169.99,-190.91C161.29,-181.74 151.98,-171.93 143.03,-162.49\"/>\n<polygon fill=\"black\" stroke=\"black\" points=\"145.36,-159.87 135.94,-155.02 140.29,-164.68 145.36,-159.87\"/>\n</g>\n<!-- 427 -->\n<g id=\"node8\" class=\"node\">\n<title>427</title>\n<path fill=\"#f3c6a5\" stroke=\"black\" d=\"M334,-155C334,-155 211,-155 211,-155 205,-155 199,-149 199,-143 199,-143 199,-84 199,-84 199,-78 205,-72 211,-72 211,-72 334,-72 334,-72 340,-72 346,-78 346,-84 346,-84 346,-143 346,-143 346,-149 340,-155 334,-155\"/>\n<text text-anchor=\"middle\" x=\"272.5\" y=\"-139.8\" font-family=\"Helvetica,sans-Serif\" font-size=\"14.00\">intl_plan_no &lt;= 0.5</text>\n<text text-anchor=\"middle\" x=\"272.5\" y=\"-124.8\" font-family=\"Helvetica,sans-Serif\" font-size=\"14.00\">gini = 0.457</text>\n<text text-anchor=\"middle\" x=\"272.5\" y=\"-109.8\" font-family=\"Helvetica,sans-Serif\" font-size=\"14.00\">samples = 1.2%</text>\n<text text-anchor=\"middle\" x=\"272.5\" y=\"-94.8\" font-family=\"Helvetica,sans-Serif\" font-size=\"14.00\">value = [0.647, 0.353]</text>\n<text text-anchor=\"middle\" x=\"272.5\" y=\"-79.8\" font-family=\"Helvetica,sans-Serif\" font-size=\"14.00\">class = False.</text>\n</g>\n<!-- 3&#45;&gt;427 -->\n<g id=\"edge7\" class=\"edge\">\n<title>3&#45;&gt;427</title>\n<path fill=\"none\" stroke=\"black\" d=\"M230.7,-190.91C235.47,-182.2 240.56,-172.9 245.48,-163.89\"/>\n<polygon fill=\"black\" stroke=\"black\" points=\"248.61,-165.47 250.33,-155.02 242.47,-162.11 248.61,-165.47\"/>\n</g>\n<!-- 5 -->\n<g id=\"node6\" class=\"node\">\n<title>5</title>\n<path fill=\"#c0c0c0\" stroke=\"black\" d=\"M98.5,-36C98.5,-36 68.5,-36 68.5,-36 62.5,-36 56.5,-30 56.5,-24 56.5,-24 56.5,-12 56.5,-12 56.5,-6 62.5,0 68.5,0 68.5,0 98.5,0 98.5,0 104.5,0 110.5,-6 110.5,-12 110.5,-12 110.5,-24 110.5,-24 110.5,-30 104.5,-36 98.5,-36\"/>\n<text text-anchor=\"middle\" x=\"83.5\" y=\"-14.3\" font-family=\"Helvetica,sans-Serif\" font-size=\"14.00\">(...)</text>\n</g>\n<!-- 4&#45;&gt;5 -->\n<g id=\"edge5\" class=\"edge\">\n<title>4&#45;&gt;5</title>\n<path fill=\"none\" stroke=\"black\" d=\"M91.4,-71.76C90.12,-63.24 88.81,-54.44 87.62,-46.53\"/>\n<polygon fill=\"black\" stroke=\"black\" points=\"91.05,-45.78 86.11,-36.41 84.13,-46.81 91.05,-45.78\"/>\n</g>\n<!-- 426 -->\n<g id=\"node7\" class=\"node\">\n<title>426</title>\n<path fill=\"#c0c0c0\" stroke=\"black\" d=\"M170.5,-36C170.5,-36 140.5,-36 140.5,-36 134.5,-36 128.5,-30 128.5,-24 128.5,-24 128.5,-12 128.5,-12 128.5,-6 134.5,0 140.5,0 140.5,0 170.5,0 170.5,0 176.5,0 182.5,-6 182.5,-12 182.5,-12 182.5,-24 182.5,-24 182.5,-30 176.5,-36 170.5,-36\"/>\n<text text-anchor=\"middle\" x=\"155.5\" y=\"-14.3\" font-family=\"Helvetica,sans-Serif\" font-size=\"14.00\">(...)</text>\n</g>\n<!-- 4&#45;&gt;426 -->\n<g id=\"edge6\" class=\"edge\">\n<title>4&#45;&gt;426</title>\n<path fill=\"none\" stroke=\"black\" d=\"M122.77,-71.76C128.42,-62.65 134.26,-53.24 139.42,-44.92\"/>\n<polygon fill=\"black\" stroke=\"black\" points=\"142.41,-46.75 144.7,-36.41 136.46,-43.06 142.41,-46.75\"/>\n</g>\n<!-- 428 -->\n<g id=\"node9\" class=\"node\">\n<title>428</title>\n<path fill=\"#c0c0c0\" stroke=\"black\" d=\"M264.5,-36C264.5,-36 234.5,-36 234.5,-36 228.5,-36 222.5,-30 222.5,-24 222.5,-24 222.5,-12 222.5,-12 222.5,-6 228.5,0 234.5,0 234.5,0 264.5,0 264.5,0 270.5,0 276.5,-6 276.5,-12 276.5,-12 276.5,-24 276.5,-24 276.5,-30 270.5,-36 264.5,-36\"/>\n<text text-anchor=\"middle\" x=\"249.5\" y=\"-14.3\" font-family=\"Helvetica,sans-Serif\" font-size=\"14.00\">(...)</text>\n</g>\n<!-- 427&#45;&gt;428 -->\n<g id=\"edge8\" class=\"edge\">\n<title>427&#45;&gt;428</title>\n<path fill=\"none\" stroke=\"black\" d=\"M262.48,-71.76C260.36,-63.14 258.17,-54.24 256.21,-46.26\"/>\n<polygon fill=\"black\" stroke=\"black\" points=\"259.57,-45.28 253.78,-36.41 252.77,-46.95 259.57,-45.28\"/>\n</g>\n<!-- 429 -->\n<g id=\"node10\" class=\"node\">\n<title>429</title>\n<path fill=\"#c0c0c0\" stroke=\"black\" d=\"M336.5,-36C336.5,-36 306.5,-36 306.5,-36 300.5,-36 294.5,-30 294.5,-24 294.5,-24 294.5,-12 294.5,-12 294.5,-6 300.5,0 306.5,0 306.5,0 336.5,0 336.5,0 342.5,0 348.5,-6 348.5,-12 348.5,-12 348.5,-24 348.5,-24 348.5,-30 342.5,-36 336.5,-36\"/>\n<text text-anchor=\"middle\" x=\"321.5\" y=\"-14.3\" font-family=\"Helvetica,sans-Serif\" font-size=\"14.00\">(...)</text>\n</g>\n<!-- 427&#45;&gt;429 -->\n<g id=\"edge9\" class=\"edge\">\n<title>427&#45;&gt;429</title>\n<path fill=\"none\" stroke=\"black\" d=\"M293.85,-71.76C298.52,-62.85 303.35,-53.64 307.63,-45.46\"/>\n<polygon fill=\"black\" stroke=\"black\" points=\"310.84,-46.89 312.38,-36.41 304.64,-43.64 310.84,-46.89\"/>\n</g>\n<!-- 435 -->\n<g id=\"node12\" class=\"node\">\n<title>435</title>\n<path fill=\"#e58139\" stroke=\"black\" d=\"M410,-266.5C410,-266.5 317,-266.5 317,-266.5 311,-266.5 305,-260.5 305,-254.5 305,-254.5 305,-210.5 305,-210.5 305,-204.5 311,-198.5 317,-198.5 317,-198.5 410,-198.5 410,-198.5 416,-198.5 422,-204.5 422,-210.5 422,-210.5 422,-254.5 422,-254.5 422,-260.5 416,-266.5 410,-266.5\"/>\n<text text-anchor=\"middle\" x=\"363.5\" y=\"-251.3\" font-family=\"Helvetica,sans-Serif\" font-size=\"14.00\">gini = 0.0</text>\n<text text-anchor=\"middle\" x=\"363.5\" y=\"-236.3\" font-family=\"Helvetica,sans-Serif\" font-size=\"14.00\">samples = 0.3%</text>\n<text text-anchor=\"middle\" x=\"363.5\" y=\"-221.3\" font-family=\"Helvetica,sans-Serif\" font-size=\"14.00\">value = [1.0, 0.0]</text>\n<text text-anchor=\"middle\" x=\"363.5\" y=\"-206.3\" font-family=\"Helvetica,sans-Serif\" font-size=\"14.00\">class = False.</text>\n</g>\n<!-- 434&#45;&gt;435 -->\n<g id=\"edge11\" class=\"edge\">\n<title>434&#45;&gt;435</title>\n<path fill=\"none\" stroke=\"black\" d=\"M366.77,-309.91C366.31,-299.2 365.81,-287.62 365.35,-276.78\"/>\n<polygon fill=\"black\" stroke=\"black\" points=\"368.84,-276.51 364.92,-266.67 361.85,-276.81 368.84,-276.51\"/>\n</g>\n<!-- 436 -->\n<g id=\"node13\" class=\"node\">\n<title>436</title>\n<path fill=\"#84c2ef\" stroke=\"black\" d=\"M575,-274C575,-274 452,-274 452,-274 446,-274 440,-268 440,-262 440,-262 440,-203 440,-203 440,-197 446,-191 452,-191 452,-191 575,-191 575,-191 581,-191 587,-197 587,-203 587,-203 587,-262 587,-262 587,-268 581,-274 575,-274\"/>\n<text text-anchor=\"middle\" x=\"513.5\" y=\"-258.8\" font-family=\"Helvetica,sans-Serif\" font-size=\"14.00\">night_charge &lt;= 7.05</text>\n<text text-anchor=\"middle\" x=\"513.5\" y=\"-243.8\" font-family=\"Helvetica,sans-Serif\" font-size=\"14.00\">gini = 0.4</text>\n<text text-anchor=\"middle\" x=\"513.5\" y=\"-228.8\" font-family=\"Helvetica,sans-Serif\" font-size=\"14.00\">samples = 5.4%</text>\n<text text-anchor=\"middle\" x=\"513.5\" y=\"-213.8\" font-family=\"Helvetica,sans-Serif\" font-size=\"14.00\">value = [0.276, 0.724]</text>\n<text text-anchor=\"middle\" x=\"513.5\" y=\"-198.8\" font-family=\"Helvetica,sans-Serif\" font-size=\"14.00\">class = True.</text>\n</g>\n<!-- 434&#45;&gt;436 -->\n<g id=\"edge12\" class=\"edge\">\n<title>434&#45;&gt;436</title>\n<path fill=\"none\" stroke=\"black\" d=\"M418.81,-309.91C430.62,-300.38 443.29,-290.15 455.41,-280.37\"/>\n<polygon fill=\"black\" stroke=\"black\" points=\"457.7,-283.02 463.28,-274.02 453.3,-277.58 457.7,-283.02\"/>\n</g>\n<!-- 437 -->\n<g id=\"node14\" class=\"node\">\n<title>437</title>\n<path fill=\"#ffffff\" stroke=\"black\" d=\"M497,-155C497,-155 404,-155 404,-155 398,-155 392,-149 392,-143 392,-143 392,-84 392,-84 392,-78 398,-72 404,-72 404,-72 497,-72 497,-72 503,-72 509,-78 509,-84 509,-84 509,-143 509,-143 509,-149 503,-155 497,-155\"/>\n<text text-anchor=\"middle\" x=\"450.5\" y=\"-139.8\" font-family=\"Helvetica,sans-Serif\" font-size=\"14.00\">intl_calls &lt;= 4.5</text>\n<text text-anchor=\"middle\" x=\"450.5\" y=\"-124.8\" font-family=\"Helvetica,sans-Serif\" font-size=\"14.00\">gini = 0.5</text>\n<text text-anchor=\"middle\" x=\"450.5\" y=\"-109.8\" font-family=\"Helvetica,sans-Serif\" font-size=\"14.00\">samples = 1.1%</text>\n<text text-anchor=\"middle\" x=\"450.5\" y=\"-94.8\" font-family=\"Helvetica,sans-Serif\" font-size=\"14.00\">value = [0.5, 0.5]</text>\n<text text-anchor=\"middle\" x=\"450.5\" y=\"-79.8\" font-family=\"Helvetica,sans-Serif\" font-size=\"14.00\">class = False.</text>\n</g>\n<!-- 436&#45;&gt;437 -->\n<g id=\"edge13\" class=\"edge\">\n<title>436&#45;&gt;437</title>\n<path fill=\"none\" stroke=\"black\" d=\"M491.64,-190.91C486.95,-182.2 481.94,-172.9 477.1,-163.89\"/>\n<polygon fill=\"black\" stroke=\"black\" points=\"480.14,-162.17 472.32,-155.02 473.98,-165.48 480.14,-162.17\"/>\n</g>\n<!-- 450 -->\n<g id=\"node17\" class=\"node\">\n<title>450</title>\n<path fill=\"#6eb7ec\" stroke=\"black\" d=\"M662,-155C662,-155 539,-155 539,-155 533,-155 527,-149 527,-143 527,-143 527,-84 527,-84 527,-78 533,-72 539,-72 539,-72 662,-72 662,-72 668,-72 674,-78 674,-84 674,-84 674,-143 674,-143 674,-149 668,-155 662,-155\"/>\n<text text-anchor=\"middle\" x=\"600.5\" y=\"-139.8\" font-family=\"Helvetica,sans-Serif\" font-size=\"14.00\">state_CA &lt;= 0.5</text>\n<text text-anchor=\"middle\" x=\"600.5\" y=\"-124.8\" font-family=\"Helvetica,sans-Serif\" font-size=\"14.00\">gini = 0.333</text>\n<text text-anchor=\"middle\" x=\"600.5\" y=\"-109.8\" font-family=\"Helvetica,sans-Serif\" font-size=\"14.00\">samples = 4.3%</text>\n<text text-anchor=\"middle\" x=\"600.5\" y=\"-94.8\" font-family=\"Helvetica,sans-Serif\" font-size=\"14.00\">value = [0.211, 0.789]</text>\n<text text-anchor=\"middle\" x=\"600.5\" y=\"-79.8\" font-family=\"Helvetica,sans-Serif\" font-size=\"14.00\">class = True.</text>\n</g>\n<!-- 436&#45;&gt;450 -->\n<g id=\"edge16\" class=\"edge\">\n<title>436&#45;&gt;450</title>\n<path fill=\"none\" stroke=\"black\" d=\"M543.68,-190.91C550.36,-181.92 557.51,-172.32 564.4,-163.05\"/>\n<polygon fill=\"black\" stroke=\"black\" points=\"567.21,-165.13 570.37,-155.02 561.59,-160.96 567.21,-165.13\"/>\n</g>\n<!-- 438 -->\n<g id=\"node15\" class=\"node\">\n<title>438</title>\n<path fill=\"#c0c0c0\" stroke=\"black\" d=\"M422.5,-36C422.5,-36 392.5,-36 392.5,-36 386.5,-36 380.5,-30 380.5,-24 380.5,-24 380.5,-12 380.5,-12 380.5,-6 386.5,0 392.5,0 392.5,0 422.5,0 422.5,0 428.5,0 434.5,-6 434.5,-12 434.5,-12 434.5,-24 434.5,-24 434.5,-30 428.5,-36 422.5,-36\"/>\n<text text-anchor=\"middle\" x=\"407.5\" y=\"-14.3\" font-family=\"Helvetica,sans-Serif\" font-size=\"14.00\">(...)</text>\n</g>\n<!-- 437&#45;&gt;438 -->\n<g id=\"edge14\" class=\"edge\">\n<title>437&#45;&gt;438</title>\n<path fill=\"none\" stroke=\"black\" d=\"M431.76,-71.76C427.71,-62.94 423.52,-53.84 419.79,-45.72\"/>\n<polygon fill=\"black\" stroke=\"black\" points=\"422.86,-44.03 415.5,-36.41 416.5,-46.95 422.86,-44.03\"/>\n</g>\n<!-- 445 -->\n<g id=\"node16\" class=\"node\">\n<title>445</title>\n<path fill=\"#c0c0c0\" stroke=\"black\" d=\"M494.5,-36C494.5,-36 464.5,-36 464.5,-36 458.5,-36 452.5,-30 452.5,-24 452.5,-24 452.5,-12 452.5,-12 452.5,-6 458.5,0 464.5,0 464.5,0 494.5,0 494.5,0 500.5,0 506.5,-6 506.5,-12 506.5,-12 506.5,-24 506.5,-24 506.5,-30 500.5,-36 494.5,-36\"/>\n<text text-anchor=\"middle\" x=\"479.5\" y=\"-14.3\" font-family=\"Helvetica,sans-Serif\" font-size=\"14.00\">(...)</text>\n</g>\n<!-- 437&#45;&gt;445 -->\n<g id=\"edge15\" class=\"edge\">\n<title>437&#45;&gt;445</title>\n<path fill=\"none\" stroke=\"black\" d=\"M463.14,-71.76C465.84,-63.04 468.63,-54.04 471.13,-45.99\"/>\n<polygon fill=\"black\" stroke=\"black\" points=\"474.48,-46.99 474.1,-36.41 467.8,-44.92 474.48,-46.99\"/>\n</g>\n<!-- 451 -->\n<g id=\"node18\" class=\"node\">\n<title>451</title>\n<path fill=\"#c0c0c0\" stroke=\"black\" d=\"M576.5,-36C576.5,-36 546.5,-36 546.5,-36 540.5,-36 534.5,-30 534.5,-24 534.5,-24 534.5,-12 534.5,-12 534.5,-6 540.5,0 546.5,0 546.5,0 576.5,0 576.5,0 582.5,0 588.5,-6 588.5,-12 588.5,-12 588.5,-24 588.5,-24 588.5,-30 582.5,-36 576.5,-36\"/>\n<text text-anchor=\"middle\" x=\"561.5\" y=\"-14.3\" font-family=\"Helvetica,sans-Serif\" font-size=\"14.00\">(...)</text>\n</g>\n<!-- 450&#45;&gt;451 -->\n<g id=\"edge17\" class=\"edge\">\n<title>450&#45;&gt;451</title>\n<path fill=\"none\" stroke=\"black\" d=\"M583.51,-71.76C579.83,-62.94 576.03,-53.84 572.65,-45.72\"/>\n<polygon fill=\"black\" stroke=\"black\" points=\"575.84,-44.29 568.76,-36.41 569.38,-46.98 575.84,-44.29\"/>\n</g>\n<!-- 462 -->\n<g id=\"node19\" class=\"node\">\n<title>462</title>\n<path fill=\"#c0c0c0\" stroke=\"black\" d=\"M648.5,-36C648.5,-36 618.5,-36 618.5,-36 612.5,-36 606.5,-30 606.5,-24 606.5,-24 606.5,-12 606.5,-12 606.5,-6 612.5,0 618.5,0 618.5,0 648.5,0 648.5,0 654.5,0 660.5,-6 660.5,-12 660.5,-12 660.5,-24 660.5,-24 660.5,-30 654.5,-36 648.5,-36\"/>\n<text text-anchor=\"middle\" x=\"633.5\" y=\"-14.3\" font-family=\"Helvetica,sans-Serif\" font-size=\"14.00\">(...)</text>\n</g>\n<!-- 450&#45;&gt;462 -->\n<g id=\"edge18\" class=\"edge\">\n<title>450&#45;&gt;462</title>\n<path fill=\"none\" stroke=\"black\" d=\"M614.88,-71.76C617.96,-63.04 621.13,-54.04 623.97,-45.99\"/>\n<polygon fill=\"black\" stroke=\"black\" points=\"627.33,-47 627.36,-36.41 620.73,-44.67 627.33,-47\"/>\n</g>\n</g>\n</svg>\n",
            "text/plain": [
              "<graphviz.sources.Source at 0x78ca7004d060>"
            ]
          },
          "metadata": {},
          "execution_count": 63
        }
      ],
      "source": [
        "# Extract the trees in the forest\n",
        "estimators = rf_clf.estimators_\n",
        "\n",
        "dot_data = tree.export_graphviz(estimators[10],\n",
        "                                out_file=None,\n",
        "                                feature_names=feature_names,\n",
        "                                class_names = [\"False.\", \"True.\"],\n",
        "                                filled=True,\n",
        "                                max_depth=3,\n",
        "                                impurity=True,\n",
        "                                proportion=True,\n",
        "                                rounded=True,\n",
        "                                  special_characters=False)\n",
        "graph = graphviz.Source(dot_data)\n",
        "graph\n",
        "\n"
      ]
    },
    {
      "cell_type": "code",
      "execution_count": 64,
      "metadata": {
        "colab": {
          "base_uri": "https://localhost:8080/",
          "height": 734
        },
        "id": "j83lEBWr1Fl6",
        "outputId": "167f450f-4b0a-4e16-b97f-5388bd7aff51"
      },
      "outputs": [
        {
          "output_type": "execute_result",
          "data": {
            "image/svg+xml": "<?xml version=\"1.0\" encoding=\"UTF-8\" standalone=\"no\"?>\n<!DOCTYPE svg PUBLIC \"-//W3C//DTD SVG 1.1//EN\"\n \"http://www.w3.org/Graphics/SVG/1.1/DTD/svg11.dtd\">\n<!-- Generated by graphviz version 2.43.0 (0)\n -->\n<!-- Title: Tree Pages: 1 -->\n<svg width=\"1268pt\" height=\"520pt\"\n viewBox=\"0.00 0.00 1268.00 520.00\" xmlns=\"http://www.w3.org/2000/svg\" xmlns:xlink=\"http://www.w3.org/1999/xlink\">\n<g id=\"graph0\" class=\"graph\" transform=\"scale(1 1) rotate(0) translate(4 516)\">\n<title>Tree</title>\n<polygon fill=\"white\" stroke=\"transparent\" points=\"-4,4 -4,-516 1264,-516 1264,4 -4,4\"/>\n<!-- 0 -->\n<g id=\"node1\" class=\"node\">\n<title>0</title>\n<path fill=\"#ea985d\" stroke=\"black\" d=\"M676,-512C676,-512 547,-512 547,-512 541,-512 535,-506 535,-500 535,-500 535,-441 535,-441 535,-435 541,-429 547,-429 547,-429 676,-429 676,-429 682,-429 688,-435 688,-441 688,-441 688,-500 688,-500 688,-506 682,-512 676,-512\"/>\n<text text-anchor=\"middle\" x=\"611.5\" y=\"-496.8\" font-family=\"Helvetica,sans-Serif\" font-size=\"14.00\">vmail_plan_yes &lt;= 0.5</text>\n<text text-anchor=\"middle\" x=\"611.5\" y=\"-481.8\" font-family=\"Helvetica,sans-Serif\" font-size=\"14.00\">gini = 0.259</text>\n<text text-anchor=\"middle\" x=\"611.5\" y=\"-466.8\" font-family=\"Helvetica,sans-Serif\" font-size=\"14.00\">samples = 100.0%</text>\n<text text-anchor=\"middle\" x=\"611.5\" y=\"-451.8\" font-family=\"Helvetica,sans-Serif\" font-size=\"14.00\">value = [0.847, 0.153]</text>\n<text text-anchor=\"middle\" x=\"611.5\" y=\"-436.8\" font-family=\"Helvetica,sans-Serif\" font-size=\"14.00\">class = False.</text>\n</g>\n<!-- 1 -->\n<g id=\"node2\" class=\"node\">\n<title>1</title>\n<path fill=\"#ea9c63\" stroke=\"black\" d=\"M520,-393C520,-393 397,-393 397,-393 391,-393 385,-387 385,-381 385,-381 385,-322 385,-322 385,-316 391,-310 397,-310 397,-310 520,-310 520,-310 526,-310 532,-316 532,-322 532,-322 532,-381 532,-381 532,-387 526,-393 520,-393\"/>\n<text text-anchor=\"middle\" x=\"458.5\" y=\"-377.8\" font-family=\"Helvetica,sans-Serif\" font-size=\"14.00\">day_charge &lt;= 44.37</text>\n<text text-anchor=\"middle\" x=\"458.5\" y=\"-362.8\" font-family=\"Helvetica,sans-Serif\" font-size=\"14.00\">gini = 0.288</text>\n<text text-anchor=\"middle\" x=\"458.5\" y=\"-347.8\" font-family=\"Helvetica,sans-Serif\" font-size=\"14.00\">samples = 74.0%</text>\n<text text-anchor=\"middle\" x=\"458.5\" y=\"-332.8\" font-family=\"Helvetica,sans-Serif\" font-size=\"14.00\">value = [0.826, 0.174]</text>\n<text text-anchor=\"middle\" x=\"458.5\" y=\"-317.8\" font-family=\"Helvetica,sans-Serif\" font-size=\"14.00\">class = False.</text>\n</g>\n<!-- 0&#45;&gt;1 -->\n<g id=\"edge1\" class=\"edge\">\n<title>0&#45;&gt;1</title>\n<path fill=\"none\" stroke=\"black\" d=\"M558.42,-428.91C545.96,-419.38 532.58,-409.15 519.79,-399.37\"/>\n<polygon fill=\"black\" stroke=\"black\" points=\"521.56,-396.32 511.49,-393.02 517.31,-401.88 521.56,-396.32\"/>\n<text text-anchor=\"middle\" x=\"514.79\" y=\"-414.1\" font-family=\"Helvetica,sans-Serif\" font-size=\"14.00\">True</text>\n</g>\n<!-- 248 -->\n<g id=\"node15\" class=\"node\">\n<title>248</title>\n<path fill=\"#e88e4d\" stroke=\"black\" d=\"M831,-393C831,-393 708,-393 708,-393 702,-393 696,-387 696,-381 696,-381 696,-322 696,-322 696,-316 702,-310 708,-310 708,-310 831,-310 831,-310 837,-310 843,-316 843,-322 843,-322 843,-381 843,-381 843,-387 837,-393 831,-393\"/>\n<text text-anchor=\"middle\" x=\"769.5\" y=\"-377.8\" font-family=\"Helvetica,sans-Serif\" font-size=\"14.00\">eve_calls &lt;= 56.5</text>\n<text text-anchor=\"middle\" x=\"769.5\" y=\"-362.8\" font-family=\"Helvetica,sans-Serif\" font-size=\"14.00\">gini = 0.168</text>\n<text text-anchor=\"middle\" x=\"769.5\" y=\"-347.8\" font-family=\"Helvetica,sans-Serif\" font-size=\"14.00\">samples = 26.0%</text>\n<text text-anchor=\"middle\" x=\"769.5\" y=\"-332.8\" font-family=\"Helvetica,sans-Serif\" font-size=\"14.00\">value = [0.907, 0.093]</text>\n<text text-anchor=\"middle\" x=\"769.5\" y=\"-317.8\" font-family=\"Helvetica,sans-Serif\" font-size=\"14.00\">class = False.</text>\n</g>\n<!-- 0&#45;&gt;248 -->\n<g id=\"edge14\" class=\"edge\">\n<title>0&#45;&gt;248</title>\n<path fill=\"none\" stroke=\"black\" d=\"M666.32,-428.91C679.31,-419.29 693.26,-408.95 706.58,-399.09\"/>\n<polygon fill=\"black\" stroke=\"black\" points=\"708.83,-401.78 714.78,-393.02 704.66,-396.16 708.83,-401.78\"/>\n<text text-anchor=\"middle\" x=\"711.09\" y=\"-414.05\" font-family=\"Helvetica,sans-Serif\" font-size=\"14.00\">False</text>\n</g>\n<!-- 2 -->\n<g id=\"node3\" class=\"node\">\n<title>2</title>\n<path fill=\"#e99457\" stroke=\"black\" d=\"M285,-274C285,-274 162,-274 162,-274 156,-274 150,-268 150,-262 150,-262 150,-203 150,-203 150,-197 156,-191 162,-191 162,-191 285,-191 285,-191 291,-191 297,-197 297,-203 297,-203 297,-262 297,-262 297,-268 291,-274 285,-274\"/>\n<text text-anchor=\"middle\" x=\"223.5\" y=\"-258.8\" font-family=\"Helvetica,sans-Serif\" font-size=\"14.00\">day_calls &lt;= 162.5</text>\n<text text-anchor=\"middle\" x=\"223.5\" y=\"-243.8\" font-family=\"Helvetica,sans-Serif\" font-size=\"14.00\">gini = 0.229</text>\n<text text-anchor=\"middle\" x=\"223.5\" y=\"-228.8\" font-family=\"Helvetica,sans-Serif\" font-size=\"14.00\">samples = 68.9%</text>\n<text text-anchor=\"middle\" x=\"223.5\" y=\"-213.8\" font-family=\"Helvetica,sans-Serif\" font-size=\"14.00\">value = [0.868, 0.132]</text>\n<text text-anchor=\"middle\" x=\"223.5\" y=\"-198.8\" font-family=\"Helvetica,sans-Serif\" font-size=\"14.00\">class = False.</text>\n</g>\n<!-- 1&#45;&gt;2 -->\n<g id=\"edge2\" class=\"edge\">\n<title>1&#45;&gt;2</title>\n<path fill=\"none\" stroke=\"black\" d=\"M384.79,-313.8C359.97,-301.45 332.12,-287.58 306.63,-274.89\"/>\n<polygon fill=\"black\" stroke=\"black\" points=\"307.86,-271.59 297.35,-270.27 304.74,-277.86 307.86,-271.59\"/>\n</g>\n<!-- 215 -->\n<g id=\"node8\" class=\"node\">\n<title>215</title>\n<path fill=\"#7cbeee\" stroke=\"black\" d=\"M520,-274C520,-274 397,-274 397,-274 391,-274 385,-268 385,-262 385,-262 385,-203 385,-203 385,-197 391,-191 397,-191 397,-191 520,-191 520,-191 526,-191 532,-197 532,-203 532,-203 532,-262 532,-262 532,-268 526,-274 520,-274\"/>\n<text text-anchor=\"middle\" x=\"458.5\" y=\"-258.8\" font-family=\"Helvetica,sans-Serif\" font-size=\"14.00\">eve_mins &lt;= 200.25</text>\n<text text-anchor=\"middle\" x=\"458.5\" y=\"-243.8\" font-family=\"Helvetica,sans-Serif\" font-size=\"14.00\">gini = 0.379</text>\n<text text-anchor=\"middle\" x=\"458.5\" y=\"-228.8\" font-family=\"Helvetica,sans-Serif\" font-size=\"14.00\">samples = 5.1%</text>\n<text text-anchor=\"middle\" x=\"458.5\" y=\"-213.8\" font-family=\"Helvetica,sans-Serif\" font-size=\"14.00\">value = [0.254, 0.746]</text>\n<text text-anchor=\"middle\" x=\"458.5\" y=\"-198.8\" font-family=\"Helvetica,sans-Serif\" font-size=\"14.00\">class = True.</text>\n</g>\n<!-- 1&#45;&gt;215 -->\n<g id=\"edge7\" class=\"edge\">\n<title>1&#45;&gt;215</title>\n<path fill=\"none\" stroke=\"black\" d=\"M458.5,-309.91C458.5,-301.65 458.5,-292.86 458.5,-284.3\"/>\n<polygon fill=\"black\" stroke=\"black\" points=\"462,-284.02 458.5,-274.02 455,-284.02 462,-284.02\"/>\n</g>\n<!-- 3 -->\n<g id=\"node4\" class=\"node\">\n<title>3</title>\n<path fill=\"#e99457\" stroke=\"black\" d=\"M135,-155C135,-155 12,-155 12,-155 6,-155 0,-149 0,-143 0,-143 0,-84 0,-84 0,-78 6,-72 12,-72 12,-72 135,-72 135,-72 141,-72 147,-78 147,-84 147,-84 147,-143 147,-143 147,-149 141,-155 135,-155\"/>\n<text text-anchor=\"middle\" x=\"73.5\" y=\"-139.8\" font-family=\"Helvetica,sans-Serif\" font-size=\"14.00\">intl_plan_yes &lt;= 0.5</text>\n<text text-anchor=\"middle\" x=\"73.5\" y=\"-124.8\" font-family=\"Helvetica,sans-Serif\" font-size=\"14.00\">gini = 0.227</text>\n<text text-anchor=\"middle\" x=\"73.5\" y=\"-109.8\" font-family=\"Helvetica,sans-Serif\" font-size=\"14.00\">samples = 68.8%</text>\n<text text-anchor=\"middle\" x=\"73.5\" y=\"-94.8\" font-family=\"Helvetica,sans-Serif\" font-size=\"14.00\">value = [0.869, 0.131]</text>\n<text text-anchor=\"middle\" x=\"73.5\" y=\"-79.8\" font-family=\"Helvetica,sans-Serif\" font-size=\"14.00\">class = False.</text>\n</g>\n<!-- 2&#45;&gt;3 -->\n<g id=\"edge3\" class=\"edge\">\n<title>2&#45;&gt;3</title>\n<path fill=\"none\" stroke=\"black\" d=\"M171.46,-190.91C159.24,-181.38 146.13,-171.15 133.59,-161.37\"/>\n<polygon fill=\"black\" stroke=\"black\" points=\"135.49,-158.41 125.45,-155.02 131.18,-163.93 135.49,-158.41\"/>\n</g>\n<!-- 214 -->\n<g id=\"node7\" class=\"node\">\n<title>214</title>\n<path fill=\"#399de5\" stroke=\"black\" d=\"M270,-147.5C270,-147.5 177,-147.5 177,-147.5 171,-147.5 165,-141.5 165,-135.5 165,-135.5 165,-91.5 165,-91.5 165,-85.5 171,-79.5 177,-79.5 177,-79.5 270,-79.5 270,-79.5 276,-79.5 282,-85.5 282,-91.5 282,-91.5 282,-135.5 282,-135.5 282,-141.5 276,-147.5 270,-147.5\"/>\n<text text-anchor=\"middle\" x=\"223.5\" y=\"-132.3\" font-family=\"Helvetica,sans-Serif\" font-size=\"14.00\">gini = 0.0</text>\n<text text-anchor=\"middle\" x=\"223.5\" y=\"-117.3\" font-family=\"Helvetica,sans-Serif\" font-size=\"14.00\">samples = 0.1%</text>\n<text text-anchor=\"middle\" x=\"223.5\" y=\"-102.3\" font-family=\"Helvetica,sans-Serif\" font-size=\"14.00\">value = [0.0, 1.0]</text>\n<text text-anchor=\"middle\" x=\"223.5\" y=\"-87.3\" font-family=\"Helvetica,sans-Serif\" font-size=\"14.00\">class = True.</text>\n</g>\n<!-- 2&#45;&gt;214 -->\n<g id=\"edge6\" class=\"edge\">\n<title>2&#45;&gt;214</title>\n<path fill=\"none\" stroke=\"black\" d=\"M223.5,-190.91C223.5,-180.2 223.5,-168.62 223.5,-157.78\"/>\n<polygon fill=\"black\" stroke=\"black\" points=\"227,-157.67 223.5,-147.67 220,-157.67 227,-157.67\"/>\n</g>\n<!-- 4 -->\n<g id=\"node5\" class=\"node\">\n<title>4</title>\n<path fill=\"#c0c0c0\" stroke=\"black\" d=\"M52.5,-36C52.5,-36 22.5,-36 22.5,-36 16.5,-36 10.5,-30 10.5,-24 10.5,-24 10.5,-12 10.5,-12 10.5,-6 16.5,0 22.5,0 22.5,0 52.5,0 52.5,0 58.5,0 64.5,-6 64.5,-12 64.5,-12 64.5,-24 64.5,-24 64.5,-30 58.5,-36 52.5,-36\"/>\n<text text-anchor=\"middle\" x=\"37.5\" y=\"-14.3\" font-family=\"Helvetica,sans-Serif\" font-size=\"14.00\">(...)</text>\n</g>\n<!-- 3&#45;&gt;4 -->\n<g id=\"edge4\" class=\"edge\">\n<title>3&#45;&gt;4</title>\n<path fill=\"none\" stroke=\"black\" d=\"M57.81,-71.76C54.46,-63.04 50.99,-54.04 47.89,-45.99\"/>\n<polygon fill=\"black\" stroke=\"black\" points=\"51.06,-44.48 44.2,-36.41 44.53,-46.99 51.06,-44.48\"/>\n</g>\n<!-- 191 -->\n<g id=\"node6\" class=\"node\">\n<title>191</title>\n<path fill=\"#c0c0c0\" stroke=\"black\" d=\"M124.5,-36C124.5,-36 94.5,-36 94.5,-36 88.5,-36 82.5,-30 82.5,-24 82.5,-24 82.5,-12 82.5,-12 82.5,-6 88.5,0 94.5,0 94.5,0 124.5,0 124.5,0 130.5,0 136.5,-6 136.5,-12 136.5,-12 136.5,-24 136.5,-24 136.5,-30 130.5,-36 124.5,-36\"/>\n<text text-anchor=\"middle\" x=\"109.5\" y=\"-14.3\" font-family=\"Helvetica,sans-Serif\" font-size=\"14.00\">(...)</text>\n</g>\n<!-- 3&#45;&gt;191 -->\n<g id=\"edge5\" class=\"edge\">\n<title>3&#45;&gt;191</title>\n<path fill=\"none\" stroke=\"black\" d=\"M89.19,-71.76C92.54,-63.04 96.01,-54.04 99.11,-45.99\"/>\n<polygon fill=\"black\" stroke=\"black\" points=\"102.47,-46.99 102.8,-36.41 95.94,-44.48 102.47,-46.99\"/>\n</g>\n<!-- 216 -->\n<g id=\"node9\" class=\"node\">\n<title>216</title>\n<path fill=\"#f8ddca\" stroke=\"black\" d=\"M435,-155C435,-155 312,-155 312,-155 306,-155 300,-149 300,-143 300,-143 300,-84 300,-84 300,-78 306,-72 312,-72 312,-72 435,-72 435,-72 441,-72 447,-78 447,-84 447,-84 447,-143 447,-143 447,-149 441,-155 435,-155\"/>\n<text text-anchor=\"middle\" x=\"373.5\" y=\"-139.8\" font-family=\"Helvetica,sans-Serif\" font-size=\"14.00\">intl_charge &lt;= 3.445</text>\n<text text-anchor=\"middle\" x=\"373.5\" y=\"-124.8\" font-family=\"Helvetica,sans-Serif\" font-size=\"14.00\">gini = 0.488</text>\n<text text-anchor=\"middle\" x=\"373.5\" y=\"-109.8\" font-family=\"Helvetica,sans-Serif\" font-size=\"14.00\">samples = 2.0%</text>\n<text text-anchor=\"middle\" x=\"373.5\" y=\"-94.8\" font-family=\"Helvetica,sans-Serif\" font-size=\"14.00\">value = [0.578, 0.422]</text>\n<text text-anchor=\"middle\" x=\"373.5\" y=\"-79.8\" font-family=\"Helvetica,sans-Serif\" font-size=\"14.00\">class = False.</text>\n</g>\n<!-- 215&#45;&gt;216 -->\n<g id=\"edge8\" class=\"edge\">\n<title>215&#45;&gt;216</title>\n<path fill=\"none\" stroke=\"black\" d=\"M429.01,-190.91C422.55,-182.01 415.64,-172.51 408.98,-163.33\"/>\n<polygon fill=\"black\" stroke=\"black\" points=\"411.65,-161.05 402.94,-155.02 405.98,-165.17 411.65,-161.05\"/>\n</g>\n<!-- 235 -->\n<g id=\"node12\" class=\"node\">\n<title>235</title>\n<path fill=\"#44a3e7\" stroke=\"black\" d=\"M605.5,-155C605.5,-155 477.5,-155 477.5,-155 471.5,-155 465.5,-149 465.5,-143 465.5,-143 465.5,-84 465.5,-84 465.5,-78 471.5,-72 477.5,-72 477.5,-72 605.5,-72 605.5,-72 611.5,-72 617.5,-78 617.5,-84 617.5,-84 617.5,-143 617.5,-143 617.5,-149 611.5,-155 605.5,-155\"/>\n<text text-anchor=\"middle\" x=\"541.5\" y=\"-139.8\" font-family=\"Helvetica,sans-Serif\" font-size=\"14.00\">eve_charge &lt;= 17.375</text>\n<text text-anchor=\"middle\" x=\"541.5\" y=\"-124.8\" font-family=\"Helvetica,sans-Serif\" font-size=\"14.00\">gini = 0.104</text>\n<text text-anchor=\"middle\" x=\"541.5\" y=\"-109.8\" font-family=\"Helvetica,sans-Serif\" font-size=\"14.00\">samples = 3.1%</text>\n<text text-anchor=\"middle\" x=\"541.5\" y=\"-94.8\" font-family=\"Helvetica,sans-Serif\" font-size=\"14.00\">value = [0.055, 0.945]</text>\n<text text-anchor=\"middle\" x=\"541.5\" y=\"-79.8\" font-family=\"Helvetica,sans-Serif\" font-size=\"14.00\">class = True.</text>\n</g>\n<!-- 215&#45;&gt;235 -->\n<g id=\"edge11\" class=\"edge\">\n<title>215&#45;&gt;235</title>\n<path fill=\"none\" stroke=\"black\" d=\"M487.3,-190.91C493.61,-182.01 500.35,-172.51 506.86,-163.33\"/>\n<polygon fill=\"black\" stroke=\"black\" points=\"509.82,-165.2 512.75,-155.02 504.11,-161.15 509.82,-165.2\"/>\n</g>\n<!-- 217 -->\n<g id=\"node10\" class=\"node\">\n<title>217</title>\n<path fill=\"#c0c0c0\" stroke=\"black\" d=\"M328.5,-36C328.5,-36 298.5,-36 298.5,-36 292.5,-36 286.5,-30 286.5,-24 286.5,-24 286.5,-12 286.5,-12 286.5,-6 292.5,0 298.5,0 298.5,0 328.5,0 328.5,0 334.5,0 340.5,-6 340.5,-12 340.5,-12 340.5,-24 340.5,-24 340.5,-30 334.5,-36 328.5,-36\"/>\n<text text-anchor=\"middle\" x=\"313.5\" y=\"-14.3\" font-family=\"Helvetica,sans-Serif\" font-size=\"14.00\">(...)</text>\n</g>\n<!-- 216&#45;&gt;217 -->\n<g id=\"edge9\" class=\"edge\">\n<title>216&#45;&gt;217</title>\n<path fill=\"none\" stroke=\"black\" d=\"M347.36,-71.76C341.51,-62.65 335.47,-53.24 330.14,-44.92\"/>\n<polygon fill=\"black\" stroke=\"black\" points=\"333.02,-42.93 324.67,-36.41 327.12,-46.71 333.02,-42.93\"/>\n</g>\n<!-- 232 -->\n<g id=\"node11\" class=\"node\">\n<title>232</title>\n<path fill=\"#c0c0c0\" stroke=\"black\" d=\"M400.5,-36C400.5,-36 370.5,-36 370.5,-36 364.5,-36 358.5,-30 358.5,-24 358.5,-24 358.5,-12 358.5,-12 358.5,-6 364.5,0 370.5,0 370.5,0 400.5,0 400.5,0 406.5,0 412.5,-6 412.5,-12 412.5,-12 412.5,-24 412.5,-24 412.5,-30 406.5,-36 400.5,-36\"/>\n<text text-anchor=\"middle\" x=\"385.5\" y=\"-14.3\" font-family=\"Helvetica,sans-Serif\" font-size=\"14.00\">(...)</text>\n</g>\n<!-- 216&#45;&gt;232 -->\n<g id=\"edge10\" class=\"edge\">\n<title>216&#45;&gt;232</title>\n<path fill=\"none\" stroke=\"black\" d=\"M378.73,-71.76C379.82,-63.24 380.95,-54.44 381.97,-46.53\"/>\n<polygon fill=\"black\" stroke=\"black\" points=\"385.46,-46.77 383.27,-36.41 378.52,-45.88 385.46,-46.77\"/>\n</g>\n<!-- 236 -->\n<g id=\"node13\" class=\"node\">\n<title>236</title>\n<path fill=\"#c0c0c0\" stroke=\"black\" d=\"M520.5,-36C520.5,-36 490.5,-36 490.5,-36 484.5,-36 478.5,-30 478.5,-24 478.5,-24 478.5,-12 478.5,-12 478.5,-6 484.5,0 490.5,0 490.5,0 520.5,0 520.5,0 526.5,0 532.5,-6 532.5,-12 532.5,-12 532.5,-24 532.5,-24 532.5,-30 526.5,-36 520.5,-36\"/>\n<text text-anchor=\"middle\" x=\"505.5\" y=\"-14.3\" font-family=\"Helvetica,sans-Serif\" font-size=\"14.00\">(...)</text>\n</g>\n<!-- 235&#45;&gt;236 -->\n<g id=\"edge12\" class=\"edge\">\n<title>235&#45;&gt;236</title>\n<path fill=\"none\" stroke=\"black\" d=\"M525.81,-71.76C522.46,-63.04 518.99,-54.04 515.89,-45.99\"/>\n<polygon fill=\"black\" stroke=\"black\" points=\"519.06,-44.48 512.2,-36.41 512.53,-46.99 519.06,-44.48\"/>\n</g>\n<!-- 241 -->\n<g id=\"node14\" class=\"node\">\n<title>241</title>\n<path fill=\"#c0c0c0\" stroke=\"black\" d=\"M592.5,-36C592.5,-36 562.5,-36 562.5,-36 556.5,-36 550.5,-30 550.5,-24 550.5,-24 550.5,-12 550.5,-12 550.5,-6 556.5,0 562.5,0 562.5,0 592.5,0 592.5,0 598.5,0 604.5,-6 604.5,-12 604.5,-12 604.5,-24 604.5,-24 604.5,-30 598.5,-36 592.5,-36\"/>\n<text text-anchor=\"middle\" x=\"577.5\" y=\"-14.3\" font-family=\"Helvetica,sans-Serif\" font-size=\"14.00\">(...)</text>\n</g>\n<!-- 235&#45;&gt;241 -->\n<g id=\"edge13\" class=\"edge\">\n<title>235&#45;&gt;241</title>\n<path fill=\"none\" stroke=\"black\" d=\"M557.19,-71.76C560.54,-63.04 564.01,-54.04 567.11,-45.99\"/>\n<polygon fill=\"black\" stroke=\"black\" points=\"570.47,-46.99 570.8,-36.41 563.94,-44.48 570.47,-46.99\"/>\n</g>\n<!-- 249 -->\n<g id=\"node16\" class=\"node\">\n<title>249</title>\n<path fill=\"#ffffff\" stroke=\"black\" d=\"M823,-274C823,-274 716,-274 716,-274 710,-274 704,-268 704,-262 704,-262 704,-203 704,-203 704,-197 710,-191 716,-191 716,-191 823,-191 823,-191 829,-191 835,-197 835,-203 835,-203 835,-262 835,-262 835,-268 829,-274 823,-274\"/>\n<text text-anchor=\"middle\" x=\"769.5\" y=\"-258.8\" font-family=\"Helvetica,sans-Serif\" font-size=\"14.00\">night_calls &lt;= 88.0</text>\n<text text-anchor=\"middle\" x=\"769.5\" y=\"-243.8\" font-family=\"Helvetica,sans-Serif\" font-size=\"14.00\">gini = 0.5</text>\n<text text-anchor=\"middle\" x=\"769.5\" y=\"-228.8\" font-family=\"Helvetica,sans-Serif\" font-size=\"14.00\">samples = 0.2%</text>\n<text text-anchor=\"middle\" x=\"769.5\" y=\"-213.8\" font-family=\"Helvetica,sans-Serif\" font-size=\"14.00\">value = [0.5, 0.5]</text>\n<text text-anchor=\"middle\" x=\"769.5\" y=\"-198.8\" font-family=\"Helvetica,sans-Serif\" font-size=\"14.00\">class = False.</text>\n</g>\n<!-- 248&#45;&gt;249 -->\n<g id=\"edge15\" class=\"edge\">\n<title>248&#45;&gt;249</title>\n<path fill=\"none\" stroke=\"black\" d=\"M769.5,-309.91C769.5,-301.65 769.5,-292.86 769.5,-284.3\"/>\n<polygon fill=\"black\" stroke=\"black\" points=\"773,-284.02 769.5,-274.02 766,-284.02 773,-284.02\"/>\n</g>\n<!-- 254 -->\n<g id=\"node21\" class=\"node\">\n<title>254</title>\n<path fill=\"#e88d4d\" stroke=\"black\" d=\"M1069.5,-274C1069.5,-274 961.5,-274 961.5,-274 955.5,-274 949.5,-268 949.5,-262 949.5,-262 949.5,-203 949.5,-203 949.5,-197 955.5,-191 961.5,-191 961.5,-191 1069.5,-191 1069.5,-191 1075.5,-191 1081.5,-197 1081.5,-203 1081.5,-203 1081.5,-262 1081.5,-262 1081.5,-268 1075.5,-274 1069.5,-274\"/>\n<text text-anchor=\"middle\" x=\"1015.5\" y=\"-258.8\" font-family=\"Helvetica,sans-Serif\" font-size=\"14.00\">day_calls &lt;= 79.5</text>\n<text text-anchor=\"middle\" x=\"1015.5\" y=\"-243.8\" font-family=\"Helvetica,sans-Serif\" font-size=\"14.00\">gini = 0.164</text>\n<text text-anchor=\"middle\" x=\"1015.5\" y=\"-228.8\" font-family=\"Helvetica,sans-Serif\" font-size=\"14.00\">samples = 25.8%</text>\n<text text-anchor=\"middle\" x=\"1015.5\" y=\"-213.8\" font-family=\"Helvetica,sans-Serif\" font-size=\"14.00\">value = [0.91, 0.09]</text>\n<text text-anchor=\"middle\" x=\"1015.5\" y=\"-198.8\" font-family=\"Helvetica,sans-Serif\" font-size=\"14.00\">class = False.</text>\n</g>\n<!-- 248&#45;&gt;254 -->\n<g id=\"edge20\" class=\"edge\">\n<title>248&#45;&gt;254</title>\n<path fill=\"none\" stroke=\"black\" d=\"M843.31,-315.4C873.83,-300.88 909.2,-284.06 939.91,-269.45\"/>\n<polygon fill=\"black\" stroke=\"black\" points=\"941.75,-272.45 949.28,-265 938.74,-266.13 941.75,-272.45\"/>\n</g>\n<!-- 250 -->\n<g id=\"node17\" class=\"node\">\n<title>250</title>\n<path fill=\"#e58139\" stroke=\"black\" d=\"M741,-147.5C741,-147.5 648,-147.5 648,-147.5 642,-147.5 636,-141.5 636,-135.5 636,-135.5 636,-91.5 636,-91.5 636,-85.5 642,-79.5 648,-79.5 648,-79.5 741,-79.5 741,-79.5 747,-79.5 753,-85.5 753,-91.5 753,-91.5 753,-135.5 753,-135.5 753,-141.5 747,-147.5 741,-147.5\"/>\n<text text-anchor=\"middle\" x=\"694.5\" y=\"-132.3\" font-family=\"Helvetica,sans-Serif\" font-size=\"14.00\">gini = 0.0</text>\n<text text-anchor=\"middle\" x=\"694.5\" y=\"-117.3\" font-family=\"Helvetica,sans-Serif\" font-size=\"14.00\">samples = 0.1%</text>\n<text text-anchor=\"middle\" x=\"694.5\" y=\"-102.3\" font-family=\"Helvetica,sans-Serif\" font-size=\"14.00\">value = [1.0, 0.0]</text>\n<text text-anchor=\"middle\" x=\"694.5\" y=\"-87.3\" font-family=\"Helvetica,sans-Serif\" font-size=\"14.00\">class = False.</text>\n</g>\n<!-- 249&#45;&gt;250 -->\n<g id=\"edge16\" class=\"edge\">\n<title>249&#45;&gt;250</title>\n<path fill=\"none\" stroke=\"black\" d=\"M743.48,-190.91C736.26,-179.65 728.42,-167.42 721.17,-156.11\"/>\n<polygon fill=\"black\" stroke=\"black\" points=\"724.1,-154.2 715.76,-147.67 718.21,-157.97 724.1,-154.2\"/>\n</g>\n<!-- 251 -->\n<g id=\"node18\" class=\"node\">\n<title>251</title>\n<path fill=\"#9ccef2\" stroke=\"black\" d=\"M906,-155C906,-155 783,-155 783,-155 777,-155 771,-149 771,-143 771,-143 771,-84 771,-84 771,-78 777,-72 783,-72 783,-72 906,-72 906,-72 912,-72 918,-78 918,-84 918,-84 918,-143 918,-143 918,-149 912,-155 906,-155\"/>\n<text text-anchor=\"middle\" x=\"844.5\" y=\"-139.8\" font-family=\"Helvetica,sans-Serif\" font-size=\"14.00\">eve_mins &lt;= 159.75</text>\n<text text-anchor=\"middle\" x=\"844.5\" y=\"-124.8\" font-family=\"Helvetica,sans-Serif\" font-size=\"14.00\">gini = 0.444</text>\n<text text-anchor=\"middle\" x=\"844.5\" y=\"-109.8\" font-family=\"Helvetica,sans-Serif\" font-size=\"14.00\">samples = 0.1%</text>\n<text text-anchor=\"middle\" x=\"844.5\" y=\"-94.8\" font-family=\"Helvetica,sans-Serif\" font-size=\"14.00\">value = [0.333, 0.667]</text>\n<text text-anchor=\"middle\" x=\"844.5\" y=\"-79.8\" font-family=\"Helvetica,sans-Serif\" font-size=\"14.00\">class = True.</text>\n</g>\n<!-- 249&#45;&gt;251 -->\n<g id=\"edge17\" class=\"edge\">\n<title>249&#45;&gt;251</title>\n<path fill=\"none\" stroke=\"black\" d=\"M795.52,-190.91C801.16,-182.1 807.19,-172.7 813.02,-163.61\"/>\n<polygon fill=\"black\" stroke=\"black\" points=\"816.07,-165.33 818.53,-155.02 810.18,-161.55 816.07,-165.33\"/>\n</g>\n<!-- 252 -->\n<g id=\"node19\" class=\"node\">\n<title>252</title>\n<path fill=\"#c0c0c0\" stroke=\"black\" d=\"M800.5,-36C800.5,-36 770.5,-36 770.5,-36 764.5,-36 758.5,-30 758.5,-24 758.5,-24 758.5,-12 758.5,-12 758.5,-6 764.5,0 770.5,0 770.5,0 800.5,0 800.5,0 806.5,0 812.5,-6 812.5,-12 812.5,-12 812.5,-24 812.5,-24 812.5,-30 806.5,-36 800.5,-36\"/>\n<text text-anchor=\"middle\" x=\"785.5\" y=\"-14.3\" font-family=\"Helvetica,sans-Serif\" font-size=\"14.00\">(...)</text>\n</g>\n<!-- 251&#45;&gt;252 -->\n<g id=\"edge18\" class=\"edge\">\n<title>251&#45;&gt;252</title>\n<path fill=\"none\" stroke=\"black\" d=\"M818.79,-71.76C813.05,-62.65 807.1,-53.24 801.86,-44.92\"/>\n<polygon fill=\"black\" stroke=\"black\" points=\"804.78,-42.99 796.48,-36.41 798.86,-46.73 804.78,-42.99\"/>\n</g>\n<!-- 253 -->\n<g id=\"node20\" class=\"node\">\n<title>253</title>\n<path fill=\"#c0c0c0\" stroke=\"black\" d=\"M872.5,-36C872.5,-36 842.5,-36 842.5,-36 836.5,-36 830.5,-30 830.5,-24 830.5,-24 830.5,-12 830.5,-12 830.5,-6 836.5,0 842.5,0 842.5,0 872.5,0 872.5,0 878.5,0 884.5,-6 884.5,-12 884.5,-12 884.5,-24 884.5,-24 884.5,-30 878.5,-36 872.5,-36\"/>\n<text text-anchor=\"middle\" x=\"857.5\" y=\"-14.3\" font-family=\"Helvetica,sans-Serif\" font-size=\"14.00\">(...)</text>\n</g>\n<!-- 251&#45;&gt;253 -->\n<g id=\"edge19\" class=\"edge\">\n<title>251&#45;&gt;253</title>\n<path fill=\"none\" stroke=\"black\" d=\"M850.16,-71.76C851.35,-63.24 852.57,-54.44 853.67,-46.53\"/>\n<polygon fill=\"black\" stroke=\"black\" points=\"857.17,-46.79 855.08,-36.41 850.24,-45.83 857.17,-46.79\"/>\n</g>\n<!-- 255 -->\n<g id=\"node22\" class=\"node\">\n<title>255</title>\n<path fill=\"#e5823b\" stroke=\"black\" d=\"M1082.5,-155C1082.5,-155 948.5,-155 948.5,-155 942.5,-155 936.5,-149 936.5,-143 936.5,-143 936.5,-84 936.5,-84 936.5,-78 942.5,-72 948.5,-72 948.5,-72 1082.5,-72 1082.5,-72 1088.5,-72 1094.5,-78 1094.5,-84 1094.5,-84 1094.5,-143 1094.5,-143 1094.5,-149 1088.5,-155 1082.5,-155\"/>\n<text text-anchor=\"middle\" x=\"1015.5\" y=\"-139.8\" font-family=\"Helvetica,sans-Serif\" font-size=\"14.00\">account_length &lt;= 40.5</text>\n<text text-anchor=\"middle\" x=\"1015.5\" y=\"-124.8\" font-family=\"Helvetica,sans-Serif\" font-size=\"14.00\">gini = 0.022</text>\n<text text-anchor=\"middle\" x=\"1015.5\" y=\"-109.8\" font-family=\"Helvetica,sans-Serif\" font-size=\"14.00\">samples = 3.7%</text>\n<text text-anchor=\"middle\" x=\"1015.5\" y=\"-94.8\" font-family=\"Helvetica,sans-Serif\" font-size=\"14.00\">value = [0.989, 0.011]</text>\n<text text-anchor=\"middle\" x=\"1015.5\" y=\"-79.8\" font-family=\"Helvetica,sans-Serif\" font-size=\"14.00\">class = False.</text>\n</g>\n<!-- 254&#45;&gt;255 -->\n<g id=\"edge21\" class=\"edge\">\n<title>254&#45;&gt;255</title>\n<path fill=\"none\" stroke=\"black\" d=\"M1015.5,-190.91C1015.5,-182.65 1015.5,-173.86 1015.5,-165.3\"/>\n<polygon fill=\"black\" stroke=\"black\" points=\"1019,-165.02 1015.5,-155.02 1012,-165.02 1019,-165.02\"/>\n</g>\n<!-- 260 -->\n<g id=\"node25\" class=\"node\">\n<title>260</title>\n<path fill=\"#e89050\" stroke=\"black\" d=\"M1248,-155C1248,-155 1125,-155 1125,-155 1119,-155 1113,-149 1113,-143 1113,-143 1113,-84 1113,-84 1113,-78 1119,-72 1125,-72 1125,-72 1248,-72 1248,-72 1254,-72 1260,-78 1260,-84 1260,-84 1260,-143 1260,-143 1260,-149 1254,-155 1248,-155\"/>\n<text text-anchor=\"middle\" x=\"1186.5\" y=\"-139.8\" font-family=\"Helvetica,sans-Serif\" font-size=\"14.00\">intl_plan_no &lt;= 0.5</text>\n<text text-anchor=\"middle\" x=\"1186.5\" y=\"-124.8\" font-family=\"Helvetica,sans-Serif\" font-size=\"14.00\">gini = 0.186</text>\n<text text-anchor=\"middle\" x=\"1186.5\" y=\"-109.8\" font-family=\"Helvetica,sans-Serif\" font-size=\"14.00\">samples = 22.1%</text>\n<text text-anchor=\"middle\" x=\"1186.5\" y=\"-94.8\" font-family=\"Helvetica,sans-Serif\" font-size=\"14.00\">value = [0.896, 0.104]</text>\n<text text-anchor=\"middle\" x=\"1186.5\" y=\"-79.8\" font-family=\"Helvetica,sans-Serif\" font-size=\"14.00\">class = False.</text>\n</g>\n<!-- 254&#45;&gt;260 -->\n<g id=\"edge24\" class=\"edge\">\n<title>254&#45;&gt;260</title>\n<path fill=\"none\" stroke=\"black\" d=\"M1074.83,-190.91C1089.02,-181.2 1104.28,-170.76 1118.81,-160.81\"/>\n<polygon fill=\"black\" stroke=\"black\" points=\"1121,-163.56 1127.28,-155.02 1117.05,-157.78 1121,-163.56\"/>\n</g>\n<!-- 256 -->\n<g id=\"node23\" class=\"node\">\n<title>256</title>\n<path fill=\"#c0c0c0\" stroke=\"black\" d=\"M989.5,-36C989.5,-36 959.5,-36 959.5,-36 953.5,-36 947.5,-30 947.5,-24 947.5,-24 947.5,-12 947.5,-12 947.5,-6 953.5,0 959.5,0 959.5,0 989.5,0 989.5,0 995.5,0 1001.5,-6 1001.5,-12 1001.5,-12 1001.5,-24 1001.5,-24 1001.5,-30 995.5,-36 989.5,-36\"/>\n<text text-anchor=\"middle\" x=\"974.5\" y=\"-14.3\" font-family=\"Helvetica,sans-Serif\" font-size=\"14.00\">(...)</text>\n</g>\n<!-- 255&#45;&gt;256 -->\n<g id=\"edge22\" class=\"edge\">\n<title>255&#45;&gt;256</title>\n<path fill=\"none\" stroke=\"black\" d=\"M997.64,-71.76C993.77,-62.94 989.78,-53.84 986.22,-45.72\"/>\n<polygon fill=\"black\" stroke=\"black\" points=\"989.35,-44.16 982.13,-36.41 982.94,-46.97 989.35,-44.16\"/>\n</g>\n<!-- 259 -->\n<g id=\"node24\" class=\"node\">\n<title>259</title>\n<path fill=\"#c0c0c0\" stroke=\"black\" d=\"M1061.5,-36C1061.5,-36 1031.5,-36 1031.5,-36 1025.5,-36 1019.5,-30 1019.5,-24 1019.5,-24 1019.5,-12 1019.5,-12 1019.5,-6 1025.5,0 1031.5,0 1031.5,0 1061.5,0 1061.5,0 1067.5,0 1073.5,-6 1073.5,-12 1073.5,-12 1073.5,-24 1073.5,-24 1073.5,-30 1067.5,-36 1061.5,-36\"/>\n<text text-anchor=\"middle\" x=\"1046.5\" y=\"-14.3\" font-family=\"Helvetica,sans-Serif\" font-size=\"14.00\">(...)</text>\n</g>\n<!-- 255&#45;&gt;259 -->\n<g id=\"edge23\" class=\"edge\">\n<title>255&#45;&gt;259</title>\n<path fill=\"none\" stroke=\"black\" d=\"M1029.01,-71.76C1031.9,-63.04 1034.88,-54.04 1037.55,-45.99\"/>\n<polygon fill=\"black\" stroke=\"black\" points=\"1040.9,-47 1040.73,-36.41 1034.26,-44.8 1040.9,-47\"/>\n</g>\n<!-- 261 -->\n<g id=\"node26\" class=\"node\">\n<title>261</title>\n<path fill=\"#c0c0c0\" stroke=\"black\" d=\"M1165.5,-36C1165.5,-36 1135.5,-36 1135.5,-36 1129.5,-36 1123.5,-30 1123.5,-24 1123.5,-24 1123.5,-12 1123.5,-12 1123.5,-6 1129.5,0 1135.5,0 1135.5,0 1165.5,0 1165.5,0 1171.5,0 1177.5,-6 1177.5,-12 1177.5,-12 1177.5,-24 1177.5,-24 1177.5,-30 1171.5,-36 1165.5,-36\"/>\n<text text-anchor=\"middle\" x=\"1150.5\" y=\"-14.3\" font-family=\"Helvetica,sans-Serif\" font-size=\"14.00\">(...)</text>\n</g>\n<!-- 260&#45;&gt;261 -->\n<g id=\"edge25\" class=\"edge\">\n<title>260&#45;&gt;261</title>\n<path fill=\"none\" stroke=\"black\" d=\"M1170.81,-71.76C1167.46,-63.04 1163.99,-54.04 1160.89,-45.99\"/>\n<polygon fill=\"black\" stroke=\"black\" points=\"1164.06,-44.48 1157.2,-36.41 1157.53,-46.99 1164.06,-44.48\"/>\n</g>\n<!-- 274 -->\n<g id=\"node27\" class=\"node\">\n<title>274</title>\n<path fill=\"#c0c0c0\" stroke=\"black\" d=\"M1237.5,-36C1237.5,-36 1207.5,-36 1207.5,-36 1201.5,-36 1195.5,-30 1195.5,-24 1195.5,-24 1195.5,-12 1195.5,-12 1195.5,-6 1201.5,0 1207.5,0 1207.5,0 1237.5,0 1237.5,0 1243.5,0 1249.5,-6 1249.5,-12 1249.5,-12 1249.5,-24 1249.5,-24 1249.5,-30 1243.5,-36 1237.5,-36\"/>\n<text text-anchor=\"middle\" x=\"1222.5\" y=\"-14.3\" font-family=\"Helvetica,sans-Serif\" font-size=\"14.00\">(...)</text>\n</g>\n<!-- 260&#45;&gt;274 -->\n<g id=\"edge26\" class=\"edge\">\n<title>260&#45;&gt;274</title>\n<path fill=\"none\" stroke=\"black\" d=\"M1202.19,-71.76C1205.54,-63.04 1209.01,-54.04 1212.11,-45.99\"/>\n<polygon fill=\"black\" stroke=\"black\" points=\"1215.47,-46.99 1215.8,-36.41 1208.94,-44.48 1215.47,-46.99\"/>\n</g>\n</g>\n</svg>\n",
            "text/plain": [
              "<graphviz.sources.Source at 0x78ca6fff4dc0>"
            ]
          },
          "metadata": {},
          "execution_count": 64
        }
      ],
      "source": [
        "dot_data = tree.export_graphviz(estimators[3],\n",
        "                                out_file=None,\n",
        "                                feature_names=feature_names,\n",
        "                                class_names = [\"False.\", \"True.\"],\n",
        "                                filled=True,\n",
        "                                max_depth=3,\n",
        "                                impurity=True,\n",
        "                                proportion=True,\n",
        "                                rounded=True,\n",
        "                                  special_characters=False)\n",
        "graph = graphviz.Source(dot_data)\n",
        "graph\n",
        "\n"
      ]
    },
    {
      "cell_type": "code",
      "execution_count": 64,
      "metadata": {
        "id": "VADkKODR1Fl6"
      },
      "outputs": [],
      "source": []
    }
  ],
  "metadata": {
    "kernelspec": {
      "display_name": "Python 3",
      "language": "python",
      "name": "python3"
    },
    "language_info": {
      "codemirror_mode": {
        "name": "ipython",
        "version": 3
      },
      "file_extension": ".py",
      "mimetype": "text/x-python",
      "name": "python",
      "nbconvert_exporter": "python",
      "pygments_lexer": "ipython3",
      "version": "3.8.5"
    },
    "colab": {
      "provenance": [],
      "include_colab_link": true
    }
  },
  "nbformat": 4,
  "nbformat_minor": 0
}
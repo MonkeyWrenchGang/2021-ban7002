{
  "nbformat": 4,
  "nbformat_minor": 0,
  "metadata": {
    "colab": {
      "provenance": [],
      "authorship_tag": "ABX9TyOdnk1/JJDYkbnH0+SnwU/+",
      "include_colab_link": true
    },
    "kernelspec": {
      "name": "python3",
      "display_name": "Python 3"
    },
    "language_info": {
      "name": "python"
    }
  },
  "cells": [
    {
      "cell_type": "markdown",
      "metadata": {
        "id": "view-in-github",
        "colab_type": "text"
      },
      "source": [
        "<a href=\"https://colab.research.google.com/github/MonkeyWrenchGang/2021-ban7002/blob/main/Week_5_Beer_Recommender.ipynb\" target=\"_parent\"><img src=\"https://colab.research.google.com/assets/colab-badge.svg\" alt=\"Open In Colab\"/></a>"
      ]
    },
    {
      "cell_type": "markdown",
      "source": [
        "# Beer Recommendation System Using a Simple Collaborative Filter\n",
        "\n",
        "In this notebook, we'll create a simple beer recommendation system using a form of collaborative filtering. The underlying assumption of our approach is that if a user (let's call them User A) rates beers similarly to another user (User B), User A is likely to rate beers that they haven't tried yet in the same way that User B has.\n",
        "\n",
        "**Our dataset a sample from beer advocate includes beer reviews with the following columns:**\n",
        "\n",
        "- reviewer: The username of the person who left the review.\n",
        "- beer: The name of the beer being reviewed.\n",
        "- beer_full_name: The name of the brewery: beer name being reviewed.\n",
        "- rating: The rating given by the reviewer, on a scale of 1 to 5."
      ],
      "metadata": {
        "id": "zQwmeqQs3rIe"
      }
    },
    {
      "cell_type": "code",
      "execution_count": null,
      "metadata": {
        "id": "lG7a8yAUxD7I"
      },
      "outputs": [],
      "source": [
        "import pandas as pd\n",
        "import seaborn as sns"
      ]
    },
    {
      "cell_type": "code",
      "source": [
        "beer = pd.read_csv(\"https://raw.githubusercontent.com/MonkeyWrenchGang/2023_BAN6005/main/module_4/data/beer_reviews_sample.csv\")\n",
        "beer.head()"
      ],
      "metadata": {
        "id": "US3C3qNWxHYB"
      },
      "execution_count": null,
      "outputs": []
    },
    {
      "cell_type": "markdown",
      "source": [
        "# Distribution of Ratings"
      ],
      "metadata": {
        "id": "EwyXEXyzy5UC"
      }
    },
    {
      "cell_type": "code",
      "source": [
        "sns.countplot(beer,x='rating', color='lightblue')"
      ],
      "metadata": {
        "id": "190cyUsQy5e-"
      },
      "execution_count": null,
      "outputs": []
    },
    {
      "cell_type": "markdown",
      "source": [
        "# Make a Pivot Table\n",
        "\n",
        "\n",
        "---\n",
        "\n",
        "The pivot table will drive the recomendations.\n",
        "\n",
        "- each row is a reviewer\n",
        "- each column is a beer\n",
        "- values is the average rating by the user.\n",
        "\n",
        "> note we need the nulls! as you'll see later.\n"
      ],
      "metadata": {
        "id": "KXxCg1jCy5nT"
      }
    },
    {
      "cell_type": "code",
      "source": [
        "pivot_table = beer.pivot_table(\n",
        "    index='reviewer',\n",
        "    columns='full_beer_name',\n",
        "    values='rating')\n",
        "\n",
        "pivot_table.head()"
      ],
      "metadata": {
        "id": "ZK7cjbkpy5tj"
      },
      "execution_count": null,
      "outputs": []
    },
    {
      "cell_type": "markdown",
      "source": [
        "## What is the MEAN rating for each Beer?\n"
      ],
      "metadata": {
        "id": "Tvn1COJPy502"
      }
    },
    {
      "cell_type": "code",
      "source": [
        "# Calculate mean rating of each beer\n",
        "mean_ratings = pivot_table.mean()\n",
        "mean_ratings.nlargest(10)"
      ],
      "metadata": {
        "id": "A5VgoyPtz3W2"
      },
      "execution_count": null,
      "outputs": []
    },
    {
      "cell_type": "markdown",
      "source": [
        "## Get the Ratings for a User!"
      ],
      "metadata": {
        "id": "TyWDVpwm0Om-"
      }
    },
    {
      "cell_type": "code",
      "source": [
        "beer['reviewer'].value_counts()"
      ],
      "metadata": {
        "id": "f7mRoT0e0WgF"
      },
      "execution_count": null,
      "outputs": []
    },
    {
      "cell_type": "code",
      "source": [
        "user = 'BuckeyeNation'\n",
        "# Get ALL the beers reviewed and not reviewed by our user\n",
        "user_reviews = pivot_table.loc[user]\n",
        "user_reviews"
      ],
      "metadata": {
        "id": "ObT36b6Q0Rk8"
      },
      "execution_count": null,
      "outputs": []
    },
    {
      "cell_type": "markdown",
      "source": [
        "## Not Reviewed\n"
      ],
      "metadata": {
        "id": "Et3pO75r0lKW"
      }
    },
    {
      "cell_type": "code",
      "source": [
        "# Get the beers not yet rated by our user\n",
        "not_reviewed = user_reviews[user_reviews.isna()]\n",
        "not_reviewed"
      ],
      "metadata": {
        "id": "-sYCXKBd0mwI"
      },
      "execution_count": null,
      "outputs": []
    },
    {
      "cell_type": "markdown",
      "source": [
        "# Get Recomendations\n",
        "---\n",
        "these are highly rated beers not reviewed by the user."
      ],
      "metadata": {
        "id": "f7SJUcwU0qzv"
      }
    },
    {
      "cell_type": "code",
      "source": [
        "# Get the mean ratings of the beers not yet rated by the user\n",
        "recommendations = mean_ratings[not_reviewed.index]\n",
        "recommendations.nlargest(10)"
      ],
      "metadata": {
        "id": "ZlMf06aa0rQf"
      },
      "execution_count": null,
      "outputs": []
    },
    {
      "cell_type": "markdown",
      "source": [
        "## Add something little fancy\n",
        "\n",
        "\n",
        "---\n",
        "\n",
        "how about getting the top 20 beers and randomly selecting 5 of those.\n",
        "\n",
        "\n"
      ],
      "metadata": {
        "id": "99gVGBIi08ew"
      }
    },
    {
      "cell_type": "code",
      "source": [
        "recommendations.nlargest(20).sample(5)"
      ],
      "metadata": {
        "id": "Ft3_TrVZ1GZb"
      },
      "execution_count": null,
      "outputs": []
    },
    {
      "cell_type": "markdown",
      "source": [
        "## Pull it all together\n",
        "\n",
        "\n",
        "\n",
        "---\n",
        "\n"
      ],
      "metadata": {
        "id": "1_ECQE6j1Qq7"
      }
    },
    {
      "cell_type": "code",
      "source": [
        "user = 'BuckeyeNation'\n",
        "# Get ALL the beers reviewed and not reviewed by our user\n",
        "user_reviews = pivot_table.loc[user]\n",
        "# Get the beers not yet rated by our user\n",
        "not_reviewed = user_reviews[user_reviews.isna()]\n",
        "recommendations = mean_ratings[not_reviewed.index]\n",
        "recommendations.nlargest(20).sample(5)\n",
        "\n"
      ],
      "metadata": {
        "id": "M2U80EHt1O3B"
      },
      "execution_count": null,
      "outputs": []
    },
    {
      "cell_type": "markdown",
      "source": [
        "# Make a Function"
      ],
      "metadata": {
        "id": "HdU4Z4ed1jc2"
      }
    },
    {
      "cell_type": "code",
      "source": [
        "def beer_recomender():\n",
        "  user = 'BuckeyeNation'\n",
        "  # Get ALL the beers reviewed and not reviewed by our user\n",
        "  user_reviews = pivot_table.loc[user]\n",
        "  # Get the beers not yet rated by our user\n",
        "  not_reviewed = user_reviews[user_reviews.isna()]\n",
        "  recommendations = mean_ratings[not_reviewed.index]\n",
        "  return recommendations.nlargest(20).sample(5)\n",
        "\n",
        "beer_recomender()"
      ],
      "metadata": {
        "id": "fNAUYcNl1lmF"
      },
      "execution_count": null,
      "outputs": []
    },
    {
      "cell_type": "code",
      "source": [
        "# add parameters\n",
        "def beer_recomender(user):\n",
        "  #user = 'BuckeyeNation'\n",
        "  # Get ALL the beers reviewed and not reviewed by our user\n",
        "  user_reviews = pivot_table.loc[user]\n",
        "  # Get the beers not yet rated by our user\n",
        "  not_reviewed = user_reviews[user_reviews.isna()]\n",
        "  recommendations = mean_ratings[not_reviewed.index]\n",
        "  return recommendations.nlargest(20).sample(5)\n",
        "\n",
        "beer_recomender(user='BuckeyeNation')"
      ],
      "metadata": {
        "id": "CZ5ZPVEa1yPO"
      },
      "execution_count": null,
      "outputs": []
    },
    {
      "cell_type": "code",
      "source": [
        "beer_recomender(user='mikesgroove')"
      ],
      "metadata": {
        "id": "P_GHl3ro15dd"
      },
      "execution_count": null,
      "outputs": []
    },
    {
      "cell_type": "markdown",
      "source": [
        "# what happens if the user isn't in the data?\n",
        "---\n",
        "return the top N beers."
      ],
      "metadata": {
        "id": "dJzIK1n42BDv"
      }
    },
    {
      "cell_type": "code",
      "source": [
        "def beer_recomender(user):\n",
        "  pivot_table = beer.pivot_table(\n",
        "    index='reviewer',\n",
        "    columns='full_beer_name',\n",
        "    values='rating')\n",
        "  mean_ratings = pivot_table.mean()\n",
        "  # Get ALL the beers reviewed and not reviewed by our user\n",
        "  if user not in pivot_table.index:\n",
        "    print(f\"user {user} not found returning top N\")\n",
        "    return mean_ratings.nlargest(20).sample(5)\n",
        "  else:\n",
        "    user_reviews = pivot_table.loc[user]\n",
        "    # Get the beers not yet rated by our user\n",
        "    not_reviewed = user_reviews[user_reviews.isna()]\n",
        "    recommendations = mean_ratings[not_reviewed.index]\n",
        "    return recommendations.nlargest(20).sample(5)\n",
        "\n",
        "\n",
        "beer_recomender('BuckeyeNation')"
      ],
      "metadata": {
        "id": "HOMmSeYE2ICl"
      },
      "execution_count": null,
      "outputs": []
    },
    {
      "cell_type": "code",
      "source": [
        "beer_recomender(user='Random')"
      ],
      "metadata": {
        "id": "xjHZYxhI2Zxt"
      },
      "execution_count": null,
      "outputs": []
    }
  ]
}